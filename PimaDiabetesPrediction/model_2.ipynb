{
 "cells": [
  {
   "cell_type": "code",
   "execution_count": 1,
   "metadata": {},
   "outputs": [],
   "source": [
    "import pandas as pd\n",
    "import numpy as np\n",
    "from cmdstanpy import CmdStanModel\n",
    "from sklearn.metrics import  roc_curve, auc ,accuracy_score, precision_score, recall_score, f1_score, confusion_matrix\n",
    "import matplotlib.pyplot as plt\n",
    "import seaborn as sns\n",
    "%matplotlib inline\n",
    "sns.set(color_codes = True)"
   ]
  },
  {
   "cell_type": "code",
   "execution_count": 2,
   "metadata": {},
   "outputs": [],
   "source": [
    "pima = pd.read_csv('Data/diabetes.csv', sep=';')\n",
    "df = pd.read_csv('Data/diabetes_pt1.csv', sep=';')\n",
    "df_test = pd.read_csv('Data/diabetes_pt2.csv', sep=';')"
   ]
  },
  {
   "cell_type": "code",
   "execution_count": 3,
   "metadata": {},
   "outputs": [],
   "source": [
    "feature_columns = ['Glucose', 'Age', 'BMI', 'BloodPressure', 'Insulin', 'DiabetesPedigreeFunction']\n",
    "\n",
    "stan2_data = {\n",
    "    'N': len(df),\n",
    "    'X': df[feature_columns].values,\n",
    "    'y': df['Outcome'].values\n",
    "}\n",
    "\n",
    "test2_data = {\n",
    "    'N': len(df_test),\n",
    "    'X': df_test[feature_columns].values,\n",
    "    'y': df_test['Outcome'].values\n",
    "}"
   ]
  },
  {
   "cell_type": "code",
   "execution_count": 4,
   "metadata": {},
   "outputs": [
    {
     "name": "stderr",
     "output_type": "stream",
     "text": [
      "INFO:cmdstanpy:found newer exe file, not recompiling\n",
      "INFO:cmdstanpy:CmdStan start processing\n"
     ]
    },
    {
     "data": {
      "application/json": {
       "ascii": false,
       "bar_format": "{desc} |{bar}| {elapsed} {postfix[0][value]}",
       "colour": null,
       "elapsed": 0.0057179927825927734,
       "initial": 0,
       "n": 0,
       "ncols": null,
       "nrows": null,
       "postfix": [
        {
         "value": "Status"
        }
       ],
       "prefix": "chain 1",
       "rate": null,
       "total": 32,
       "unit": "it",
       "unit_divisor": 1000,
       "unit_scale": false
      },
      "application/vnd.jupyter.widget-view+json": {
       "model_id": "e8ed56da74944366ad88452e023d830e",
       "version_major": 2,
       "version_minor": 0
      },
      "text/plain": [
       "chain 1 |          | 00:00 Status"
      ]
     },
     "metadata": {},
     "output_type": "display_data"
    },
    {
     "data": {
      "application/json": {
       "ascii": false,
       "bar_format": "{desc} |{bar}| {elapsed} {postfix[0][value]}",
       "colour": null,
       "elapsed": 0.0054187774658203125,
       "initial": 0,
       "n": 0,
       "ncols": null,
       "nrows": null,
       "postfix": [
        {
         "value": "Status"
        }
       ],
       "prefix": "chain 2",
       "rate": null,
       "total": 32,
       "unit": "it",
       "unit_divisor": 1000,
       "unit_scale": false
      },
      "application/vnd.jupyter.widget-view+json": {
       "model_id": "ca38190eab5147b9957c9f365c62aa4d",
       "version_major": 2,
       "version_minor": 0
      },
      "text/plain": [
       "chain 2 |          | 00:00 Status"
      ]
     },
     "metadata": {},
     "output_type": "display_data"
    },
    {
     "data": {
      "application/json": {
       "ascii": false,
       "bar_format": "{desc} |{bar}| {elapsed} {postfix[0][value]}",
       "colour": null,
       "elapsed": 0.0057260990142822266,
       "initial": 0,
       "n": 0,
       "ncols": null,
       "nrows": null,
       "postfix": [
        {
         "value": "Status"
        }
       ],
       "prefix": "chain 3",
       "rate": null,
       "total": 32,
       "unit": "it",
       "unit_divisor": 1000,
       "unit_scale": false
      },
      "application/vnd.jupyter.widget-view+json": {
       "model_id": "46eac2df1b484dfdab97b04e88e6a676",
       "version_major": 2,
       "version_minor": 0
      },
      "text/plain": [
       "chain 3 |          | 00:00 Status"
      ]
     },
     "metadata": {},
     "output_type": "display_data"
    },
    {
     "data": {
      "application/json": {
       "ascii": false,
       "bar_format": "{desc} |{bar}| {elapsed} {postfix[0][value]}",
       "colour": null,
       "elapsed": 0.006047248840332031,
       "initial": 0,
       "n": 0,
       "ncols": null,
       "nrows": null,
       "postfix": [
        {
         "value": "Status"
        }
       ],
       "prefix": "chain 4",
       "rate": null,
       "total": 32,
       "unit": "it",
       "unit_divisor": 1000,
       "unit_scale": false
      },
      "application/vnd.jupyter.widget-view+json": {
       "model_id": "d8b14edeb8c7499680fba336769ae7bb",
       "version_major": 2,
       "version_minor": 0
      },
      "text/plain": [
       "chain 4 |          | 00:00 Status"
      ]
     },
     "metadata": {},
     "output_type": "display_data"
    },
    {
     "name": "stdout",
     "output_type": "stream",
     "text": [
      "                                                                                                                                                                                                                                                                                                                                "
     ]
    },
    {
     "name": "stderr",
     "output_type": "stream",
     "text": [
      "INFO:cmdstanpy:CmdStan done processing.\n"
     ]
    },
    {
     "name": "stdout",
     "output_type": "stream",
     "text": [
      "\n"
     ]
    },
    {
     "data": {
      "text/html": [
       "<div>\n",
       "<style scoped>\n",
       "    .dataframe tbody tr th:only-of-type {\n",
       "        vertical-align: middle;\n",
       "    }\n",
       "\n",
       "    .dataframe tbody tr th {\n",
       "        vertical-align: top;\n",
       "    }\n",
       "\n",
       "    .dataframe thead th {\n",
       "        text-align: right;\n",
       "    }\n",
       "</style>\n",
       "<table border=\"1\" class=\"dataframe\">\n",
       "  <thead>\n",
       "    <tr style=\"text-align: right;\">\n",
       "      <th></th>\n",
       "      <th>lp__</th>\n",
       "      <th>accept_stat__</th>\n",
       "      <th>stepsize__</th>\n",
       "      <th>treedepth__</th>\n",
       "      <th>n_leapfrog__</th>\n",
       "      <th>divergent__</th>\n",
       "      <th>energy__</th>\n",
       "      <th>alpha</th>\n",
       "      <th>beta_glucose</th>\n",
       "      <th>beta_bmi</th>\n",
       "      <th>...</th>\n",
       "      <th>log_lik[284]</th>\n",
       "      <th>log_lik[285]</th>\n",
       "      <th>log_lik[286]</th>\n",
       "      <th>log_lik[287]</th>\n",
       "      <th>log_lik[288]</th>\n",
       "      <th>log_lik[289]</th>\n",
       "      <th>log_lik[290]</th>\n",
       "      <th>log_lik[291]</th>\n",
       "      <th>log_lik[292]</th>\n",
       "      <th>log_lik[293]</th>\n",
       "    </tr>\n",
       "  </thead>\n",
       "  <tbody>\n",
       "    <tr>\n",
       "      <th>0</th>\n",
       "      <td>-192.220</td>\n",
       "      <td>0.866459</td>\n",
       "      <td>0.074294</td>\n",
       "      <td>5.0</td>\n",
       "      <td>63.0</td>\n",
       "      <td>0.0</td>\n",
       "      <td>200.231</td>\n",
       "      <td>-3.28121</td>\n",
       "      <td>0.013900</td>\n",
       "      <td>0.018756</td>\n",
       "      <td>...</td>\n",
       "      <td>-0.461033</td>\n",
       "      <td>-0.857550</td>\n",
       "      <td>-0.229817</td>\n",
       "      <td>-0.195042</td>\n",
       "      <td>-0.293922</td>\n",
       "      <td>-0.551149</td>\n",
       "      <td>-0.306545</td>\n",
       "      <td>-0.221027</td>\n",
       "      <td>-0.319259</td>\n",
       "      <td>-0.276180</td>\n",
       "    </tr>\n",
       "    <tr>\n",
       "      <th>1</th>\n",
       "      <td>-189.069</td>\n",
       "      <td>0.990165</td>\n",
       "      <td>0.074294</td>\n",
       "      <td>5.0</td>\n",
       "      <td>31.0</td>\n",
       "      <td>0.0</td>\n",
       "      <td>194.989</td>\n",
       "      <td>-4.09542</td>\n",
       "      <td>0.019138</td>\n",
       "      <td>0.031998</td>\n",
       "      <td>...</td>\n",
       "      <td>-0.352631</td>\n",
       "      <td>-0.668793</td>\n",
       "      <td>-0.156969</td>\n",
       "      <td>-0.146776</td>\n",
       "      <td>-0.200330</td>\n",
       "      <td>-0.312390</td>\n",
       "      <td>-0.312914</td>\n",
       "      <td>-0.172410</td>\n",
       "      <td>-0.212124</td>\n",
       "      <td>-0.198279</td>\n",
       "    </tr>\n",
       "    <tr>\n",
       "      <th>2</th>\n",
       "      <td>-189.511</td>\n",
       "      <td>0.998848</td>\n",
       "      <td>0.074294</td>\n",
       "      <td>6.0</td>\n",
       "      <td>63.0</td>\n",
       "      <td>0.0</td>\n",
       "      <td>192.768</td>\n",
       "      <td>-4.99083</td>\n",
       "      <td>0.028140</td>\n",
       "      <td>0.025618</td>\n",
       "      <td>...</td>\n",
       "      <td>-0.396832</td>\n",
       "      <td>-1.062310</td>\n",
       "      <td>-0.174717</td>\n",
       "      <td>-0.179688</td>\n",
       "      <td>-0.186647</td>\n",
       "      <td>-0.286922</td>\n",
       "      <td>-0.198878</td>\n",
       "      <td>-0.192256</td>\n",
       "      <td>-0.254648</td>\n",
       "      <td>-0.245818</td>\n",
       "    </tr>\n",
       "    <tr>\n",
       "      <th>3</th>\n",
       "      <td>-189.615</td>\n",
       "      <td>0.999886</td>\n",
       "      <td>0.074294</td>\n",
       "      <td>5.0</td>\n",
       "      <td>31.0</td>\n",
       "      <td>0.0</td>\n",
       "      <td>190.580</td>\n",
       "      <td>-4.95950</td>\n",
       "      <td>0.028036</td>\n",
       "      <td>0.026202</td>\n",
       "      <td>...</td>\n",
       "      <td>-0.390811</td>\n",
       "      <td>-1.035080</td>\n",
       "      <td>-0.174950</td>\n",
       "      <td>-0.179141</td>\n",
       "      <td>-0.186929</td>\n",
       "      <td>-0.280350</td>\n",
       "      <td>-0.199183</td>\n",
       "      <td>-0.191655</td>\n",
       "      <td>-0.253252</td>\n",
       "      <td>-0.249059</td>\n",
       "    </tr>\n",
       "    <tr>\n",
       "      <th>4</th>\n",
       "      <td>-188.093</td>\n",
       "      <td>0.854721</td>\n",
       "      <td>0.074294</td>\n",
       "      <td>5.0</td>\n",
       "      <td>31.0</td>\n",
       "      <td>0.0</td>\n",
       "      <td>192.322</td>\n",
       "      <td>-5.10434</td>\n",
       "      <td>0.028282</td>\n",
       "      <td>0.042260</td>\n",
       "      <td>...</td>\n",
       "      <td>-0.387304</td>\n",
       "      <td>-0.907935</td>\n",
       "      <td>-0.139252</td>\n",
       "      <td>-0.147628</td>\n",
       "      <td>-0.173831</td>\n",
       "      <td>-0.255890</td>\n",
       "      <td>-0.183472</td>\n",
       "      <td>-0.174550</td>\n",
       "      <td>-0.203278</td>\n",
       "      <td>-0.189335</td>\n",
       "    </tr>\n",
       "  </tbody>\n",
       "</table>\n",
       "<p>5 rows × 307 columns</p>\n",
       "</div>"
      ],
      "text/plain": [
       "      lp__  accept_stat__  stepsize__  treedepth__  n_leapfrog__  divergent__  \\\n",
       "0 -192.220       0.866459    0.074294          5.0          63.0          0.0   \n",
       "1 -189.069       0.990165    0.074294          5.0          31.0          0.0   \n",
       "2 -189.511       0.998848    0.074294          6.0          63.0          0.0   \n",
       "3 -189.615       0.999886    0.074294          5.0          31.0          0.0   \n",
       "4 -188.093       0.854721    0.074294          5.0          31.0          0.0   \n",
       "\n",
       "   energy__    alpha  beta_glucose  beta_bmi  ...  log_lik[284]  log_lik[285]  \\\n",
       "0   200.231 -3.28121      0.013900  0.018756  ...     -0.461033     -0.857550   \n",
       "1   194.989 -4.09542      0.019138  0.031998  ...     -0.352631     -0.668793   \n",
       "2   192.768 -4.99083      0.028140  0.025618  ...     -0.396832     -1.062310   \n",
       "3   190.580 -4.95950      0.028036  0.026202  ...     -0.390811     -1.035080   \n",
       "4   192.322 -5.10434      0.028282  0.042260  ...     -0.387304     -0.907935   \n",
       "\n",
       "   log_lik[286]  log_lik[287]  log_lik[288]  log_lik[289]  log_lik[290]  \\\n",
       "0     -0.229817     -0.195042     -0.293922     -0.551149     -0.306545   \n",
       "1     -0.156969     -0.146776     -0.200330     -0.312390     -0.312914   \n",
       "2     -0.174717     -0.179688     -0.186647     -0.286922     -0.198878   \n",
       "3     -0.174950     -0.179141     -0.186929     -0.280350     -0.199183   \n",
       "4     -0.139252     -0.147628     -0.173831     -0.255890     -0.183472   \n",
       "\n",
       "   log_lik[291]  log_lik[292]  log_lik[293]  \n",
       "0     -0.221027     -0.319259     -0.276180  \n",
       "1     -0.172410     -0.212124     -0.198279  \n",
       "2     -0.192256     -0.254648     -0.245818  \n",
       "3     -0.191655     -0.253252     -0.249059  \n",
       "4     -0.174550     -0.203278     -0.189335  \n",
       "\n",
       "[5 rows x 307 columns]"
      ]
     },
     "execution_count": 4,
     "metadata": {},
     "output_type": "execute_result"
    }
   ],
   "source": [
    "sm2 = CmdStanModel(stan_file='Stan/code_2.stan')\n",
    "\n",
    "fit2 = sm2.sample(data=stan2_data, iter_sampling=2000, chains=4, iter_warmup=1000)\n",
    "df3 = fit2.draws_pd()\n",
    "df3.head()"
   ]
  },
  {
   "cell_type": "code",
   "execution_count": 5,
   "metadata": {},
   "outputs": [],
   "source": [
    "alpha_mean = df3['alpha'].mean()\n",
    "beta_glucose_mean = df3['beta_glucose'].mean()\n",
    "beta_age_mean = df3['beta_age'].mean()\n",
    "beta_bmi_mean = df3['beta_bmi'].mean()\n",
    "beta_bp_mean = df3['beta_bp'].mean()\n",
    "beta_insulin_mean = df3['beta_insulin'].mean()\n",
    "beta_dpf_mean = df3['beta_dpf'].mean()"
   ]
  },
  {
   "cell_type": "code",
   "execution_count": 6,
   "metadata": {},
   "outputs": [
    {
     "name": "stdout",
     "output_type": "stream",
     "text": [
      "   Probability\n",
      "0     0.171723\n",
      "1     0.266076\n",
      "2     0.522336\n",
      "3     0.330481\n",
      "4     0.205427\n"
     ]
    }
   ],
   "source": [
    "logit_preds_test = alpha_mean + (test2_data['X'][:, 0] * beta_glucose_mean +\n",
    "                                 test2_data['X'][:, 1] * beta_age_mean +\n",
    "                                 test2_data['X'][:, 2] * beta_bmi_mean +\n",
    "                                 test2_data['X'][:, 3] * beta_bp_mean + \n",
    "                                 test2_data['X'][:, 4] * beta_insulin_mean +\n",
    "                                 test2_data['X'][:, 5] * beta_dpf_mean)\n",
    "\n",
    "probs_test2 = 1 / (1 + np.exp(-logit_preds_test))\n",
    "\n",
    "probs_df = pd.DataFrame(probs_test2, columns=['Probability'])\n",
    "print(probs_df.head())"
   ]
  },
  {
   "cell_type": "code",
   "execution_count": 7,
   "metadata": {},
   "outputs": [],
   "source": [
    "preds_test2 = (probs_test2 > 0.5).astype(int)\n",
    "\n",
    "accuracy = accuracy_score(test2_data['y'], preds_test2)\n",
    "precision = precision_score(test2_data['y'], preds_test2)\n",
    "recall = recall_score(test2_data['y'], preds_test2)\n",
    "f1 = f1_score(test2_data['y'], preds_test2)"
   ]
  },
  {
   "cell_type": "code",
   "execution_count": 8,
   "metadata": {},
   "outputs": [
    {
     "data": {
      "image/png": "[encoded data removed]",
      "text/plain": [
       "<Figure size 800x600 with 1 Axes>"
      ]
     },
     "metadata": {},
     "output_type": "display_data"
    }
   ],
   "source": [
    "\n",
    "preds_test2 = (probs_test2 > 0.5).astype(int)\n",
    "\n",
    "conf_matrix = confusion_matrix(test2_data['y'], preds_test2)\n",
    "\n",
    "\n",
    "plt.figure(figsize=(8, 6))\n",
    "sns.heatmap(conf_matrix, annot=True, fmt='d', cmap='Blues', cbar=False)\n",
    "plt.title('Confusion matrix')\n",
    "plt.xlabel('Predicted')\n",
    "plt.ylabel('Actual')\n",
    "plt.show()"
   ]
  },
  {
   "cell_type": "code",
   "execution_count": 9,
   "metadata": {},
   "outputs": [
    {
     "name": "stdout",
     "output_type": "stream",
     "text": [
      "Accuracy: 0.85\n",
      "Precision: 0.81\n",
      "Recall: 0.68\n",
      "F1 Score: 0.74\n"
     ]
    }
   ],
   "source": [
    "fpr, tpr, _ = roc_curve(test2_data['y'], probs_test2)\n",
    "roc_auc = auc(fpr, tpr)\n",
    " \n",
    "print(f\"Accuracy: {accuracy:.2f}\")\n",
    "print(f\"Precision: {precision:.2f}\")\n",
    "print(f\"Recall: {recall:.2f}\")\n",
    "print(f\"F1 Score: {f1:.2f}\")"
   ]
  },
  {
   "cell_type": "code",
   "execution_count": 10,
   "metadata": {},
   "outputs": [
    {
     "data": {
      "image/png": "[encoded data removed]",
      "text/plain": [
       "<Figure size 640x480 with 1 Axes>"
      ]
     },
     "metadata": {},
     "output_type": "display_data"
    }
   ],
   "source": [
    "plt.figure()\n",
    "plt.plot(fpr, tpr, color='darkorange', lw=2, label='ROC curve (area = %0.2f)' % roc_auc)\n",
    "plt.plot([0, 1], [0, 1], color='navy', lw=2, linestyle='--')\n",
    "plt.xlim([0.0, 1.0])\n",
    "plt.ylim([0.0, 1.05])\n",
    "plt.xlabel('False Positive Rate')\n",
    "plt.ylabel('True Positive Rate')\n",
    "plt.title('Receiver Operating Characteristic')\n",
    "plt.legend(loc=\"lower right\")\n",
    "plt.show()"
   ]
  }
 ],
 "metadata": {
  "kernelspec": {
   "display_name": "Python 3",
   "language": "python",
   "name": "python3"
  },
  "language_info": {
   "codemirror_mode": {
    "name": "ipython",
    "version": 3
   },
   "file_extension": ".py",
   "mimetype": "text/x-python",
   "name": "python",
   "nbconvert_exporter": "python",
   "pygments_lexer": "ipython3",
   "version": "3.12.2"
  }
 },
 "nbformat": 4,
 "nbformat_minor": 2
}
