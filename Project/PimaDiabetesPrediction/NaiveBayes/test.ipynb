{
 "cells": [
  {
   "cell_type": "code",
   "execution_count": 1,
   "metadata": {},
   "outputs": [
    {
     "name": "stderr",
     "output_type": "stream",
     "text": [
      "/usr/local/lib/python3.12/site-packages/tqdm/auto.py:22: TqdmWarning: IProgress not found. Please update jupyter and ipywidgets. See https://ipywidgets.readthedocs.io/en/stable/user_install.html\n",
      "  from .autonotebook import tqdm as notebook_tqdm\n"
     ]
    }
   ],
   "source": [
    "import pandas as pd\n",
    "import numpy as np\n",
    "from cmdstanpy import CmdStanModel\n",
    "from sklearn.metrics import accuracy_score, precision_score, recall_score, f1_score, confusion_matrix\n",
    "import matplotlib.pyplot as plt\n",
    "import seaborn as sns"
   ]
  },
  {
   "cell_type": "code",
   "execution_count": 2,
   "metadata": {},
   "outputs": [],
   "source": [
    "# Wczytaj dane z pliku CSV\n",
    "df = pd.read_csv('diabetes_pt1.csv', sep=';')\n",
    "df_test = pd.read_csv('diabetes_pt2.csv', sep=';')"
   ]
  },
  {
   "cell_type": "code",
   "execution_count": 3,
   "metadata": {},
   "outputs": [],
   "source": [
    "# Przygotuj dane do użycia w STAN\n",
    "stan_data = {\n",
    "    'N': len(df),\n",
    "    'K': len(df.columns) - 1,\n",
    "    'X': df.drop('Outcome', axis=1).values,\n",
    "    'y': df['Outcome'].values\n",
    "}\n",
    "\n",
    "test_data = {\n",
    "    'N': len(df_test),\n",
    "    'K': len(df_test.columns) - 1,\n",
    "    'X': df_test.drop('Outcome', axis=1).values,\n",
    "    'y': df_test['Outcome'].values\n",
    "}\n"
   ]
  },
  {
   "cell_type": "code",
   "execution_count": 4,
   "metadata": {},
   "outputs": [
    {
     "name": "stderr",
     "output_type": "stream",
     "text": [
      "INFO:cmdstanpy:found newer exe file, not recompiling\n",
      "INFO:cmdstanpy:CmdStan start processing\n",
      "chain 1 |\u001b[33m          \u001b[0m| 00:00 Status\n",
      "\u001b[A\n",
      "\n",
      "\u001b[A\u001b[A\n",
      "\n",
      "chain 1 |\u001b[33m▋         \u001b[0m| 00:00 Iteration:    1 / 3000 [  0%]  (Warmup)\n",
      "\u001b[A\n",
      "\u001b[A\n",
      "\u001b[A\n",
      "\u001b[A\n",
      "\u001b[A\n",
      "\u001b[A\n",
      "\u001b[A\n",
      "chain 1 |\u001b[33m▉         \u001b[0m| 00:02 Iteration:  100 / 3000 [  3%]  (Warmup)\n",
      "\u001b[A\n",
      "\u001b[A\n",
      "\u001b[A\n",
      "\u001b[A\n",
      "\u001b[A\n",
      "\n",
      "\u001b[A\u001b[A\n",
      "\u001b[A\n",
      "\n",
      "\u001b[A\u001b[A\n",
      "\u001b[A\n",
      "\n",
      "\u001b[A\u001b[A\n",
      "chain 1 |\u001b[33m█▎        \u001b[0m| 00:03 Iteration:  200 / 3000 [  6%]  (Warmup)\n",
      "\n",
      "\u001b[A\u001b[A\n",
      "chain 1 |\u001b[33m█▌        \u001b[0m| 00:04 Iteration:  300 / 3000 [ 10%]  (Warmup)\n",
      "\n",
      "\u001b[A\u001b[A\n",
      "\u001b[A\n",
      "\n",
      "chain 1 |\u001b[33m█▉        \u001b[0m| 00:04 Iteration:  400 / 3000 [ 13%]  (Warmup)\n",
      "\u001b[A\n",
      "\n",
      "chain 1 |\u001b[33m██▏       \u001b[0m| 00:04 Iteration:  500 / 3000 [ 16%]  (Warmup)\n",
      "\u001b[A\n",
      "\n",
      "chain 1 |\u001b[33m██▌       \u001b[0m| 00:04 Iteration:  600 / 3000 [ 20%]  (Warmup)\n",
      "chain 1 |\u001b[33m██▊       \u001b[0m| 00:05 Iteration:  700 / 3000 [ 23%]  (Warmup)\n",
      "\n",
      "chain 1 |\u001b[33m███▏      \u001b[0m| 00:05 Iteration:  800 / 3000 [ 26%]  (Warmup)\n",
      "\u001b[A\n",
      "\n",
      "chain 1 |\u001b[33m███▍      \u001b[0m| 00:05 Iteration:  900 / 3000 [ 30%]  (Warmup)\n",
      "\u001b[A\n",
      "\n",
      "chain 1 |\u001b[34m████      \u001b[0m| 00:05 Iteration: 1001 / 3000 [ 33%]  (Sampling)\n",
      "\u001b[A\n",
      "\n",
      "chain 1 |\u001b[34m████▍     \u001b[0m| 00:05 Iteration: 1100 / 3000 [ 36%]  (Sampling)\n",
      "\u001b[A\n",
      "\n",
      "\u001b[A\u001b[A\n",
      "chain 1 |\u001b[34m████▋     \u001b[0m| 00:06 Iteration: 1200 / 3000 [ 40%]  (Sampling)\n",
      "\n",
      "chain 1 |\u001b[34m█████     \u001b[0m| 00:06 Iteration: 1300 / 3000 [ 43%]  (Sampling)\n",
      "\u001b[A\n",
      "\n",
      "chain 1 |\u001b[34m█████▎    \u001b[0m| 00:06 Iteration: 1400 / 3000 [ 46%]  (Sampling)\n",
      "\u001b[A\n",
      "\n",
      "chain 1 |\u001b[34m█████▋    \u001b[0m| 00:06 Iteration: 1500 / 3000 [ 50%]  (Sampling)\n",
      "\u001b[A\n",
      "\n",
      "chain 1 |\u001b[34m█████▉    \u001b[0m| 00:07 Iteration: 1600 / 3000 [ 53%]  (Sampling)\n",
      "\u001b[A\n",
      "\n",
      "chain 1 |\u001b[34m██████▎   \u001b[0m| 00:07 Iteration: 1700 / 3000 [ 56%]  (Sampling)\n",
      "\n",
      "chain 1 |\u001b[34m██████▌   \u001b[0m| 00:07 Iteration: 1800 / 3000 [ 60%]  (Sampling)\n",
      "\n",
      "chain 1 |\u001b[34m██████▉   \u001b[0m| 00:07 Iteration: 1900 / 3000 [ 63%]  (Sampling)\n",
      "\n",
      "chain 1 |\u001b[34m███████▏  \u001b[0m| 00:07 Iteration: 2000 / 3000 [ 66%]  (Sampling)\n",
      "\n",
      "chain 1 |\u001b[34m███████▌  \u001b[0m| 00:08 Iteration: 2100 / 3000 [ 70%]  (Sampling)\n",
      "\n",
      "chain 1 |\u001b[34m███████▊  \u001b[0m| 00:08 Iteration: 2200 / 3000 [ 73%]  (Sampling)\n",
      "\n",
      "chain 1 |\u001b[34m████████▏ \u001b[0m| 00:08 Iteration: 2300 / 3000 [ 76%]  (Sampling)\n",
      "\n",
      "chain 1 |\u001b[34m████████▍ \u001b[0m| 00:08 Iteration: 2400 / 3000 [ 80%]  (Sampling)\n",
      "\n",
      "chain 1 |\u001b[34m████████▊ \u001b[0m| 00:08 Iteration: 2500 / 3000 [ 83%]  (Sampling)\n",
      "\n",
      "chain 1 |\u001b[34m█████████ \u001b[0m| 00:09 Iteration: 2600 / 3000 [ 86%]  (Sampling)\n",
      "\n",
      "chain 1 |\u001b[34m██████████\u001b[0m| 00:09 Sampling completed                       \n",
      "chain 2 |\u001b[34m██████████\u001b[0m| 00:09 Sampling completed                       \n",
      "chain 3 |\u001b[34m██████████\u001b[0m| 00:09 Sampling completed                       \n",
      "chain 4 |\u001b[34m██████████\u001b[0m| 00:09 Sampling completed                       "
     ]
    },
    {
     "name": "stdout",
     "output_type": "stream",
     "text": [
      "                                                                                                                                                                                                                                                                                                                                "
     ]
    },
    {
     "name": "stderr",
     "output_type": "stream",
     "text": [
      "\n",
      "INFO:cmdstanpy:CmdStan done processing.\n"
     ]
    },
    {
     "name": "stdout",
     "output_type": "stream",
     "text": [
      "\n"
     ]
    }
   ],
   "source": [
    "\n",
    "# Kompilacja modelu\n",
    "sm = CmdStanModel(stan_file='code.stan')\n",
    "\n",
    "# Dopasowanie modelu\n",
    "fit = sm.sample(data=stan_data, iter_sampling=2000, chains=4, iter_warmup=1000, seed=101)\n",
    "\n",
    "# Pobieranie próbek beta\n",
    "beta_0_samples = fit.stan_variable('beta_0')\n",
    "beta_1_samples = fit.stan_variable('beta_1')\n",
    "\n",
    "# Obliczanie średnich wartości beta\n",
    "mean_beta_0 = np.mean(beta_0_samples, axis=0)\n",
    "mean_beta_1 = np.mean(beta_1_samples, axis=0)"
   ]
  },
  {
   "cell_type": "code",
   "execution_count": 5,
   "metadata": {},
   "outputs": [],
   "source": [
    "# Prawdopodobieństwo klasy 1 dla każdej obserwacji\n",
    "logits = np.dot(test_data['X'], (mean_beta_1 - mean_beta_0))\n",
    "probs = 1 / (1 + np.exp(-logits))\n",
    "\n",
    "# Decyzje na podstawie progu 0.5\n",
    "preds = probs > 0.5"
   ]
  },
  {
   "cell_type": "code",
   "execution_count": 6,
   "metadata": {},
   "outputs": [],
   "source": [
    "# Prawdziwe wartości\n",
    "true_labels = test_data['y']\n",
    "# Oblicz metryki oceny modelu\n",
    "accuracy = accuracy_score(true_labels, preds)\n",
    "precision = precision_score(true_labels, preds, zero_division=0)\n",
    "recall = recall_score(true_labels, preds, zero_division=0)\n",
    "f1 = f1_score(true_labels, preds, zero_division=0)\n",
    "conf_matrix = confusion_matrix(true_labels, preds)"
   ]
  },
  {
   "cell_type": "code",
   "execution_count": 7,
   "metadata": {},
   "outputs": [
    {
     "name": "stdout",
     "output_type": "stream",
     "text": [
      "Accuracy: 0.31\n",
      "Precision: 0.31\n",
      "Recall: 1.0\n",
      "F1 Score: 0.4732824427480916\n",
      "Confusion Matrix:\n",
      "[[ 0 69]\n",
      " [ 0 31]]\n"
     ]
    }
   ],
   "source": [
    "print(f\"Accuracy: {accuracy}\")\n",
    "print(f\"Precision: {precision}\")\n",
    "print(f\"Recall: {recall}\")\n",
    "print(f\"F1 Score: {f1}\")\n",
    "print(\"Confusion Matrix:\")\n",
    "print(conf_matrix)"
   ]
  },
  {
   "cell_type": "code",
   "execution_count": 8,
   "metadata": {},
   "outputs": [
    {
     "data": {
      "image/png": "[encoded data removed]",
      "text/plain": [
       "<Figure size 576x432 with 2 Axes>"
      ]
     },
     "metadata": {
      "needs_background": "light"
     },
     "output_type": "display_data"
    }
   ],
   "source": [
    "# Wizualizacja macierzy pomyłek jako mapa cieplna\n",
    "plt.figure(figsize=(8, 6))\n",
    "sns.heatmap(conf_matrix, annot=True, fmt='d', cmap='Blues', xticklabels=['No Diabetes', 'Diabetes'], yticklabels=['No Diabetes', 'Diabetes'])\n",
    "plt.xlabel('Predicted')\n",
    "plt.ylabel('Actual')\n",
    "plt.title('Confusion Matrix')\n",
    "plt.show()"
   ]
  }
 ],
 "metadata": {
  "kernelspec": {
   "display_name": "Python 3",
   "language": "python",
   "name": "python3"
  },
  "language_info": {
   "codemirror_mode": {
    "name": "ipython",
    "version": 3
   },
   "file_extension": ".py",
   "mimetype": "text/x-python",
   "name": "python",
   "nbconvert_exporter": "python",
   "pygments_lexer": "ipython3",
   "version": "3.12.2"
  }
 },
 "nbformat": 4,
 "nbformat_minor": 2
}
