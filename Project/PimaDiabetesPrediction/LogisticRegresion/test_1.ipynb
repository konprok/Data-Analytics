{
 "cells": [
  {
   "cell_type": "code",
   "execution_count": 1,
   "metadata": {},
   "outputs": [
    {
     "name": "stderr",
     "output_type": "stream",
     "text": [
      "/usr/local/lib/python3.12/site-packages/tqdm/auto.py:22: TqdmWarning: IProgress not found. Please update jupyter and ipywidgets. See https://ipywidgets.readthedocs.io/en/stable/user_install.html\n",
      "  from .autonotebook import tqdm as notebook_tqdm\n"
     ]
    }
   ],
   "source": [
    "import pandas as pd\n",
    "import numpy as np\n",
    "from cmdstanpy import CmdStanModel\n",
    "from sklearn.metrics import  roc_curve, auc ,accuracy_score, precision_score, recall_score, f1_score, confusion_matrix\n",
    "import matplotlib.pyplot as plt\n",
    "import seaborn as sns\n",
    "%matplotlib inline\n",
    "sns.set(color_codes = True)"
   ]
  },
  {
   "cell_type": "code",
   "execution_count": 2,
   "metadata": {},
   "outputs": [],
   "source": [
    "pima = pd.read_csv('diabetes.csv', sep=';')\n",
    "df = pd.read_csv('diabetes_pt1.csv', sep=';')\n",
    "df_test = pd.read_csv('diabetes_pt2.csv', sep=';')"
   ]
  },
  {
   "cell_type": "code",
   "execution_count": 3,
   "metadata": {},
   "outputs": [],
   "source": [
    "feature_columns = ['Glucose', 'Age', 'BMI']\n",
    "\n",
    "stan2_data = {\n",
    "    'N': len(df),\n",
    "    'X': df[feature_columns].values,\n",
    "    'y': df['Outcome'].values\n",
    "}\n",
    "\n",
    "test2_data = {\n",
    "    'N': len(df_test),\n",
    "    'X': df_test[feature_columns].values,\n",
    "    'y': df_test['Outcome'].values\n",
    "}"
   ]
  },
  {
   "cell_type": "code",
   "execution_count": 4,
   "metadata": {},
   "outputs": [
    {
     "name": "stderr",
     "output_type": "stream",
     "text": [
      "INFO:cmdstanpy:found newer exe file, not recompiling\n",
      "INFO:cmdstanpy:CmdStan start processing\n",
      "chain 1 |\u001b[33m          \u001b[0m| 00:00 Status\n",
      "\u001b[A\n",
      "\n",
      "\u001b[A\u001b[A\n",
      "\u001b[A\n",
      "\n",
      "chain 1 |\u001b[33m▋         \u001b[0m| 00:00 Iteration:    1 / 3000 [  0%]  (Warmup)\n",
      "\n",
      "\u001b[A\u001b[A\n",
      "chain 1 |\u001b[33m▉         \u001b[0m| 00:00 Iteration:  100 / 3000 [  3%]  (Warmup)\n",
      "\n",
      "\u001b[A\u001b[A\n",
      "chain 1 |\u001b[33m█▌        \u001b[0m| 00:00 Iteration:  300 / 3000 [ 10%]  (Warmup)\n",
      "\n",
      "\u001b[A\u001b[A\n",
      "\u001b[A\n",
      "\n",
      "chain 1 |\u001b[33m██▏       \u001b[0m| 00:00 Iteration:  500 / 3000 [ 16%]  (Warmup)\n",
      "\u001b[A\n",
      "\n",
      "chain 1 |\u001b[33m███▏      \u001b[0m| 00:00 Iteration:  800 / 3000 [ 26%]  (Warmup)\n",
      "\u001b[A\n",
      "\n",
      "chain 1 |\u001b[34m████      \u001b[0m| 00:00 Iteration: 1001 / 3000 [ 33%]  (Sampling)\n",
      "\u001b[A\n",
      "\n",
      "chain 1 |\u001b[34m████▋     \u001b[0m| 00:01 Iteration: 1200 / 3000 [ 40%]  (Sampling)\n",
      "\u001b[A\n",
      "\n",
      "chain 1 |\u001b[34m█████▎    \u001b[0m| 00:01 Iteration: 1400 / 3000 [ 46%]  (Sampling)\n",
      "\u001b[A\n",
      "\n",
      "chain 1 |\u001b[34m█████▉    \u001b[0m| 00:01 Iteration: 1600 / 3000 [ 53%]  (Sampling)\n",
      "\u001b[A\n",
      "\n",
      "\u001b[A\u001b[A\n",
      "chain 1 |\u001b[34m██████▌   \u001b[0m| 00:01 Iteration: 1800 / 3000 [ 60%]  (Sampling)\n",
      "\n",
      "\u001b[A\u001b[A\n",
      "\u001b[A\n",
      "\n",
      "chain 1 |\u001b[34m███████▏  \u001b[0m| 00:01 Iteration: 2000 / 3000 [ 66%]  (Sampling)\n",
      "\u001b[A\n",
      "\n",
      "chain 1 |\u001b[34m███████▊  \u001b[0m| 00:01 Iteration: 2200 / 3000 [ 73%]  (Sampling)\n",
      "chain 1 |\u001b[34m██████████\u001b[0m| 00:02 Sampling completed                       \n",
      "chain 2 |\u001b[34m██████████\u001b[0m| 00:02 Sampling completed                       \n",
      "chain 3 |\u001b[34m██████████\u001b[0m| 00:02 Sampling completed                       \n",
      "chain 4 |\u001b[34m██████████\u001b[0m| 00:02 Sampling completed                       "
     ]
    },
    {
     "name": "stdout",
     "output_type": "stream",
     "text": [
      "                                                                                                                                                                                                                                                                                                                                "
     ]
    },
    {
     "name": "stderr",
     "output_type": "stream",
     "text": [
      "\n",
      "INFO:cmdstanpy:CmdStan done processing.\n"
     ]
    },
    {
     "name": "stdout",
     "output_type": "stream",
     "text": [
      "\n"
     ]
    },
    {
     "data": {
      "text/html": [
       "<div>\n",
       "<style scoped>\n",
       "    .dataframe tbody tr th:only-of-type {\n",
       "        vertical-align: middle;\n",
       "    }\n",
       "\n",
       "    .dataframe tbody tr th {\n",
       "        vertical-align: top;\n",
       "    }\n",
       "\n",
       "    .dataframe thead th {\n",
       "        text-align: right;\n",
       "    }\n",
       "</style>\n",
       "<table border=\"1\" class=\"dataframe\">\n",
       "  <thead>\n",
       "    <tr style=\"text-align: right;\">\n",
       "      <th></th>\n",
       "      <th>lp__</th>\n",
       "      <th>accept_stat__</th>\n",
       "      <th>stepsize__</th>\n",
       "      <th>treedepth__</th>\n",
       "      <th>n_leapfrog__</th>\n",
       "      <th>divergent__</th>\n",
       "      <th>energy__</th>\n",
       "      <th>alpha</th>\n",
       "      <th>beta_glucose</th>\n",
       "      <th>beta_age</th>\n",
       "      <th>beta_bmi</th>\n",
       "    </tr>\n",
       "  </thead>\n",
       "  <tbody>\n",
       "    <tr>\n",
       "      <th>0</th>\n",
       "      <td>-188.816</td>\n",
       "      <td>0.996219</td>\n",
       "      <td>0.094015</td>\n",
       "      <td>5.0</td>\n",
       "      <td>31.0</td>\n",
       "      <td>0.0</td>\n",
       "      <td>189.768</td>\n",
       "      <td>-6.27478</td>\n",
       "      <td>0.028251</td>\n",
       "      <td>0.058135</td>\n",
       "      <td>0.013771</td>\n",
       "    </tr>\n",
       "    <tr>\n",
       "      <th>1</th>\n",
       "      <td>-185.653</td>\n",
       "      <td>1.000000</td>\n",
       "      <td>0.094015</td>\n",
       "      <td>5.0</td>\n",
       "      <td>31.0</td>\n",
       "      <td>0.0</td>\n",
       "      <td>189.349</td>\n",
       "      <td>-5.64532</td>\n",
       "      <td>0.023659</td>\n",
       "      <td>0.032300</td>\n",
       "      <td>0.030672</td>\n",
       "    </tr>\n",
       "    <tr>\n",
       "      <th>2</th>\n",
       "      <td>-186.936</td>\n",
       "      <td>0.988302</td>\n",
       "      <td>0.094015</td>\n",
       "      <td>6.0</td>\n",
       "      <td>63.0</td>\n",
       "      <td>0.0</td>\n",
       "      <td>188.124</td>\n",
       "      <td>-6.17559</td>\n",
       "      <td>0.017706</td>\n",
       "      <td>0.052414</td>\n",
       "      <td>0.053079</td>\n",
       "    </tr>\n",
       "    <tr>\n",
       "      <th>3</th>\n",
       "      <td>-185.468</td>\n",
       "      <td>0.999187</td>\n",
       "      <td>0.094015</td>\n",
       "      <td>5.0</td>\n",
       "      <td>63.0</td>\n",
       "      <td>0.0</td>\n",
       "      <td>187.858</td>\n",
       "      <td>-4.90927</td>\n",
       "      <td>0.020551</td>\n",
       "      <td>0.049594</td>\n",
       "      <td>0.005651</td>\n",
       "    </tr>\n",
       "    <tr>\n",
       "      <th>4</th>\n",
       "      <td>-186.247</td>\n",
       "      <td>0.948364</td>\n",
       "      <td>0.094015</td>\n",
       "      <td>5.0</td>\n",
       "      <td>63.0</td>\n",
       "      <td>0.0</td>\n",
       "      <td>187.024</td>\n",
       "      <td>-4.77861</td>\n",
       "      <td>0.024455</td>\n",
       "      <td>0.031109</td>\n",
       "      <td>0.001991</td>\n",
       "    </tr>\n",
       "  </tbody>\n",
       "</table>\n",
       "</div>"
      ],
      "text/plain": [
       "      lp__  accept_stat__  stepsize__  treedepth__  n_leapfrog__  divergent__  \\\n",
       "0 -188.816       0.996219    0.094015          5.0          31.0          0.0   \n",
       "1 -185.653       1.000000    0.094015          5.0          31.0          0.0   \n",
       "2 -186.936       0.988302    0.094015          6.0          63.0          0.0   \n",
       "3 -185.468       0.999187    0.094015          5.0          63.0          0.0   \n",
       "4 -186.247       0.948364    0.094015          5.0          63.0          0.0   \n",
       "\n",
       "   energy__    alpha  beta_glucose  beta_age  beta_bmi  \n",
       "0   189.768 -6.27478      0.028251  0.058135  0.013771  \n",
       "1   189.349 -5.64532      0.023659  0.032300  0.030672  \n",
       "2   188.124 -6.17559      0.017706  0.052414  0.053079  \n",
       "3   187.858 -4.90927      0.020551  0.049594  0.005651  \n",
       "4   187.024 -4.77861      0.024455  0.031109  0.001991  "
      ]
     },
     "execution_count": 4,
     "metadata": {},
     "output_type": "execute_result"
    }
   ],
   "source": [
    "\n",
    "sm2 = CmdStanModel(stan_file='code_1.stan')\n",
    "\n",
    "fit2 = sm2.sample(data=stan2_data, iter_sampling=2000, chains=4, iter_warmup=1000, seed=210800)\n",
    "# print(fit2.summary())\n",
    "df3 = fit2.draws_pd()\n",
    "df3.head()"
   ]
  },
  {
   "cell_type": "code",
   "execution_count": 5,
   "metadata": {},
   "outputs": [],
   "source": [
    "alpha_mean = df3['alpha'].mean()\n",
    "beta_glucose_mean = df3['beta_glucose'].mean()\n",
    "beta_age_mean = df3['beta_age'].mean()\n",
    "beta_bmi_mean = df3['beta_bmi'].mean()"
   ]
  },
  {
   "cell_type": "code",
   "execution_count": 6,
   "metadata": {},
   "outputs": [
    {
     "name": "stdout",
     "output_type": "stream",
     "text": [
      "   Probability\n",
      "0     0.192181\n",
      "1     0.340395\n",
      "2     0.546051\n",
      "3     0.358833\n",
      "4     0.204218\n"
     ]
    }
   ],
   "source": [
    "logit_preds_test = alpha_mean + (test2_data['X'][:, 0] * beta_glucose_mean +\n",
    "                                 test2_data['X'][:, 1] * beta_age_mean +\n",
    "                                 test2_data['X'][:, 2] * beta_bmi_mean)\n",
    "\n",
    "probs_test2 = 1 / (1 + np.exp(-logit_preds_test))\n",
    "\n",
    "probs_df = pd.DataFrame(probs_test2, columns=['Probability'])\n",
    "print(probs_df.head())"
   ]
  },
  {
   "cell_type": "code",
   "execution_count": 7,
   "metadata": {},
   "outputs": [
    {
     "data": {
      "image/png": "[encoded data removed]",
      "text/plain": [
       "<Figure size 576x432 with 1 Axes>"
      ]
     },
     "metadata": {},
     "output_type": "display_data"
    }
   ],
   "source": [
    "\n",
    "preds_test2 = (probs_test2 > 0.5).astype(int)\n",
    "\n",
    "conf_matrix = confusion_matrix(test2_data['y'], preds_test2)\n",
    "\n",
    "plt.figure(figsize=(8, 6))\n",
    "sns.heatmap(conf_matrix, annot=True, fmt='d', cmap='Blues', cbar=False)\n",
    "plt.title('Macierz pomyłek')\n",
    "plt.xlabel('Przewidziane klasy')\n",
    "plt.ylabel('Rzeczywiste klasy')\n",
    "plt.show()\n"
   ]
  }
 ],
 "metadata": {
  "kernelspec": {
   "display_name": "Python 3",
   "language": "python",
   "name": "python3"
  },
  "language_info": {
   "codemirror_mode": {
    "name": "ipython",
    "version": 3
   },
   "file_extension": ".py",
   "mimetype": "text/x-python",
   "name": "python",
   "nbconvert_exporter": "python",
   "pygments_lexer": "ipython3",
   "version": "3.12.2"
  }
 },
 "nbformat": 4,
 "nbformat_minor": 2
}
