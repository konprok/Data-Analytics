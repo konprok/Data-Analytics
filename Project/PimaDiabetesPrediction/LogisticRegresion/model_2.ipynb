{
 "cells": [
  {
   "cell_type": "code",
   "execution_count": 11,
   "metadata": {},
   "outputs": [],
   "source": [
    "import pandas as pd\n",
    "import numpy as np\n",
    "from cmdstanpy import CmdStanModel\n",
    "from sklearn.metrics import  roc_curve, auc ,accuracy_score, precision_score, recall_score, f1_score, confusion_matrix\n",
    "import matplotlib.pyplot as plt\n",
    "import seaborn as sns\n",
    "%matplotlib inline\n",
    "sns.set(color_codes = True)"
   ]
  },
  {
   "cell_type": "code",
   "execution_count": 12,
   "metadata": {},
   "outputs": [],
   "source": [
    "pima = pd.read_csv('Data/diabetes.csv', sep=';')\n",
    "df = pd.read_csv('Data/diabetes_pt1.csv', sep=';')\n",
    "df_test = pd.read_csv('Data/diabetes_pt2.csv', sep=';')"
   ]
  },
  {
   "cell_type": "code",
   "execution_count": 13,
   "metadata": {},
   "outputs": [],
   "source": [
    "feature_columns = ['Glucose', 'Age', 'BMI', 'BloodPressure', 'Insulin', 'DiabetesPedigreeFunction']\n",
    "\n",
    "stan2_data = {\n",
    "    'N': len(df),\n",
    "    'X': df[feature_columns].values,\n",
    "    'y': df['Outcome'].values\n",
    "}\n",
    "\n",
    "test2_data = {\n",
    "    'N': len(df_test),\n",
    "    'X': df_test[feature_columns].values,\n",
    "    'y': df_test['Outcome'].values\n",
    "}"
   ]
  },
  {
   "cell_type": "code",
   "execution_count": 14,
   "metadata": {},
   "outputs": [
    {
     "name": "stderr",
     "output_type": "stream",
     "text": [
      "INFO:cmdstanpy:found newer exe file, not recompiling\n"
     ]
    },
    {
     "name": "stderr",
     "output_type": "stream",
     "text": [
      "INFO:cmdstanpy:CmdStan start processing\n"
     ]
    },
    {
     "data": {
      "application/json": {
       "ascii": false,
       "bar_format": "{desc} |{bar}| {elapsed} {postfix[0][value]}",
       "colour": null,
       "elapsed": 0.007166385650634766,
       "initial": 0,
       "n": 0,
       "ncols": null,
       "nrows": null,
       "postfix": [
        {
         "value": "Status"
        }
       ],
       "prefix": "chain 1",
       "rate": null,
       "total": 32,
       "unit": "it",
       "unit_divisor": 1000,
       "unit_scale": false
      },
      "application/vnd.jupyter.widget-view+json": {
       "model_id": "fcd97430ac1d4b1193fc3349d0d858a0",
       "version_major": 2,
       "version_minor": 0
      },
      "text/plain": [
       "chain 1 |          | 00:00 Status"
      ]
     },
     "metadata": {},
     "output_type": "display_data"
    },
    {
     "data": {
      "application/json": {
       "ascii": false,
       "bar_format": "{desc} |{bar}| {elapsed} {postfix[0][value]}",
       "colour": null,
       "elapsed": 0.007825374603271484,
       "initial": 0,
       "n": 0,
       "ncols": null,
       "nrows": null,
       "postfix": [
        {
         "value": "Status"
        }
       ],
       "prefix": "chain 2",
       "rate": null,
       "total": 32,
       "unit": "it",
       "unit_divisor": 1000,
       "unit_scale": false
      },
      "application/vnd.jupyter.widget-view+json": {
       "model_id": "8e2986c3afaa453b96634ad992361dc5",
       "version_major": 2,
       "version_minor": 0
      },
      "text/plain": [
       "chain 2 |          | 00:00 Status"
      ]
     },
     "metadata": {},
     "output_type": "display_data"
    },
    {
     "data": {
      "application/json": {
       "ascii": false,
       "bar_format": "{desc} |{bar}| {elapsed} {postfix[0][value]}",
       "colour": null,
       "elapsed": 0.015048980712890625,
       "initial": 0,
       "n": 0,
       "ncols": null,
       "nrows": null,
       "postfix": [
        {
         "value": "Status"
        }
       ],
       "prefix": "chain 3",
       "rate": null,
       "total": 32,
       "unit": "it",
       "unit_divisor": 1000,
       "unit_scale": false
      },
      "application/vnd.jupyter.widget-view+json": {
       "model_id": "18eb825e78294cc49cec5cb770e9f3e3",
       "version_major": 2,
       "version_minor": 0
      },
      "text/plain": [
       "chain 3 |          | 00:00 Status"
      ]
     },
     "metadata": {},
     "output_type": "display_data"
    },
    {
     "data": {
      "application/json": {
       "ascii": false,
       "bar_format": "{desc} |{bar}| {elapsed} {postfix[0][value]}",
       "colour": null,
       "elapsed": 0.00784754753112793,
       "initial": 0,
       "n": 0,
       "ncols": null,
       "nrows": null,
       "postfix": [
        {
         "value": "Status"
        }
       ],
       "prefix": "chain 4",
       "rate": null,
       "total": 32,
       "unit": "it",
       "unit_divisor": 1000,
       "unit_scale": false
      },
      "application/vnd.jupyter.widget-view+json": {
       "model_id": "fa488fcc017048f8b94bcb290543e318",
       "version_major": 2,
       "version_minor": 0
      },
      "text/plain": [
       "chain 4 |          | 00:00 Status"
      ]
     },
     "metadata": {},
     "output_type": "display_data"
    },
    {
     "name": "stdout",
     "output_type": "stream",
     "text": [
      "                                                                                                                                                                                                                                                                                                                                "
     ]
    },
    {
     "name": "stderr",
     "output_type": "stream",
     "text": [
      "INFO:cmdstanpy:CmdStan done processing.\n"
     ]
    },
    {
     "name": "stdout",
     "output_type": "stream",
     "text": [
      "\n"
     ]
    },
    {
     "data": {
      "text/html": [
       "<div>\n",
       "<style scoped>\n",
       "    .dataframe tbody tr th:only-of-type {\n",
       "        vertical-align: middle;\n",
       "    }\n",
       "\n",
       "    .dataframe tbody tr th {\n",
       "        vertical-align: top;\n",
       "    }\n",
       "\n",
       "    .dataframe thead th {\n",
       "        text-align: right;\n",
       "    }\n",
       "</style>\n",
       "<table border=\"1\" class=\"dataframe\">\n",
       "  <thead>\n",
       "    <tr style=\"text-align: right;\">\n",
       "      <th></th>\n",
       "      <th>lp__</th>\n",
       "      <th>accept_stat__</th>\n",
       "      <th>stepsize__</th>\n",
       "      <th>treedepth__</th>\n",
       "      <th>n_leapfrog__</th>\n",
       "      <th>divergent__</th>\n",
       "      <th>energy__</th>\n",
       "      <th>alpha</th>\n",
       "      <th>beta_glucose</th>\n",
       "      <th>beta_age</th>\n",
       "      <th>...</th>\n",
       "      <th>log_lik[284]</th>\n",
       "      <th>log_lik[285]</th>\n",
       "      <th>log_lik[286]</th>\n",
       "      <th>log_lik[287]</th>\n",
       "      <th>log_lik[288]</th>\n",
       "      <th>log_lik[289]</th>\n",
       "      <th>log_lik[290]</th>\n",
       "      <th>log_lik[291]</th>\n",
       "      <th>log_lik[292]</th>\n",
       "      <th>log_lik[293]</th>\n",
       "    </tr>\n",
       "  </thead>\n",
       "  <tbody>\n",
       "    <tr>\n",
       "      <th>0</th>\n",
       "      <td>-197.616</td>\n",
       "      <td>0.998455</td>\n",
       "      <td>0.075479</td>\n",
       "      <td>6.0</td>\n",
       "      <td>63.0</td>\n",
       "      <td>0.0</td>\n",
       "      <td>199.580</td>\n",
       "      <td>-5.92478</td>\n",
       "      <td>0.019515</td>\n",
       "      <td>0.020464</td>\n",
       "      <td>...</td>\n",
       "      <td>-0.335699</td>\n",
       "      <td>-0.733835</td>\n",
       "      <td>-0.157622</td>\n",
       "      <td>-0.123893</td>\n",
       "      <td>-0.201630</td>\n",
       "      <td>-0.264216</td>\n",
       "      <td>-0.258792</td>\n",
       "      <td>-0.183110</td>\n",
       "      <td>-0.166059</td>\n",
       "      <td>-0.153539</td>\n",
       "    </tr>\n",
       "    <tr>\n",
       "      <th>1</th>\n",
       "      <td>-197.161</td>\n",
       "      <td>0.927845</td>\n",
       "      <td>0.075479</td>\n",
       "      <td>5.0</td>\n",
       "      <td>63.0</td>\n",
       "      <td>0.0</td>\n",
       "      <td>201.182</td>\n",
       "      <td>-5.87235</td>\n",
       "      <td>0.029941</td>\n",
       "      <td>0.046541</td>\n",
       "      <td>...</td>\n",
       "      <td>-0.419829</td>\n",
       "      <td>-1.401820</td>\n",
       "      <td>-0.117973</td>\n",
       "      <td>-0.132267</td>\n",
       "      <td>-0.196944</td>\n",
       "      <td>-0.290043</td>\n",
       "      <td>-0.140312</td>\n",
       "      <td>-0.175130</td>\n",
       "      <td>-0.231115</td>\n",
       "      <td>-0.153723</td>\n",
       "    </tr>\n",
       "    <tr>\n",
       "      <th>2</th>\n",
       "      <td>-197.283</td>\n",
       "      <td>0.959426</td>\n",
       "      <td>0.075479</td>\n",
       "      <td>4.0</td>\n",
       "      <td>31.0</td>\n",
       "      <td>0.0</td>\n",
       "      <td>201.030</td>\n",
       "      <td>-6.13605</td>\n",
       "      <td>0.027829</td>\n",
       "      <td>0.041593</td>\n",
       "      <td>...</td>\n",
       "      <td>-0.387422</td>\n",
       "      <td>-1.246620</td>\n",
       "      <td>-0.113924</td>\n",
       "      <td>-0.119334</td>\n",
       "      <td>-0.180047</td>\n",
       "      <td>-0.278091</td>\n",
       "      <td>-0.176655</td>\n",
       "      <td>-0.164407</td>\n",
       "      <td>-0.196244</td>\n",
       "      <td>-0.131131</td>\n",
       "    </tr>\n",
       "    <tr>\n",
       "      <th>3</th>\n",
       "      <td>-197.330</td>\n",
       "      <td>0.997647</td>\n",
       "      <td>0.075479</td>\n",
       "      <td>5.0</td>\n",
       "      <td>63.0</td>\n",
       "      <td>0.0</td>\n",
       "      <td>199.791</td>\n",
       "      <td>-4.75414</td>\n",
       "      <td>0.023610</td>\n",
       "      <td>0.062245</td>\n",
       "      <td>...</td>\n",
       "      <td>-0.379161</td>\n",
       "      <td>-1.312630</td>\n",
       "      <td>-0.131529</td>\n",
       "      <td>-0.134804</td>\n",
       "      <td>-0.198658</td>\n",
       "      <td>-0.398481</td>\n",
       "      <td>-0.245785</td>\n",
       "      <td>-0.150960</td>\n",
       "      <td>-0.278445</td>\n",
       "      <td>-0.182039</td>\n",
       "    </tr>\n",
       "    <tr>\n",
       "      <th>4</th>\n",
       "      <td>-198.785</td>\n",
       "      <td>0.910336</td>\n",
       "      <td>0.075479</td>\n",
       "      <td>6.0</td>\n",
       "      <td>63.0</td>\n",
       "      <td>0.0</td>\n",
       "      <td>203.309</td>\n",
       "      <td>-6.20162</td>\n",
       "      <td>0.032957</td>\n",
       "      <td>0.019600</td>\n",
       "      <td>...</td>\n",
       "      <td>-0.429403</td>\n",
       "      <td>-1.093260</td>\n",
       "      <td>-0.133231</td>\n",
       "      <td>-0.133729</td>\n",
       "      <td>-0.202483</td>\n",
       "      <td>-0.231691</td>\n",
       "      <td>-0.080133</td>\n",
       "      <td>-0.189954</td>\n",
       "      <td>-0.196449</td>\n",
       "      <td>-0.188764</td>\n",
       "    </tr>\n",
       "  </tbody>\n",
       "</table>\n",
       "<p>5 rows × 307 columns</p>\n",
       "</div>"
      ],
      "text/plain": [
       "      lp__  accept_stat__  stepsize__  treedepth__  n_leapfrog__  divergent__  \\\n",
       "0 -197.616       0.998455    0.075479          6.0          63.0          0.0   \n",
       "1 -197.161       0.927845    0.075479          5.0          63.0          0.0   \n",
       "2 -197.283       0.959426    0.075479          4.0          31.0          0.0   \n",
       "3 -197.330       0.997647    0.075479          5.0          63.0          0.0   \n",
       "4 -198.785       0.910336    0.075479          6.0          63.0          0.0   \n",
       "\n",
       "   energy__    alpha  beta_glucose  beta_age  ...  log_lik[284]  log_lik[285]  \\\n",
       "0   199.580 -5.92478      0.019515  0.020464  ...     -0.335699     -0.733835   \n",
       "1   201.182 -5.87235      0.029941  0.046541  ...     -0.419829     -1.401820   \n",
       "2   201.030 -6.13605      0.027829  0.041593  ...     -0.387422     -1.246620   \n",
       "3   199.791 -4.75414      0.023610  0.062245  ...     -0.379161     -1.312630   \n",
       "4   203.309 -6.20162      0.032957  0.019600  ...     -0.429403     -1.093260   \n",
       "\n",
       "   log_lik[286]  log_lik[287]  log_lik[288]  log_lik[289]  log_lik[290]  \\\n",
       "0     -0.157622     -0.123893     -0.201630     -0.264216     -0.258792   \n",
       "1     -0.117973     -0.132267     -0.196944     -0.290043     -0.140312   \n",
       "2     -0.113924     -0.119334     -0.180047     -0.278091     -0.176655   \n",
       "3     -0.131529     -0.134804     -0.198658     -0.398481     -0.245785   \n",
       "4     -0.133231     -0.133729     -0.202483     -0.231691     -0.080133   \n",
       "\n",
       "   log_lik[291]  log_lik[292]  log_lik[293]  \n",
       "0     -0.183110     -0.166059     -0.153539  \n",
       "1     -0.175130     -0.231115     -0.153723  \n",
       "2     -0.164407     -0.196244     -0.131131  \n",
       "3     -0.150960     -0.278445     -0.182039  \n",
       "4     -0.189954     -0.196449     -0.188764  \n",
       "\n",
       "[5 rows x 307 columns]"
      ]
     },
     "execution_count": 14,
     "metadata": {},
     "output_type": "execute_result"
    }
   ],
   "source": [
    "sm2 = CmdStanModel(stan_file='Stan/code_2.stan')\n",
    "\n",
    "fit2 = sm2.sample(data=stan2_data, iter_sampling=2000, chains=4, iter_warmup=1000, seed=2108005)\n",
    "df3 = fit2.draws_pd()\n",
    "df3.head()"
   ]
  },
  {
   "cell_type": "code",
   "execution_count": 15,
   "metadata": {},
   "outputs": [],
   "source": [
    "alpha_mean = df3['alpha'].mean()\n",
    "beta_glucose_mean = df3['beta_glucose'].mean()\n",
    "beta_age_mean = df3['beta_age'].mean()\n",
    "beta_bmi_mean = df3['beta_bmi'].mean()\n",
    "beta_bp_mean = df3['beta_bp'].mean()\n",
    "beta_insulin_mean = df3['beta_insulin'].mean()\n",
    "beta_dpf_mean = df3['beta_dpf'].mean()"
   ]
  },
  {
   "cell_type": "code",
   "execution_count": 16,
   "metadata": {},
   "outputs": [
    {
     "name": "stdout",
     "output_type": "stream",
     "text": [
      "   Probability\n",
      "0     0.171685\n",
      "1     0.265957\n",
      "2     0.523345\n",
      "3     0.331152\n",
      "4     0.206111\n"
     ]
    }
   ],
   "source": [
    "logit_preds_test = alpha_mean + (test2_data['X'][:, 0] * beta_glucose_mean +\n",
    "                                 test2_data['X'][:, 1] * beta_age_mean +\n",
    "                                 test2_data['X'][:, 2] * beta_bmi_mean +\n",
    "                                 test2_data['X'][:, 3] * beta_bp_mean + \n",
    "                                 test2_data['X'][:, 4] * beta_insulin_mean +\n",
    "                                 test2_data['X'][:, 5] * beta_dpf_mean)\n",
    "\n",
    "probs_test2 = 1 / (1 + np.exp(-logit_preds_test))\n",
    "\n",
    "probs_df = pd.DataFrame(probs_test2, columns=['Probability'])\n",
    "print(probs_df.head())"
   ]
  },
  {
   "cell_type": "code",
   "execution_count": 17,
   "metadata": {},
   "outputs": [],
   "source": [
    "preds_test2 = (probs_test2 > 0.5).astype(int)\n",
    "\n",
    "accuracy = accuracy_score(test2_data['y'], preds_test2)\n",
    "precision = precision_score(test2_data['y'], preds_test2)\n",
    "recall = recall_score(test2_data['y'], preds_test2)\n",
    "f1 = f1_score(test2_data['y'], preds_test2)"
   ]
  },
  {
   "cell_type": "code",
   "execution_count": 18,
   "metadata": {},
   "outputs": [
    {
     "data": {
      "image/png": "[encoded data removed]",
      "text/plain": [
       "<Figure size 800x600 with 1 Axes>"
      ]
     },
     "metadata": {},
     "output_type": "display_data"
    }
   ],
   "source": [
    "\n",
    "preds_test2 = (probs_test2 > 0.5).astype(int)\n",
    "\n",
    "conf_matrix = confusion_matrix(test2_data['y'], preds_test2)\n",
    "\n",
    "\n",
    "plt.figure(figsize=(8, 6))\n",
    "sns.heatmap(conf_matrix, annot=True, fmt='d', cmap='Blues', cbar=False)\n",
    "plt.title('Confusion matrix')\n",
    "plt.xlabel('Predicted')\n",
    "plt.ylabel('Actual')\n",
    "plt.show()"
   ]
  },
  {
   "cell_type": "code",
   "execution_count": 19,
   "metadata": {},
   "outputs": [
    {
     "name": "stdout",
     "output_type": "stream",
     "text": [
      "Accuracy: 0.85\n",
      "Precision: 0.81\n",
      "Recall: 0.68\n",
      "F1 Score: 0.74\n"
     ]
    }
   ],
   "source": [
    "fpr, tpr, _ = roc_curve(test2_data['y'], probs_test2)\n",
    "roc_auc = auc(fpr, tpr)\n",
    " \n",
    "print(f\"Accuracy: {accuracy:.2f}\")\n",
    "print(f\"Precision: {precision:.2f}\")\n",
    "print(f\"Recall: {recall:.2f}\")\n",
    "print(f\"F1 Score: {f1:.2f}\")"
   ]
  },
  {
   "cell_type": "code",
   "execution_count": 20,
   "metadata": {},
   "outputs": [
    {
     "data": {
      "image/png": "[encoded data removed]",
      "text/plain": [
       "<Figure size 640x480 with 1 Axes>"
      ]
     },
     "metadata": {},
     "output_type": "display_data"
    }
   ],
   "source": [
    "plt.figure()\n",
    "plt.plot(fpr, tpr, color='darkorange', lw=2, label='ROC curve (area = %0.2f)' % roc_auc)\n",
    "plt.plot([0, 1], [0, 1], color='navy', lw=2, linestyle='--')\n",
    "plt.xlim([0.0, 1.0])\n",
    "plt.ylim([0.0, 1.05])\n",
    "plt.xlabel('False Positive Rate')\n",
    "plt.ylabel('True Positive Rate')\n",
    "plt.title('Receiver Operating Characteristic')\n",
    "plt.legend(loc=\"lower right\")\n",
    "plt.show()"
   ]
  }
 ],
 "metadata": {
  "kernelspec": {
   "display_name": "Python 3",
   "language": "python",
   "name": "python3"
  },
  "language_info": {
   "codemirror_mode": {
    "name": "ipython",
    "version": 3
   },
   "file_extension": ".py",
   "mimetype": "text/x-python",
   "name": "python",
   "nbconvert_exporter": "python",
   "pygments_lexer": "ipython3",
   "version": "3.12.2"
  }
 },
 "nbformat": 4,
 "nbformat_minor": 2
}
