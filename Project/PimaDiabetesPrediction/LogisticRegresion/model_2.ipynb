{
 "cells": [
  {
   "cell_type": "code",
   "execution_count": 15,
   "metadata": {},
   "outputs": [],
   "source": [
    "import pandas as pd\n",
    "import numpy as np\n",
    "from cmdstanpy import CmdStanModel\n",
    "from sklearn.metrics import  roc_curve, auc ,accuracy_score, precision_score, recall_score, f1_score, confusion_matrix\n",
    "import matplotlib.pyplot as plt\n",
    "import seaborn as sns\n",
    "%matplotlib inline\n",
    "sns.set(color_codes = True)"
   ]
  },
  {
   "cell_type": "code",
   "execution_count": 16,
   "metadata": {},
   "outputs": [],
   "source": [
    "pima = pd.read_csv('Data/diabetes.csv', sep=';')\n",
    "df = pd.read_csv('Data/diabetes_pt1.csv', sep=';')\n",
    "df_test = pd.read_csv('Data/diabetes_pt2.csv', sep=';')"
   ]
  },
  {
   "cell_type": "markdown",
   "metadata": {},
   "source": [
    "Więcej predykatorów"
   ]
  },
  {
   "cell_type": "code",
   "execution_count": 17,
   "metadata": {},
   "outputs": [],
   "source": [
    "feature_columns = ['Glucose', 'Age', 'BMI', 'BloodPressure', 'Insulin', 'DiabetesPedigreeFunction']\n",
    "\n",
    "stan2_data = {\n",
    "    'N': len(df),\n",
    "    'X': df[feature_columns].values,\n",
    "    'y': df['Outcome'].values\n",
    "}\n",
    "\n",
    "test2_data = {\n",
    "    'N': len(df_test),\n",
    "    'X': df_test[feature_columns].values,\n",
    "    'y': df_test['Outcome'].values\n",
    "}"
   ]
  },
  {
   "cell_type": "code",
   "execution_count": 18,
   "metadata": {},
   "outputs": [
    {
     "name": "stderr",
     "output_type": "stream",
     "text": [
      "INFO:cmdstanpy:found newer exe file, not recompiling\n",
      "INFO:cmdstanpy:CmdStan start processing\n",
      "chain 1 |\u001b[33m          \u001b[0m| 00:00 Status\n",
      "\u001b[A\n",
      "\n",
      "\u001b[A\u001b[A"
     ]
    },
    {
     "name": "stderr",
     "output_type": "stream",
     "text": [
      "\n",
      "\n",
      "chain 1 |\u001b[33m▋         \u001b[0m| 00:00 Iteration:    1 / 3000 [  0%]  (Warmup)\n",
      "\n",
      "\u001b[A\u001b[A\n",
      "chain 1 |\u001b[33m▉         \u001b[0m| 00:01 Iteration:  100 / 3000 [  3%]  (Warmup)\n",
      "\n",
      "\u001b[A\u001b[A\n",
      "\n",
      "chain 1 |\u001b[33m█▎        \u001b[0m| 00:01 Iteration:  200 / 3000 [  6%]  (Warmup)\n",
      "chain 1 |\u001b[33m█▌        \u001b[0m| 00:01 Iteration:  300 / 3000 [ 10%]  (Warmup)\n",
      "\n",
      "\u001b[A\u001b[A\n",
      "\n",
      "\u001b[A\u001b[A\n",
      "chain 1 |\u001b[33m█▉        \u001b[0m| 00:01 Iteration:  400 / 3000 [ 13%]  (Warmup)\n",
      "\n",
      "chain 1 |\u001b[33m██▏       \u001b[0m| 00:02 Iteration:  500 / 3000 [ 16%]  (Warmup)\n",
      "\u001b[A\n",
      "\n",
      "chain 1 |\u001b[33m██▌       \u001b[0m| 00:02 Iteration:  600 / 3000 [ 20%]  (Warmup)\n",
      "\n",
      "\u001b[A\u001b[A\n",
      "chain 1 |\u001b[33m██▊       \u001b[0m| 00:02 Iteration:  700 / 3000 [ 23%]  (Warmup)\n",
      "\u001b[A\n",
      "\n",
      "chain 1 |\u001b[33m███▏      \u001b[0m| 00:02 Iteration:  800 / 3000 [ 26%]  (Warmup)\n",
      "\u001b[A\n",
      "\n",
      "chain 1 |\u001b[33m███▍      \u001b[0m| 00:02 Iteration:  900 / 3000 [ 30%]  (Warmup)\n",
      "chain 1 |\u001b[34m████      \u001b[0m| 00:02 Iteration: 1001 / 3000 [ 33%]  (Sampling)\n",
      "\n",
      "\u001b[A\u001b[A\n",
      "\u001b[A\n",
      "chain 1 |\u001b[34m████▍     \u001b[0m| 00:02 Iteration: 1100 / 3000 [ 36%]  (Sampling)\n",
      "\n",
      "\u001b[A\u001b[A\n",
      "chain 1 |\u001b[34m████▋     \u001b[0m| 00:03 Iteration: 1200 / 3000 [ 40%]  (Sampling)\n",
      "\n",
      "chain 1 |\u001b[34m█████     \u001b[0m| 00:03 Iteration: 1300 / 3000 [ 43%]  (Sampling)\n",
      "\u001b[A\n",
      "\n",
      "chain 1 |\u001b[34m█████▎    \u001b[0m| 00:03 Iteration: 1400 / 3000 [ 46%]  (Sampling)\n",
      "\u001b[A\n",
      "\n",
      "chain 1 |\u001b[34m█████▋    \u001b[0m| 00:03 Iteration: 1500 / 3000 [ 50%]  (Sampling)\n",
      "\u001b[A\n",
      "\n",
      "chain 1 |\u001b[34m█████▉    \u001b[0m| 00:03 Iteration: 1600 / 3000 [ 53%]  (Sampling)\n",
      "\u001b[A\n",
      "\n",
      "chain 1 |\u001b[34m██████▎   \u001b[0m| 00:04 Iteration: 1700 / 3000 [ 56%]  (Sampling)\n",
      "\u001b[A\n",
      "\n",
      "chain 1 |\u001b[34m██████▌   \u001b[0m| 00:04 Iteration: 1800 / 3000 [ 60%]  (Sampling)\n",
      "\u001b[A\n",
      "\n",
      "chain 1 |\u001b[34m██████▉   \u001b[0m| 00:04 Iteration: 1900 / 3000 [ 63%]  (Sampling)\n",
      "\u001b[A\n",
      "\n",
      "chain 1 |\u001b[34m███████▏  \u001b[0m| 00:04 Iteration: 2000 / 3000 [ 66%]  (Sampling)\n",
      "chain 1 |\u001b[34m███████▌  \u001b[0m| 00:04 Iteration: 2100 / 3000 [ 70%]  (Sampling)\n",
      "\n",
      "\u001b[A\u001b[A\n",
      "chain 1 |\u001b[34m███████▊  \u001b[0m| 00:04 Iteration: 2200 / 3000 [ 73%]  (Sampling)\n",
      "\n",
      "\u001b[A\u001b[A\n",
      "chain 1 |\u001b[34m████████▏ \u001b[0m| 00:05 Iteration: 2300 / 3000 [ 76%]  (Sampling)\n",
      "\u001b[A\n",
      "\n",
      "chain 1 |\u001b[34m████████▍ \u001b[0m| 00:05 Iteration: 2400 / 3000 [ 80%]  (Sampling)\n",
      "\u001b[A\n",
      "\n",
      "chain 1 |\u001b[34m████████▊ \u001b[0m| 00:05 Iteration: 2500 / 3000 [ 83%]  (Sampling)\n",
      "\u001b[A\n",
      "\n",
      "chain 1 |\u001b[34m█████████ \u001b[0m| 00:05 Iteration: 2600 / 3000 [ 86%]  (Sampling)\n",
      "\u001b[A\n",
      "\n",
      "chain 1 |\u001b[34m█████████▍\u001b[0m| 00:05 Iteration: 2700 / 3000 [ 90%]  (Sampling)\n",
      "\u001b[A\n",
      "\n",
      "\u001b[A\u001b[A\n",
      "chain 1 |\u001b[34m█████████▋\u001b[0m| 00:05 Iteration: 2800 / 3000 [ 93%]  (Sampling)\n",
      "\n",
      "\u001b[A\u001b[A\n",
      "chain 1 |\u001b[34m██████████\u001b[0m| 00:06 Iteration: 2900 / 3000 [ 96%]  (Sampling)\n",
      "\n",
      "\u001b[A\u001b[A\n",
      "\u001b[A\n",
      "chain 1 |\u001b[34m██████████\u001b[0m| 00:06 Sampling completed                       \n",
      "chain 2 |\u001b[34m██████████\u001b[0m| 00:06 Sampling completed                       \n",
      "chain 3 |\u001b[34m██████████\u001b[0m| 00:06 Sampling completed                       \n",
      "chain 4 |\u001b[34m██████████\u001b[0m| 00:06 Sampling completed                       "
     ]
    },
    {
     "name": "stdout",
     "output_type": "stream",
     "text": [
      "                                                                                                                                                                                                                                                                                                                                "
     ]
    },
    {
     "name": "stderr",
     "output_type": "stream",
     "text": [
      "\n",
      "INFO:cmdstanpy:CmdStan done processing.\n"
     ]
    },
    {
     "name": "stdout",
     "output_type": "stream",
     "text": [
      "\n"
     ]
    },
    {
     "data": {
      "text/html": [
       "<div>\n",
       "<style scoped>\n",
       "    .dataframe tbody tr th:only-of-type {\n",
       "        vertical-align: middle;\n",
       "    }\n",
       "\n",
       "    .dataframe tbody tr th {\n",
       "        vertical-align: top;\n",
       "    }\n",
       "\n",
       "    .dataframe thead th {\n",
       "        text-align: right;\n",
       "    }\n",
       "</style>\n",
       "<table border=\"1\" class=\"dataframe\">\n",
       "  <thead>\n",
       "    <tr style=\"text-align: right;\">\n",
       "      <th></th>\n",
       "      <th>lp__</th>\n",
       "      <th>accept_stat__</th>\n",
       "      <th>stepsize__</th>\n",
       "      <th>treedepth__</th>\n",
       "      <th>n_leapfrog__</th>\n",
       "      <th>divergent__</th>\n",
       "      <th>energy__</th>\n",
       "      <th>alpha</th>\n",
       "      <th>beta_glucose</th>\n",
       "      <th>beta_age</th>\n",
       "      <th>beta_bmi</th>\n",
       "      <th>beta_bp</th>\n",
       "      <th>beta_insulin</th>\n",
       "      <th>beta_dpf</th>\n",
       "    </tr>\n",
       "  </thead>\n",
       "  <tbody>\n",
       "    <tr>\n",
       "      <th>0</th>\n",
       "      <td>-197.616</td>\n",
       "      <td>0.998455</td>\n",
       "      <td>0.075479</td>\n",
       "      <td>6.0</td>\n",
       "      <td>63.0</td>\n",
       "      <td>0.0</td>\n",
       "      <td>199.580</td>\n",
       "      <td>-5.92478</td>\n",
       "      <td>0.019515</td>\n",
       "      <td>0.020464</td>\n",
       "      <td>0.052101</td>\n",
       "      <td>-0.003173</td>\n",
       "      <td>0.001573</td>\n",
       "      <td>0.665409</td>\n",
       "    </tr>\n",
       "    <tr>\n",
       "      <th>1</th>\n",
       "      <td>-197.161</td>\n",
       "      <td>0.927845</td>\n",
       "      <td>0.075479</td>\n",
       "      <td>5.0</td>\n",
       "      <td>63.0</td>\n",
       "      <td>0.0</td>\n",
       "      <td>201.182</td>\n",
       "      <td>-5.87235</td>\n",
       "      <td>0.029941</td>\n",
       "      <td>0.046541</td>\n",
       "      <td>0.067628</td>\n",
       "      <td>-0.029868</td>\n",
       "      <td>-0.001518</td>\n",
       "      <td>0.254881</td>\n",
       "    </tr>\n",
       "    <tr>\n",
       "      <th>2</th>\n",
       "      <td>-197.283</td>\n",
       "      <td>0.959426</td>\n",
       "      <td>0.075479</td>\n",
       "      <td>4.0</td>\n",
       "      <td>31.0</td>\n",
       "      <td>0.0</td>\n",
       "      <td>201.030</td>\n",
       "      <td>-6.13605</td>\n",
       "      <td>0.027829</td>\n",
       "      <td>0.041593</td>\n",
       "      <td>0.063401</td>\n",
       "      <td>-0.020543</td>\n",
       "      <td>-0.000940</td>\n",
       "      <td>0.199483</td>\n",
       "    </tr>\n",
       "    <tr>\n",
       "      <th>3</th>\n",
       "      <td>-197.330</td>\n",
       "      <td>0.997647</td>\n",
       "      <td>0.075479</td>\n",
       "      <td>5.0</td>\n",
       "      <td>63.0</td>\n",
       "      <td>0.0</td>\n",
       "      <td>199.791</td>\n",
       "      <td>-4.75414</td>\n",
       "      <td>0.023610</td>\n",
       "      <td>0.062245</td>\n",
       "      <td>0.035809</td>\n",
       "      <td>-0.030752</td>\n",
       "      <td>-0.000033</td>\n",
       "      <td>0.347048</td>\n",
       "    </tr>\n",
       "    <tr>\n",
       "      <th>4</th>\n",
       "      <td>-198.785</td>\n",
       "      <td>0.910336</td>\n",
       "      <td>0.075479</td>\n",
       "      <td>6.0</td>\n",
       "      <td>63.0</td>\n",
       "      <td>0.0</td>\n",
       "      <td>203.309</td>\n",
       "      <td>-6.20162</td>\n",
       "      <td>0.032957</td>\n",
       "      <td>0.019600</td>\n",
       "      <td>0.077059</td>\n",
       "      <td>-0.027551</td>\n",
       "      <td>-0.000552</td>\n",
       "      <td>0.793033</td>\n",
       "    </tr>\n",
       "  </tbody>\n",
       "</table>\n",
       "</div>"
      ],
      "text/plain": [
       "      lp__  accept_stat__  stepsize__  treedepth__  n_leapfrog__  divergent__  \\\n",
       "0 -197.616       0.998455    0.075479          6.0          63.0          0.0   \n",
       "1 -197.161       0.927845    0.075479          5.0          63.0          0.0   \n",
       "2 -197.283       0.959426    0.075479          4.0          31.0          0.0   \n",
       "3 -197.330       0.997647    0.075479          5.0          63.0          0.0   \n",
       "4 -198.785       0.910336    0.075479          6.0          63.0          0.0   \n",
       "\n",
       "   energy__    alpha  beta_glucose  beta_age  beta_bmi   beta_bp  \\\n",
       "0   199.580 -5.92478      0.019515  0.020464  0.052101 -0.003173   \n",
       "1   201.182 -5.87235      0.029941  0.046541  0.067628 -0.029868   \n",
       "2   201.030 -6.13605      0.027829  0.041593  0.063401 -0.020543   \n",
       "3   199.791 -4.75414      0.023610  0.062245  0.035809 -0.030752   \n",
       "4   203.309 -6.20162      0.032957  0.019600  0.077059 -0.027551   \n",
       "\n",
       "   beta_insulin  beta_dpf  \n",
       "0      0.001573  0.665409  \n",
       "1     -0.001518  0.254881  \n",
       "2     -0.000940  0.199483  \n",
       "3     -0.000033  0.347048  \n",
       "4     -0.000552  0.793033  "
      ]
     },
     "execution_count": 18,
     "metadata": {},
     "output_type": "execute_result"
    }
   ],
   "source": [
    "sm2 = CmdStanModel(stan_file='Stan/code_2.stan')\n",
    "\n",
    "fit2 = sm2.sample(data=stan2_data, iter_sampling=2000, chains=4, iter_warmup=1000, seed=2108005)\n",
    "# print(fit2.summary())\n",
    "df3 = fit2.draws_pd()\n",
    "df3.head()"
   ]
  },
  {
   "cell_type": "code",
   "execution_count": 19,
   "metadata": {},
   "outputs": [],
   "source": [
    "alpha_mean = df3['alpha'].mean()\n",
    "beta_glucose_mean = df3['beta_glucose'].mean()\n",
    "beta_age_mean = df3['beta_age'].mean()\n",
    "beta_bmi_mean = df3['beta_bmi'].mean()\n",
    "beta_bp_mean = df3['beta_bp'].mean()\n",
    "beta_insulin_mean = df3['beta_insulin'].mean()\n",
    "beta_dpf_mean = df3['beta_dpf'].mean()"
   ]
  },
  {
   "cell_type": "code",
   "execution_count": 20,
   "metadata": {},
   "outputs": [
    {
     "name": "stdout",
     "output_type": "stream",
     "text": [
      "   Probability\n",
      "0     0.171685\n",
      "1     0.265957\n",
      "2     0.523345\n",
      "3     0.331152\n",
      "4     0.206111\n"
     ]
    }
   ],
   "source": [
    "logit_preds_test = alpha_mean + (test2_data['X'][:, 0] * beta_glucose_mean +\n",
    "                                 test2_data['X'][:, 1] * beta_age_mean +\n",
    "                                 test2_data['X'][:, 2] * beta_bmi_mean +\n",
    "                                 test2_data['X'][:, 3] * beta_bp_mean + \n",
    "                                 test2_data['X'][:, 4] * beta_insulin_mean +\n",
    "                                 test2_data['X'][:, 5] * beta_dpf_mean)\n",
    "\n",
    "probs_test2 = 1 / (1 + np.exp(-logit_preds_test))\n",
    "\n",
    "probs_df = pd.DataFrame(probs_test2, columns=['Probability'])\n",
    "print(probs_df.head())"
   ]
  },
  {
   "cell_type": "code",
   "execution_count": 21,
   "metadata": {},
   "outputs": [],
   "source": [
    "# Konwersja prawdopodobieństw do przewidywanych klas\n",
    "preds_test2 = (probs_test2 > 0.5).astype(int)\n",
    "\n",
    "# Obliczanie metryk\n",
    "accuracy = accuracy_score(test2_data['y'], preds_test2)\n",
    "precision = precision_score(test2_data['y'], preds_test2)\n",
    "recall = recall_score(test2_data['y'], preds_test2)\n",
    "f1 = f1_score(test2_data['y'], preds_test2)"
   ]
  },
  {
   "cell_type": "code",
   "execution_count": 22,
   "metadata": {},
   "outputs": [
    {
     "data": {
      "image/png": "[encoded data removed]",
      "text/plain": [
       "<Figure size 576x432 with 1 Axes>"
      ]
     },
     "metadata": {},
     "output_type": "display_data"
    }
   ],
   "source": [
    "\n",
    "preds_test2 = (probs_test2 > 0.5).astype(int)\n",
    "\n",
    "conf_matrix = confusion_matrix(test2_data['y'], preds_test2)\n",
    "\n",
    "\n",
    "plt.figure(figsize=(8, 6))\n",
    "sns.heatmap(conf_matrix, annot=True, fmt='d', cmap='Blues', cbar=False)\n",
    "plt.title('Macierz pomyłek')\n",
    "plt.xlabel('Przewidziane klasy')\n",
    "plt.ylabel('Rzeczywiste klasy')\n",
    "plt.show()"
   ]
  },
  {
   "cell_type": "code",
   "execution_count": 23,
   "metadata": {},
   "outputs": [
    {
     "name": "stdout",
     "output_type": "stream",
     "text": [
      "Accuracy: 0.85\n",
      "Precision: 0.81\n",
      "Recall: 0.68\n",
      "F1 Score: 0.74\n"
     ]
    }
   ],
   "source": [
    "# Krzywa ROC i obliczenie AUC\n",
    "fpr, tpr, _ = roc_curve(test2_data['y'], probs_test2)\n",
    "roc_auc = auc(fpr, tpr)\n",
    "\n",
    "# Wyświetlanie wyników\n",
    "print(f\"Accuracy: {accuracy:.2f}\")\n",
    "print(f\"Precision: {precision:.2f}\")\n",
    "print(f\"Recall: {recall:.2f}\")\n",
    "print(f\"F1 Score: {f1:.2f}\")"
   ]
  },
  {
   "cell_type": "code",
   "execution_count": 24,
   "metadata": {},
   "outputs": [
    {
     "data": {
      "image/png": "[encoded data removed]",
      "text/plain": [
       "<Figure size 432x288 with 1 Axes>"
      ]
     },
     "metadata": {},
     "output_type": "display_data"
    }
   ],
   "source": [
    "plt.figure()\n",
    "plt.plot(fpr, tpr, color='darkorange', lw=2, label='ROC curve (area = %0.2f)' % roc_auc)\n",
    "plt.plot([0, 1], [0, 1], color='navy', lw=2, linestyle='--')\n",
    "plt.xlim([0.0, 1.0])\n",
    "plt.ylim([0.0, 1.05])\n",
    "plt.xlabel('False Positive Rate')\n",
    "plt.ylabel('True Positive Rate')\n",
    "plt.title('Receiver Operating Characteristic')\n",
    "plt.legend(loc=\"lower right\")\n",
    "plt.show()"
   ]
  }
 ],
 "metadata": {
  "kernelspec": {
   "display_name": "Python 3",
   "language": "python",
   "name": "python3"
  },
  "language_info": {
   "codemirror_mode": {
    "name": "ipython",
    "version": 3
   },
   "file_extension": ".py",
   "mimetype": "text/x-python",
   "name": "python",
   "nbconvert_exporter": "python",
   "pygments_lexer": "ipython3",
   "version": "3.12.2"
  }
 },
 "nbformat": 4,
 "nbformat_minor": 2
}
