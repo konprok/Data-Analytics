{
 "cells": [
  {
   "cell_type": "markdown",
   "metadata": {},
   "source": [
    "Models Comparsion"
   ]
  },
  {
   "cell_type": "code",
   "execution_count": 1,
   "metadata": {},
   "outputs": [],
   "source": [
    "import pandas as pd\n",
    "import numpy as np\n",
    "from cmdstanpy import CmdStanModel\n",
    "import arviz as az\n",
    "import matplotlib.pyplot as plt\n",
    "import seaborn as sns"
   ]
  },
  {
   "cell_type": "code",
   "execution_count": 2,
   "metadata": {},
   "outputs": [],
   "source": [
    "pima = pd.read_csv('Data/diabetes.csv', sep=';')\n",
    "df = pd.read_csv('Data/diabetes_pt1.csv', sep=';')\n",
    "df_test = pd.read_csv('Data/diabetes_pt2.csv', sep=';')"
   ]
  },
  {
   "cell_type": "code",
   "execution_count": 3,
   "metadata": {},
   "outputs": [
    {
     "name": "stderr",
     "output_type": "stream",
     "text": [
      "INFO:cmdstanpy:found newer exe file, not recompiling\n",
      "INFO:cmdstanpy:CmdStan start processing\n"
     ]
    },
    {
     "data": {
      "application/json": {
       "ascii": false,
       "bar_format": "{desc} |{bar}| {elapsed} {postfix[0][value]}",
       "colour": null,
       "elapsed": 0.006776571273803711,
       "initial": 0,
       "n": 0,
       "ncols": null,
       "nrows": null,
       "postfix": [
        {
         "value": "Status"
        }
       ],
       "prefix": "chain 1",
       "rate": null,
       "total": 32,
       "unit": "it",
       "unit_divisor": 1000,
       "unit_scale": false
      },
      "application/vnd.jupyter.widget-view+json": {
       "model_id": "7663701d763a4e95bb102fe91a424df2",
       "version_major": 2,
       "version_minor": 0
      },
      "text/plain": [
       "chain 1 |          | 00:00 Status"
      ]
     },
     "metadata": {},
     "output_type": "display_data"
    },
    {
     "data": {
      "application/json": {
       "ascii": false,
       "bar_format": "{desc} |{bar}| {elapsed} {postfix[0][value]}",
       "colour": null,
       "elapsed": 0.00573277473449707,
       "initial": 0,
       "n": 0,
       "ncols": null,
       "nrows": null,
       "postfix": [
        {
         "value": "Status"
        }
       ],
       "prefix": "chain 2",
       "rate": null,
       "total": 32,
       "unit": "it",
       "unit_divisor": 1000,
       "unit_scale": false
      },
      "application/vnd.jupyter.widget-view+json": {
       "model_id": "9013a039d7864299a759e48db4086371",
       "version_major": 2,
       "version_minor": 0
      },
      "text/plain": [
       "chain 2 |          | 00:00 Status"
      ]
     },
     "metadata": {},
     "output_type": "display_data"
    },
    {
     "data": {
      "application/json": {
       "ascii": false,
       "bar_format": "{desc} |{bar}| {elapsed} {postfix[0][value]}",
       "colour": null,
       "elapsed": 0.007093667984008789,
       "initial": 0,
       "n": 0,
       "ncols": null,
       "nrows": null,
       "postfix": [
        {
         "value": "Status"
        }
       ],
       "prefix": "chain 3",
       "rate": null,
       "total": 32,
       "unit": "it",
       "unit_divisor": 1000,
       "unit_scale": false
      },
      "application/vnd.jupyter.widget-view+json": {
       "model_id": "1a894aa8f62644e4a49934898cb21d2c",
       "version_major": 2,
       "version_minor": 0
      },
      "text/plain": [
       "chain 3 |          | 00:00 Status"
      ]
     },
     "metadata": {},
     "output_type": "display_data"
    },
    {
     "data": {
      "application/json": {
       "ascii": false,
       "bar_format": "{desc} |{bar}| {elapsed} {postfix[0][value]}",
       "colour": null,
       "elapsed": 0.006544351577758789,
       "initial": 0,
       "n": 0,
       "ncols": null,
       "nrows": null,
       "postfix": [
        {
         "value": "Status"
        }
       ],
       "prefix": "chain 4",
       "rate": null,
       "total": 32,
       "unit": "it",
       "unit_divisor": 1000,
       "unit_scale": false
      },
      "application/vnd.jupyter.widget-view+json": {
       "model_id": "f41dca4911df4c9f86b2a81aab17f549",
       "version_major": 2,
       "version_minor": 0
      },
      "text/plain": [
       "chain 4 |          | 00:00 Status"
      ]
     },
     "metadata": {},
     "output_type": "display_data"
    },
    {
     "name": "stdout",
     "output_type": "stream",
     "text": [
      "                                                                                                                                                                                                                                                                                                                                "
     ]
    },
    {
     "name": "stderr",
     "output_type": "stream",
     "text": [
      "INFO:cmdstanpy:CmdStan done processing.\n"
     ]
    },
    {
     "name": "stdout",
     "output_type": "stream",
     "text": [
      "\n"
     ]
    },
    {
     "name": "stderr",
     "output_type": "stream",
     "text": [
      "INFO:cmdstanpy:found newer exe file, not recompiling\n",
      "INFO:cmdstanpy:CmdStan start processing\n"
     ]
    },
    {
     "data": {
      "application/json": {
       "ascii": false,
       "bar_format": "{desc} |{bar}| {elapsed} {postfix[0][value]}",
       "colour": null,
       "elapsed": 0.008308172225952148,
       "initial": 0,
       "n": 0,
       "ncols": null,
       "nrows": null,
       "postfix": [
        {
         "value": "Status"
        }
       ],
       "prefix": "chain 1",
       "rate": null,
       "total": 32,
       "unit": "it",
       "unit_divisor": 1000,
       "unit_scale": false
      },
      "application/vnd.jupyter.widget-view+json": {
       "model_id": "081109f7b4584f04adfdbf73ca81dfee",
       "version_major": 2,
       "version_minor": 0
      },
      "text/plain": [
       "chain 1 |          | 00:00 Status"
      ]
     },
     "metadata": {},
     "output_type": "display_data"
    },
    {
     "data": {
      "application/json": {
       "ascii": false,
       "bar_format": "{desc} |{bar}| {elapsed} {postfix[0][value]}",
       "colour": null,
       "elapsed": 0.00902247428894043,
       "initial": 0,
       "n": 0,
       "ncols": null,
       "nrows": null,
       "postfix": [
        {
         "value": "Status"
        }
       ],
       "prefix": "chain 2",
       "rate": null,
       "total": 32,
       "unit": "it",
       "unit_divisor": 1000,
       "unit_scale": false
      },
      "application/vnd.jupyter.widget-view+json": {
       "model_id": "9f2b3520222d44268d1d22c73e932193",
       "version_major": 2,
       "version_minor": 0
      },
      "text/plain": [
       "chain 2 |          | 00:00 Status"
      ]
     },
     "metadata": {},
     "output_type": "display_data"
    },
    {
     "data": {
      "application/json": {
       "ascii": false,
       "bar_format": "{desc} |{bar}| {elapsed} {postfix[0][value]}",
       "colour": null,
       "elapsed": 0.008820295333862305,
       "initial": 0,
       "n": 0,
       "ncols": null,
       "nrows": null,
       "postfix": [
        {
         "value": "Status"
        }
       ],
       "prefix": "chain 3",
       "rate": null,
       "total": 32,
       "unit": "it",
       "unit_divisor": 1000,
       "unit_scale": false
      },
      "application/vnd.jupyter.widget-view+json": {
       "model_id": "d33c09fe8f9044649cc3f4ce88944257",
       "version_major": 2,
       "version_minor": 0
      },
      "text/plain": [
       "chain 3 |          | 00:00 Status"
      ]
     },
     "metadata": {},
     "output_type": "display_data"
    },
    {
     "data": {
      "application/json": {
       "ascii": false,
       "bar_format": "{desc} |{bar}| {elapsed} {postfix[0][value]}",
       "colour": null,
       "elapsed": 0.010236740112304688,
       "initial": 0,
       "n": 0,
       "ncols": null,
       "nrows": null,
       "postfix": [
        {
         "value": "Status"
        }
       ],
       "prefix": "chain 4",
       "rate": null,
       "total": 32,
       "unit": "it",
       "unit_divisor": 1000,
       "unit_scale": false
      },
      "application/vnd.jupyter.widget-view+json": {
       "model_id": "2bbd6f30adf14f198f83b2dbedf26bd0",
       "version_major": 2,
       "version_minor": 0
      },
      "text/plain": [
       "chain 4 |          | 00:00 Status"
      ]
     },
     "metadata": {},
     "output_type": "display_data"
    },
    {
     "name": "stdout",
     "output_type": "stream",
     "text": [
      "                                                                                                                                                                                                                                                                                                                                "
     ]
    },
    {
     "name": "stderr",
     "output_type": "stream",
     "text": [
      "INFO:cmdstanpy:CmdStan done processing.\n"
     ]
    },
    {
     "name": "stdout",
     "output_type": "stream",
     "text": [
      "\n"
     ]
    },
    {
     "name": "stderr",
     "output_type": "stream",
     "text": [
      "/tmp/ipykernel_45967/3058903877.py:25: DeprecationWarning: `product` is deprecated as of NumPy 1.25.0, and will be removed in NumPy 2.0. Please use `prod` instead.\n",
      "  waic1 = az.waic(idata1)\n",
      "/tmp/ipykernel_45967/3058903877.py:26: DeprecationWarning: `product` is deprecated as of NumPy 1.25.0, and will be removed in NumPy 2.0. Please use `prod` instead.\n",
      "  waic2 = az.waic(idata2)\n",
      "/usr/local/lib/python3.12/site-packages/arviz/stats/stats.py:1635: UserWarning: For one or more samples the posterior variance of the log predictive densities exceeds 0.4. This could be indication of WAIC starting to fail. \n",
      "See http://arxiv.org/abs/1507.04544 for details\n",
      "  warnings.warn(\n",
      "/tmp/ipykernel_45967/3058903877.py:27: DeprecationWarning: `product` is deprecated as of NumPy 1.25.0, and will be removed in NumPy 2.0. Please use `prod` instead.\n",
      "  loo1 = az.loo(idata1)\n",
      "/tmp/ipykernel_45967/3058903877.py:28: DeprecationWarning: `product` is deprecated as of NumPy 1.25.0, and will be removed in NumPy 2.0. Please use `prod` instead.\n",
      "  loo2 = az.loo(idata2)\n"
     ]
    },
    {
     "name": "stdout",
     "output_type": "stream",
     "text": [
      "Model 1 WAIC: Computed from 8000 by 293 log-likelihood matrix\n",
      "\n",
      "          Estimate       SE\n",
      "elpd_waic  -145.23     7.01\n",
      "p_waic        3.40        -\n",
      "Model 2 WAIC: Computed from 8000 by 293 log-likelihood matrix\n",
      "\n",
      "          Estimate       SE\n",
      "elpd_waic  -146.59     7.70\n",
      "p_waic        6.13        -\n",
      "\n",
      "There has been a warning during the calculation. Please check the results.\n",
      "Model 1 PSIS-LOO: Computed from 8000 by 293 log-likelihood matrix\n",
      "\n",
      "         Estimate       SE\n",
      "elpd_loo  -145.23     7.01\n",
      "p_loo        3.41        -\n",
      "------\n",
      "\n",
      "Pareto k diagnostic values:\n",
      "                         Count   Pct.\n",
      "(-Inf, 0.5]   (good)      293  100.0%\n",
      " (0.5, 0.7]   (ok)          0    0.0%\n",
      "   (0.7, 1]   (bad)         0    0.0%\n",
      "   (1, Inf)   (very bad)    0    0.0%\n",
      "\n",
      "Model 2 PSIS-LOO: Computed from 8000 by 293 log-likelihood matrix\n",
      "\n",
      "         Estimate       SE\n",
      "elpd_loo  -146.60     7.70\n",
      "p_loo        6.14        -\n",
      "------\n",
      "\n",
      "Pareto k diagnostic values:\n",
      "                         Count   Pct.\n",
      "(-Inf, 0.5]   (good)      293  100.0%\n",
      " (0.5, 0.7]   (ok)          0    0.0%\n",
      "   (0.7, 1]   (bad)         0    0.0%\n",
      "   (1, Inf)   (very bad)    0    0.0%\n",
      "\n",
      "        rank        waic    p_waic    d_waic    weight        se       dse  \\\n",
      "model1     0 -145.229759  3.403215  0.000000  0.730849  7.005727  0.000000   \n",
      "model2     1 -146.588611  6.126533  1.358852  0.269151  7.700668  2.423146   \n",
      "\n",
      "        warning waic_scale  \n",
      "model1    False        log  \n",
      "model2     True        log  \n"
     ]
    },
    {
     "name": "stderr",
     "output_type": "stream",
     "text": [
      "/usr/local/lib/python3.12/site-packages/arviz/stats/stats.py:1635: UserWarning: For one or more samples the posterior variance of the log predictive densities exceeds 0.4. This could be indication of WAIC starting to fail. \n",
      "See http://arxiv.org/abs/1507.04544 for details\n",
      "  warnings.warn(\n"
     ]
    }
   ],
   "source": [
    "feature_columns1 = ['Glucose', 'BMI', 'Age']\n",
    "feature_columns2 = ['Glucose', 'Age', 'BMI', 'BloodPressure', 'Insulin', 'DiabetesPedigreeFunction']\n",
    "\n",
    "stan1_data = {\n",
    "    'N': len(df),\n",
    "    'X': df[feature_columns1].values,\n",
    "    'y': df['Outcome'].values\n",
    "}\n",
    "\n",
    "stan2_data = {\n",
    "    'N': len(df),\n",
    "    'X': df[feature_columns2].values,\n",
    "    'y': df['Outcome'].values\n",
    "}\n",
    "\n",
    "sm1 = CmdStanModel(stan_file='Stan/code_1.stan')\n",
    "fit1 = sm1.sample(data=stan1_data, iter_sampling=2000, chains=4, iter_warmup=1000)\n",
    "\n",
    "sm2 = CmdStanModel(stan_file='Stan/code_2.stan')\n",
    "fit2 = sm2.sample(data=stan2_data, iter_sampling=2000, chains=4, iter_warmup=1000)\n",
    "\n",
    "idata1 = az.from_cmdstanpy(posterior=fit1, log_likelihood=\"log_lik\")\n",
    "idata2 = az.from_cmdstanpy(posterior=fit2, log_likelihood=\"log_lik\")\n",
    "\n",
    "waic1 = az.waic(idata1)\n",
    "waic2 = az.waic(idata2)\n",
    "loo1 = az.loo(idata1)\n",
    "loo2 = az.loo(idata2)\n",
    "\n",
    "print(\"Model 1 WAIC:\", waic1)\n",
    "print(\"Model 2 WAIC:\", waic2)\n",
    "print(\"Model 1 PSIS-LOO:\", loo1)\n",
    "print(\"Model 2 PSIS-LOO:\", loo2)\n",
    "\n",
    "comparison = az.compare({'model1': idata1, 'model2': idata2}, ic=\"waic\")\n",
    "print(comparison)"
   ]
  },
  {
   "cell_type": "code",
   "execution_count": 4,
   "metadata": {},
   "outputs": [
    {
     "name": "stderr",
     "output_type": "stream",
     "text": [
      "/usr/local/lib/python3.12/site-packages/arviz/stats/stats.py:1635: UserWarning: For one or more samples the posterior variance of the log predictive densities exceeds 0.4. This could be indication of WAIC starting to fail. \n",
      "See http://arxiv.org/abs/1507.04544 for details\n",
      "  warnings.warn(\n"
     ]
    },
    {
     "name": "stdout",
     "output_type": "stream",
     "text": [
      "                         rank        waic    p_waic    d_waic    weight  \\\n",
      "Model 1 (3 predicators)     0 -145.229759  3.403215  0.000000  0.730849   \n",
      "Model 2 (6 predicators)     1 -146.588611  6.126533  1.358852  0.269151   \n",
      "\n",
      "                               se       dse  warning waic_scale  \n",
      "Model 1 (3 predicators)  7.005727  0.000000    False        log  \n",
      "Model 2 (6 predicators)  7.700668  2.423146     True        log  \n"
     ]
    },
    {
     "data": {
      "image/png": "[encoded data removed]",
      "text/plain": [
       "<Figure size 600x200 with 1 Axes>"
      ]
     },
     "metadata": {},
     "output_type": "display_data"
    }
   ],
   "source": [
    "compare_dict = {'Model 1 (3 predicators)': fit1, 'Model 2 (6 predicators)': fit2}\n",
    "\n",
    "waic_compare = az.compare(compare_dict, ic='waic')\n",
    "print(waic_compare)\n",
    "az.plot_compare(waic_compare)\n",
    "plt.title('WAIC result')\n",
    "plt.show()"
   ]
  },
  {
   "cell_type": "code",
   "execution_count": 5,
   "metadata": {},
   "outputs": [
    {
     "name": "stdout",
     "output_type": "stream",
     "text": [
      "                         rank         loo     p_loo     d_loo    weight  \\\n",
      "Model 1 (3 predicators)     0 -145.234858  3.408314  0.000000  0.732676   \n",
      "Model 2 (6 predicators)     1 -146.602121  6.140043  1.367263  0.267324   \n",
      "\n",
      "                               se       dse  warning loo_scale  \n",
      "Model 1 (3 predicators)  7.006221  0.000000    False       log  \n",
      "Model 2 (6 predicators)  7.701163  2.422196    False       log  \n"
     ]
    },
    {
     "data": {
      "image/png": "[encoded data removed]",
      "text/plain": [
       "<Figure size 600x200 with 1 Axes>"
      ]
     },
     "metadata": {},
     "output_type": "display_data"
    }
   ],
   "source": [
    "loo_compare = az.compare(compare_dict, ic='loo')\n",
    "print(loo_compare)\n",
    "az.plot_compare(loo_compare)\n",
    "plt.title('LOO results')\n",
    "plt.show()"
   ]
  }
 ],
 "metadata": {
  "kernelspec": {
   "display_name": "Python 3",
   "language": "python",
   "name": "python3"
  },
  "language_info": {
   "codemirror_mode": {
    "name": "ipython",
    "version": 3
   },
   "file_extension": ".py",
   "mimetype": "text/x-python",
   "name": "python",
   "nbconvert_exporter": "python",
   "pygments_lexer": "ipython3",
   "version": "3.12.2"
  }
 },
 "nbformat": 4,
 "nbformat_minor": 2
}
