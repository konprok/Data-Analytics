{
 "cells": [
  {
   "cell_type": "markdown",
   "metadata": {},
   "source": [
    "Porówanie modeli"
   ]
  },
  {
   "cell_type": "code",
   "execution_count": 4,
   "metadata": {},
   "outputs": [],
   "source": [
    "import pandas as pd\n",
    "import numpy as np\n",
    "from cmdstanpy import CmdStanModel\n",
    "import arviz as az\n",
    "import matplotlib.pyplot as plt\n",
    "import seaborn as sns"
   ]
  },
  {
   "cell_type": "code",
   "execution_count": 5,
   "metadata": {},
   "outputs": [],
   "source": [
    "# Ładowanie danych\n",
    "pima = pd.read_csv('Data/diabetes.csv', sep=';')\n",
    "df = pd.read_csv('Data/diabetes_pt1.csv', sep=';')\n",
    "df_test = pd.read_csv('Data/diabetes_pt2.csv', sep=';')"
   ]
  },
  {
   "cell_type": "code",
   "execution_count": 6,
   "metadata": {},
   "outputs": [
    {
     "name": "stderr",
     "output_type": "stream",
     "text": [
      "INFO:cmdstanpy:compiling stan file /DA/Data-Analytics/Project/PimaDiabetesPrediction/LogisticRegresion/Stan/code_1.stan to exe file /DA/Data-Analytics/Project/PimaDiabetesPrediction/LogisticRegresion/Stan/code_1\n",
      "INFO:cmdstanpy:compiled model executable: /DA/Data-Analytics/Project/PimaDiabetesPrediction/LogisticRegresion/Stan/code_1\n",
      "INFO:cmdstanpy:CmdStan start processing\n"
     ]
    },
    {
     "data": {
      "application/json": {
       "ascii": false,
       "bar_format": "{desc} |{bar}| {elapsed} {postfix[0][value]}",
       "colour": null,
       "elapsed": 0.013935089111328125,
       "initial": 0,
       "n": 0,
       "ncols": null,
       "nrows": null,
       "postfix": [
        {
         "value": "Status"
        }
       ],
       "prefix": "chain 1",
       "rate": null,
       "total": 32,
       "unit": "it",
       "unit_divisor": 1000,
       "unit_scale": false
      },
      "application/vnd.jupyter.widget-view+json": {
       "model_id": "7a909141bd994ef28254eb5f0955fd4a",
       "version_major": 2,
       "version_minor": 0
      },
      "text/plain": [
       "chain 1 |          | 00:00 Status"
      ]
     },
     "metadata": {},
     "output_type": "display_data"
    },
    {
     "data": {
      "application/json": {
       "ascii": false,
       "bar_format": "{desc} |{bar}| {elapsed} {postfix[0][value]}",
       "colour": null,
       "elapsed": 0.014644861221313477,
       "initial": 0,
       "n": 0,
       "ncols": null,
       "nrows": null,
       "postfix": [
        {
         "value": "Status"
        }
       ],
       "prefix": "chain 2",
       "rate": null,
       "total": 32,
       "unit": "it",
       "unit_divisor": 1000,
       "unit_scale": false
      },
      "application/vnd.jupyter.widget-view+json": {
       "model_id": "d2d8ae9d903943899bc93ecc20fe9b6e",
       "version_major": 2,
       "version_minor": 0
      },
      "text/plain": [
       "chain 2 |          | 00:00 Status"
      ]
     },
     "metadata": {},
     "output_type": "display_data"
    },
    {
     "data": {
      "application/json": {
       "ascii": false,
       "bar_format": "{desc} |{bar}| {elapsed} {postfix[0][value]}",
       "colour": null,
       "elapsed": 0.013936042785644531,
       "initial": 0,
       "n": 0,
       "ncols": null,
       "nrows": null,
       "postfix": [
        {
         "value": "Status"
        }
       ],
       "prefix": "chain 3",
       "rate": null,
       "total": 32,
       "unit": "it",
       "unit_divisor": 1000,
       "unit_scale": false
      },
      "application/vnd.jupyter.widget-view+json": {
       "model_id": "82faa74f60e24646aeb1a133644fe9dd",
       "version_major": 2,
       "version_minor": 0
      },
      "text/plain": [
       "chain 3 |          | 00:00 Status"
      ]
     },
     "metadata": {},
     "output_type": "display_data"
    },
    {
     "data": {
      "application/json": {
       "ascii": false,
       "bar_format": "{desc} |{bar}| {elapsed} {postfix[0][value]}",
       "colour": null,
       "elapsed": 0.012960433959960938,
       "initial": 0,
       "n": 0,
       "ncols": null,
       "nrows": null,
       "postfix": [
        {
         "value": "Status"
        }
       ],
       "prefix": "chain 4",
       "rate": null,
       "total": 32,
       "unit": "it",
       "unit_divisor": 1000,
       "unit_scale": false
      },
      "application/vnd.jupyter.widget-view+json": {
       "model_id": "dc43581a6bbf42c6af0525d147b5e76f",
       "version_major": 2,
       "version_minor": 0
      },
      "text/plain": [
       "chain 4 |          | 00:00 Status"
      ]
     },
     "metadata": {},
     "output_type": "display_data"
    },
    {
     "name": "stdout",
     "output_type": "stream",
     "text": [
      "                                                                                                                                                                                                                                                                                                                                "
     ]
    },
    {
     "name": "stderr",
     "output_type": "stream",
     "text": [
      "INFO:cmdstanpy:CmdStan done processing.\n"
     ]
    },
    {
     "name": "stdout",
     "output_type": "stream",
     "text": [
      "\n"
     ]
    },
    {
     "name": "stderr",
     "output_type": "stream",
     "text": [
      "INFO:cmdstanpy:compiling stan file /DA/Data-Analytics/Project/PimaDiabetesPrediction/LogisticRegresion/Stan/code_2.stan to exe file /DA/Data-Analytics/Project/PimaDiabetesPrediction/LogisticRegresion/Stan/code_2\n",
      "INFO:cmdstanpy:compiled model executable: /DA/Data-Analytics/Project/PimaDiabetesPrediction/LogisticRegresion/Stan/code_2\n",
      "INFO:cmdstanpy:CmdStan start processing\n"
     ]
    },
    {
     "data": {
      "application/json": {
       "ascii": false,
       "bar_format": "{desc} |{bar}| {elapsed} {postfix[0][value]}",
       "colour": null,
       "elapsed": 0.014504671096801758,
       "initial": 0,
       "n": 0,
       "ncols": null,
       "nrows": null,
       "postfix": [
        {
         "value": "Status"
        }
       ],
       "prefix": "chain 1",
       "rate": null,
       "total": 32,
       "unit": "it",
       "unit_divisor": 1000,
       "unit_scale": false
      },
      "application/vnd.jupyter.widget-view+json": {
       "model_id": "b059ed9862ec4617a1f08a6cf5a3e7e3",
       "version_major": 2,
       "version_minor": 0
      },
      "text/plain": [
       "chain 1 |          | 00:00 Status"
      ]
     },
     "metadata": {},
     "output_type": "display_data"
    },
    {
     "data": {
      "application/json": {
       "ascii": false,
       "bar_format": "{desc} |{bar}| {elapsed} {postfix[0][value]}",
       "colour": null,
       "elapsed": 0.012328624725341797,
       "initial": 0,
       "n": 0,
       "ncols": null,
       "nrows": null,
       "postfix": [
        {
         "value": "Status"
        }
       ],
       "prefix": "chain 2",
       "rate": null,
       "total": 32,
       "unit": "it",
       "unit_divisor": 1000,
       "unit_scale": false
      },
      "application/vnd.jupyter.widget-view+json": {
       "model_id": "1589f33b889f4a2aafa2ea7dd1d231bf",
       "version_major": 2,
       "version_minor": 0
      },
      "text/plain": [
       "chain 2 |          | 00:00 Status"
      ]
     },
     "metadata": {},
     "output_type": "display_data"
    },
    {
     "data": {
      "application/json": {
       "ascii": false,
       "bar_format": "{desc} |{bar}| {elapsed} {postfix[0][value]}",
       "colour": null,
       "elapsed": 0.013644695281982422,
       "initial": 0,
       "n": 0,
       "ncols": null,
       "nrows": null,
       "postfix": [
        {
         "value": "Status"
        }
       ],
       "prefix": "chain 3",
       "rate": null,
       "total": 32,
       "unit": "it",
       "unit_divisor": 1000,
       "unit_scale": false
      },
      "application/vnd.jupyter.widget-view+json": {
       "model_id": "5f148b0e2b6b49a5956d34e43d90d74a",
       "version_major": 2,
       "version_minor": 0
      },
      "text/plain": [
       "chain 3 |          | 00:00 Status"
      ]
     },
     "metadata": {},
     "output_type": "display_data"
    },
    {
     "data": {
      "application/json": {
       "ascii": false,
       "bar_format": "{desc} |{bar}| {elapsed} {postfix[0][value]}",
       "colour": null,
       "elapsed": 0.013054132461547852,
       "initial": 0,
       "n": 0,
       "ncols": null,
       "nrows": null,
       "postfix": [
        {
         "value": "Status"
        }
       ],
       "prefix": "chain 4",
       "rate": null,
       "total": 32,
       "unit": "it",
       "unit_divisor": 1000,
       "unit_scale": false
      },
      "application/vnd.jupyter.widget-view+json": {
       "model_id": "e8147f2b173a4703b29830da3e51481d",
       "version_major": 2,
       "version_minor": 0
      },
      "text/plain": [
       "chain 4 |          | 00:00 Status"
      ]
     },
     "metadata": {},
     "output_type": "display_data"
    },
    {
     "name": "stdout",
     "output_type": "stream",
     "text": [
      "                                                                                                                                                                                                                                                                                                                                "
     ]
    },
    {
     "name": "stderr",
     "output_type": "stream",
     "text": [
      "INFO:cmdstanpy:CmdStan done processing.\n"
     ]
    },
    {
     "name": "stdout",
     "output_type": "stream",
     "text": [
      "\n"
     ]
    },
    {
     "name": "stderr",
     "output_type": "stream",
     "text": [
      "/tmp/ipykernel_28757/4065327861.py:30: DeprecationWarning: `product` is deprecated as of NumPy 1.25.0, and will be removed in NumPy 2.0. Please use `prod` instead.\n",
      "  waic1 = az.waic(idata1)\n",
      "/tmp/ipykernel_28757/4065327861.py:31: DeprecationWarning: `product` is deprecated as of NumPy 1.25.0, and will be removed in NumPy 2.0. Please use `prod` instead.\n",
      "  waic2 = az.waic(idata2)\n",
      "/usr/local/lib/python3.12/site-packages/arviz/stats/stats.py:1635: UserWarning: For one or more samples the posterior variance of the log predictive densities exceeds 0.4. This could be indication of WAIC starting to fail. \n",
      "See http://arxiv.org/abs/1507.04544 for details\n",
      "  warnings.warn(\n",
      "/tmp/ipykernel_28757/4065327861.py:32: DeprecationWarning: `product` is deprecated as of NumPy 1.25.0, and will be removed in NumPy 2.0. Please use `prod` instead.\n",
      "  loo1 = az.loo(idata1)\n",
      "/tmp/ipykernel_28757/4065327861.py:33: DeprecationWarning: `product` is deprecated as of NumPy 1.25.0, and will be removed in NumPy 2.0. Please use `prod` instead.\n",
      "  loo2 = az.loo(idata2)\n"
     ]
    },
    {
     "name": "stdout",
     "output_type": "stream",
     "text": [
      "Model 1 WAIC: Computed from 8000 by 293 log-likelihood matrix\n",
      "\n",
      "          Estimate       SE\n",
      "elpd_waic  -145.13     7.00\n",
      "p_waic        3.29        -\n",
      "Model 2 WAIC: Computed from 8000 by 293 log-likelihood matrix\n",
      "\n",
      "          Estimate       SE\n",
      "elpd_waic  -146.58     7.70\n",
      "p_waic        6.12        -\n",
      "\n",
      "There has been a warning during the calculation. Please check the results.\n",
      "Model 1 PSIS-LOO: Computed from 8000 by 293 log-likelihood matrix\n",
      "\n",
      "         Estimate       SE\n",
      "elpd_loo  -145.13     7.00\n",
      "p_loo        3.29        -\n",
      "------\n",
      "\n",
      "Pareto k diagnostic values:\n",
      "                         Count   Pct.\n",
      "(-Inf, 0.5]   (good)      293  100.0%\n",
      " (0.5, 0.7]   (ok)          0    0.0%\n",
      "   (0.7, 1]   (bad)         0    0.0%\n",
      "   (1, Inf)   (very bad)    0    0.0%\n",
      "\n",
      "Model 2 PSIS-LOO: Computed from 8000 by 293 log-likelihood matrix\n",
      "\n",
      "         Estimate       SE\n",
      "elpd_loo  -146.60     7.70\n",
      "p_loo        6.15        -\n",
      "------\n",
      "\n",
      "Pareto k diagnostic values:\n",
      "                         Count   Pct.\n",
      "(-Inf, 0.5]   (good)      293  100.0%\n",
      " (0.5, 0.7]   (ok)          0    0.0%\n",
      "   (0.7, 1]   (bad)         0    0.0%\n",
      "   (1, Inf)   (very bad)    0    0.0%\n",
      "\n",
      "        rank        waic    p_waic    d_waic    weight        se       dse  \\\n",
      "model1     0 -145.130342  3.287403  0.000000  0.749551  6.998805  0.000000   \n",
      "model2     1 -146.576064  6.122148  1.445721  0.250449  7.698854  2.415625   \n",
      "\n",
      "        warning waic_scale  \n",
      "model1    False        log  \n",
      "model2     True        log  \n"
     ]
    },
    {
     "name": "stderr",
     "output_type": "stream",
     "text": [
      "/usr/local/lib/python3.12/site-packages/arviz/stats/stats.py:1635: UserWarning: For one or more samples the posterior variance of the log predictive densities exceeds 0.4. This could be indication of WAIC starting to fail. \n",
      "See http://arxiv.org/abs/1507.04544 for details\n",
      "  warnings.warn(\n"
     ]
    }
   ],
   "source": [
    "# Definiowanie kolumn z danymi\n",
    "feature_columns1 = ['Glucose', 'BMI', 'Age']\n",
    "feature_columns2 = ['Glucose', 'Age', 'BMI', 'BloodPressure', 'Insulin', 'DiabetesPedigreeFunction']\n",
    "\n",
    "# Przygotowanie danych dla modelu Stan\n",
    "stan1_data = {\n",
    "    'N': len(df),\n",
    "    'X': df[feature_columns1].values,\n",
    "    'y': df['Outcome'].values\n",
    "}\n",
    "\n",
    "stan2_data = {\n",
    "    'N': len(df),\n",
    "    'X': df[feature_columns2].values,\n",
    "    'y': df['Outcome'].values\n",
    "}\n",
    "\n",
    "# Kompilacja i próbkowanie modelu\n",
    "sm1 = CmdStanModel(stan_file='Stan/code_1.stan')\n",
    "fit1 = sm1.sample(data=stan1_data, iter_sampling=2000, chains=4, iter_warmup=1000)\n",
    "\n",
    "sm2 = CmdStanModel(stan_file='Stan/code_2.stan')\n",
    "fit2 = sm2.sample(data=stan2_data, iter_sampling=2000, chains=4, iter_warmup=1000)\n",
    "\n",
    "# Konwersja wyników CmdStan do formatu ArviZ\n",
    "idata1 = az.from_cmdstanpy(posterior=fit1, log_likelihood=\"log_lik\")\n",
    "idata2 = az.from_cmdstanpy(posterior=fit2, log_likelihood=\"log_lik\")\n",
    "\n",
    "# Obliczanie WAIC i LOO\n",
    "waic1 = az.waic(idata1)\n",
    "waic2 = az.waic(idata2)\n",
    "loo1 = az.loo(idata1)\n",
    "loo2 = az.loo(idata2)\n",
    "\n",
    "# Wypisanie wyników\n",
    "print(\"Model 1 WAIC:\", waic1)\n",
    "print(\"Model 2 WAIC:\", waic2)\n",
    "print(\"Model 1 PSIS-LOO:\", loo1)\n",
    "print(\"Model 2 PSIS-LOO:\", loo2)\n",
    "\n",
    "# Porównanie modeli za pomocą ArviZ\n",
    "comparison = az.compare({'model1': idata1, 'model2': idata2}, ic=\"waic\")\n",
    "print(comparison)"
   ]
  },
  {
   "cell_type": "code",
   "execution_count": 10,
   "metadata": {},
   "outputs": [
    {
     "name": "stdout",
     "output_type": "stream",
     "text": [
      "                    rank        waic    p_waic    d_waic    weight        se  \\\n",
      "Model 1 (3 priori)     0 -145.130342  3.287403  0.000000  0.749551  6.998805   \n",
      "Model 2 (6 priori)     1 -146.576064  6.122148  1.445721  0.250449  7.698854   \n",
      "\n",
      "                         dse  warning waic_scale  \n",
      "Model 1 (3 priori)  0.000000    False        log  \n",
      "Model 2 (6 priori)  2.415625     True        log  \n"
     ]
    },
    {
     "name": "stderr",
     "output_type": "stream",
     "text": [
      "/usr/local/lib/python3.12/site-packages/arviz/stats/stats.py:1635: UserWarning: For one or more samples the posterior variance of the log predictive densities exceeds 0.4. This could be indication of WAIC starting to fail. \n",
      "See http://arxiv.org/abs/1507.04544 for details\n",
      "  warnings.warn(\n"
     ]
    },
    {
     "data": {
      "image/png": "[encoded data removed]",
      "text/plain": [
       "<Figure size 600x200 with 1 Axes>"
      ]
     },
     "metadata": {},
     "output_type": "display_data"
    }
   ],
   "source": [
    "compare_dict = {'Model 1 (3 priori)': fit1, 'Model 2 (6 priori)': fit2}\n",
    "\n",
    "waic_compare = az.compare(compare_dict, ic='waic')\n",
    "print(waic_compare)\n",
    "az.plot_compare(waic_compare)\n",
    "plt.title('WAIC result')\n",
    "plt.show()"
   ]
  },
  {
   "cell_type": "code",
   "execution_count": 11,
   "metadata": {},
   "outputs": [
    {
     "name": "stdout",
     "output_type": "stream",
     "text": [
      "                    rank         loo     p_loo     d_loo    weight        se  \\\n",
      "Model 1 (3 priori)     0 -145.133209  3.290269  0.000000  0.752976  6.999044   \n",
      "Model 2 (6 priori)     1 -146.600196  6.146281  1.466987  0.247024  7.701955   \n",
      "\n",
      "                        dse  warning loo_scale  \n",
      "Model 1 (3 priori)  0.00000    False       log  \n",
      "Model 2 (6 priori)  2.41895    False       log  \n"
     ]
    },
    {
     "data": {
      "image/png": "[encoded data removed]",
      "text/plain": [
       "<Figure size 600x200 with 1 Axes>"
      ]
     },
     "metadata": {},
     "output_type": "display_data"
    }
   ],
   "source": [
    "loo_compare = az.compare(compare_dict, ic='loo')\n",
    "print(loo_compare)\n",
    "az.plot_compare(loo_compare)\n",
    "plt.title('LOO results')\n",
    "plt.show()"
   ]
  }
 ],
 "metadata": {
  "kernelspec": {
   "display_name": "Python 3",
   "language": "python",
   "name": "python3"
  },
  "language_info": {
   "codemirror_mode": {
    "name": "ipython",
    "version": 3
   },
   "file_extension": ".py",
   "mimetype": "text/x-python",
   "name": "python",
   "nbconvert_exporter": "python",
   "pygments_lexer": "ipython3",
   "version": "3.12.2"
  }
 },
 "nbformat": 4,
 "nbformat_minor": 2
}
