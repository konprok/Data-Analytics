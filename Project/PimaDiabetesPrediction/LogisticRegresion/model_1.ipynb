{
 "cells": [
  {
   "cell_type": "code",
   "execution_count": 12,
   "metadata": {},
   "outputs": [],
   "source": [
    "import pandas as pd\n",
    "import numpy as np\n",
    "from cmdstanpy import CmdStanModel\n",
    "from sklearn.metrics import  roc_curve, auc ,accuracy_score, precision_score, recall_score, f1_score, confusion_matrix\n",
    "import matplotlib.pyplot as plt\n",
    "import seaborn as sns\n",
    "%matplotlib inline\n",
    "sns.set(color_codes = True)"
   ]
  },
  {
   "cell_type": "code",
   "execution_count": 13,
   "metadata": {},
   "outputs": [],
   "source": [
    "pima = pd.read_csv('Data/diabetes.csv', sep=';')\n",
    "df = pd.read_csv('Data/diabetes_pt1.csv', sep=';')\n",
    "df_test = pd.read_csv('Data/diabetes_pt2.csv', sep=';')"
   ]
  },
  {
   "cell_type": "code",
   "execution_count": 14,
   "metadata": {},
   "outputs": [],
   "source": [
    "feature_columns = ['Glucose', 'BMI', 'Age']\n",
    "\n",
    "stan2_data = {\n",
    "    'N': len(df),\n",
    "    'X': df[feature_columns].values,\n",
    "    'y': df['Outcome'].values\n",
    "}\n",
    "\n",
    "test2_data = {\n",
    "    'N': len(df_test),\n",
    "    'X': df_test[feature_columns].values,\n",
    "    'y': df_test['Outcome'].values\n",
    "}"
   ]
  },
  {
   "cell_type": "code",
   "execution_count": 15,
   "metadata": {},
   "outputs": [
    {
     "name": "stderr",
     "output_type": "stream",
     "text": [
      "INFO:cmdstanpy:found newer exe file, not recompiling\n",
      "INFO:cmdstanpy:CmdStan start processing\n"
     ]
    },
    {
     "data": {
      "application/json": {
       "ascii": false,
       "bar_format": "{desc} |{bar}| {elapsed} {postfix[0][value]}",
       "colour": null,
       "elapsed": 0.014940261840820312,
       "initial": 0,
       "n": 0,
       "ncols": null,
       "nrows": null,
       "postfix": [
        {
         "value": "Status"
        }
       ],
       "prefix": "chain 1",
       "rate": null,
       "total": 42,
       "unit": "it",
       "unit_divisor": 1000,
       "unit_scale": false
      },
      "application/vnd.jupyter.widget-view+json": {
       "model_id": "b1e8d44a482042019ad82e03787287d2",
       "version_major": 2,
       "version_minor": 0
      },
      "text/plain": [
       "chain 1 |          | 00:00 Status"
      ]
     },
     "metadata": {},
     "output_type": "display_data"
    },
    {
     "data": {
      "application/json": {
       "ascii": false,
       "bar_format": "{desc} |{bar}| {elapsed} {postfix[0][value]}",
       "colour": null,
       "elapsed": 0.01717400550842285,
       "initial": 0,
       "n": 0,
       "ncols": null,
       "nrows": null,
       "postfix": [
        {
         "value": "Status"
        }
       ],
       "prefix": "chain 2",
       "rate": null,
       "total": 42,
       "unit": "it",
       "unit_divisor": 1000,
       "unit_scale": false
      },
      "application/vnd.jupyter.widget-view+json": {
       "model_id": "e4be6efc351c4f83bea17973a0b3754c",
       "version_major": 2,
       "version_minor": 0
      },
      "text/plain": [
       "chain 2 |          | 00:00 Status"
      ]
     },
     "metadata": {},
     "output_type": "display_data"
    },
    {
     "data": {
      "application/json": {
       "ascii": false,
       "bar_format": "{desc} |{bar}| {elapsed} {postfix[0][value]}",
       "colour": null,
       "elapsed": 0.016193628311157227,
       "initial": 0,
       "n": 0,
       "ncols": null,
       "nrows": null,
       "postfix": [
        {
         "value": "Status"
        }
       ],
       "prefix": "chain 3",
       "rate": null,
       "total": 42,
       "unit": "it",
       "unit_divisor": 1000,
       "unit_scale": false
      },
      "application/vnd.jupyter.widget-view+json": {
       "model_id": "1447dae23a794d50ab06d3d7fdb9cb82",
       "version_major": 2,
       "version_minor": 0
      },
      "text/plain": [
       "chain 3 |          | 00:00 Status"
      ]
     },
     "metadata": {},
     "output_type": "display_data"
    },
    {
     "data": {
      "application/json": {
       "ascii": false,
       "bar_format": "{desc} |{bar}| {elapsed} {postfix[0][value]}",
       "colour": null,
       "elapsed": 0.018088579177856445,
       "initial": 0,
       "n": 0,
       "ncols": null,
       "nrows": null,
       "postfix": [
        {
         "value": "Status"
        }
       ],
       "prefix": "chain 4",
       "rate": null,
       "total": 42,
       "unit": "it",
       "unit_divisor": 1000,
       "unit_scale": false
      },
      "application/vnd.jupyter.widget-view+json": {
       "model_id": "7f68b74b759b4c23b897c0a7e475e8c7",
       "version_major": 2,
       "version_minor": 0
      },
      "text/plain": [
       "chain 4 |          | 00:00 Status"
      ]
     },
     "metadata": {},
     "output_type": "display_data"
    },
    {
     "name": "stdout",
     "output_type": "stream",
     "text": [
      "                                                                                                                                                                                                                                                                                                                                "
     ]
    },
    {
     "name": "stderr",
     "output_type": "stream",
     "text": [
      "INFO:cmdstanpy:CmdStan done processing.\n"
     ]
    },
    {
     "name": "stdout",
     "output_type": "stream",
     "text": [
      "\n"
     ]
    }
   ],
   "source": [
    "sm2 = CmdStanModel(stan_file='Stan/code_1.stan')\n",
    "fit2 = sm2.sample(data=stan2_data, iter_sampling=2000, chains=4, iter_warmup=2000, seed=210800)"
   ]
  },
  {
   "cell_type": "code",
   "execution_count": 16,
   "metadata": {},
   "outputs": [],
   "source": [
    "betas = ['glucose', 'bmi', 'age']\n",
    "\n",
    "df3 = fit2.draws_pd()\n",
    "alpha_mean = df3['alpha'].mean()\n",
    "beta_means = [df3[f'beta_{name}'].mean() for name in betas]"
   ]
  },
  {
   "cell_type": "code",
   "execution_count": 17,
   "metadata": {},
   "outputs": [],
   "source": [
    "logit_preds_test = alpha_mean + np.dot(test2_data['X'], beta_means)\n",
    "probs_test2 = 1 / (1 + np.exp(-logit_preds_test))\n"
   ]
  },
  {
   "cell_type": "code",
   "execution_count": 18,
   "metadata": {},
   "outputs": [],
   "source": [
    "preds_test2 = (probs_test2 > 0.5).astype(int)"
   ]
  },
  {
   "cell_type": "code",
   "execution_count": 19,
   "metadata": {},
   "outputs": [],
   "source": [
    "accuracy = accuracy_score(test2_data['y'], preds_test2)\n",
    "precision = precision_score(test2_data['y'], preds_test2)\n",
    "recall = recall_score(test2_data['y'], preds_test2)\n",
    "f1 = f1_score(test2_data['y'], preds_test2)"
   ]
  },
  {
   "cell_type": "code",
   "execution_count": 20,
   "metadata": {},
   "outputs": [
    {
     "data": {
      "image/png": "[encoded data removed]",
      "text/plain": [
       "<Figure size 800x600 with 1 Axes>"
      ]
     },
     "metadata": {},
     "output_type": "display_data"
    }
   ],
   "source": [
    "conf_matrix = confusion_matrix(test2_data['y'], preds_test2)\n",
    "plt.figure(figsize=(8, 6))\n",
    "sns.heatmap(conf_matrix, annot=True, fmt='d', cmap='Blues', cbar=False)\n",
    "plt.title('Confusion matrix')\n",
    "plt.xlabel('Predicted')\n",
    "plt.ylabel('Actual')\n",
    "plt.show()\n"
   ]
  },
  {
   "cell_type": "code",
   "execution_count": 21,
   "metadata": {},
   "outputs": [
    {
     "name": "stdout",
     "output_type": "stream",
     "text": [
      "Accuracy: 0.86\n",
      "Precision: 0.79\n",
      "Recall: 0.74\n",
      "F1 Score: 0.77\n"
     ]
    }
   ],
   "source": [
    "fpr, tpr, _ = roc_curve(test2_data['y'], probs_test2)\n",
    "roc_auc = auc(fpr, tpr)\n",
    "\n",
    "print(f\"Accuracy: {accuracy:.2f}\")\n",
    "print(f\"Precision: {precision:.2f}\")\n",
    "print(f\"Recall: {recall:.2f}\")\n",
    "print(f\"F1 Score: {f1:.2f}\")"
   ]
  },
  {
   "cell_type": "code",
   "execution_count": 22,
   "metadata": {},
   "outputs": [
    {
     "data": {
      "image/png": "[encoded data removed]",
      "text/plain": [
       "<Figure size 640x480 with 1 Axes>"
      ]
     },
     "metadata": {},
     "output_type": "display_data"
    }
   ],
   "source": [
    "plt.figure()\n",
    "plt.plot(fpr, tpr, color='darkorange', lw=2, label='ROC curve (area = %0.2f)' % roc_auc)\n",
    "plt.plot([0, 1], [0, 1], color='navy', lw=2, linestyle='--')\n",
    "plt.xlim([0.0, 1.0])\n",
    "plt.ylim([0.0, 1.05])\n",
    "plt.xlabel('False Positive Rate')\n",
    "plt.ylabel('True Positive Rate')\n",
    "plt.title('Receiver Operating Characteristic')\n",
    "plt.legend(loc=\"lower right\")\n",
    "plt.show()"
   ]
  }
 ],
 "metadata": {
  "kernelspec": {
   "display_name": "Python 3",
   "language": "python",
   "name": "python3"
  },
  "language_info": {
   "codemirror_mode": {
    "name": "ipython",
    "version": 3
   },
   "file_extension": ".py",
   "mimetype": "text/x-python",
   "name": "python",
   "nbconvert_exporter": "python",
   "pygments_lexer": "ipython3",
   "version": "3.12.2"
  }
 },
 "nbformat": 4,
 "nbformat_minor": 2
}
