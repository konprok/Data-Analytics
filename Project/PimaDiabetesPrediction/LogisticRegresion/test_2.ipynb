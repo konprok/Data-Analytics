{
 "cells": [
  {
   "cell_type": "code",
   "execution_count": 1,
   "metadata": {},
   "outputs": [
    {
     "name": "stderr",
     "output_type": "stream",
     "text": [
      "/usr/local/lib/python3.12/site-packages/tqdm/auto.py:22: TqdmWarning: IProgress not found. Please update jupyter and ipywidgets. See https://ipywidgets.readthedocs.io/en/stable/user_install.html\n",
      "  from .autonotebook import tqdm as notebook_tqdm\n"
     ]
    }
   ],
   "source": [
    "import pandas as pd\n",
    "import numpy as np\n",
    "from cmdstanpy import CmdStanModel\n",
    "from sklearn.metrics import  roc_curve, auc ,accuracy_score, precision_score, recall_score, f1_score, confusion_matrix\n",
    "import matplotlib.pyplot as plt\n",
    "import seaborn as sns\n",
    "%matplotlib inline\n",
    "sns.set(color_codes = True)"
   ]
  },
  {
   "cell_type": "code",
   "execution_count": 2,
   "metadata": {},
   "outputs": [],
   "source": [
    "pima = pd.read_csv('diabetes.csv', sep=';')\n",
    "df = pd.read_csv('diabetes_pt1.csv', sep=';')\n",
    "df_test = pd.read_csv('diabetes_pt2.csv', sep=';')"
   ]
  },
  {
   "cell_type": "code",
   "execution_count": 3,
   "metadata": {},
   "outputs": [],
   "source": [
    "feature_columns = ['Glucose', 'Age', 'BMI', 'DiabetesPedigreeFunction', 'BloodPressure']\n",
    "\n",
    "stan2_data = {\n",
    "    'N': len(df),\n",
    "    'X': df[feature_columns].values,\n",
    "    'y': df['Outcome'].values\n",
    "}\n",
    "\n",
    "test2_data = {\n",
    "    'N': len(df_test),\n",
    "    'X': df_test[feature_columns].values,\n",
    "    'y': df_test['Outcome'].values\n",
    "}"
   ]
  },
  {
   "cell_type": "code",
   "execution_count": 4,
   "metadata": {},
   "outputs": [
    {
     "name": "stderr",
     "output_type": "stream",
     "text": [
      "INFO:cmdstanpy:compiling stan file /GA/Data-Analytics/Project/PimaDiabetesPrediction/LogisticRegresion/code_3.stan to exe file /GA/Data-Analytics/Project/PimaDiabetesPrediction/LogisticRegresion/code_3\n",
      "INFO:cmdstanpy:compiled model executable: /GA/Data-Analytics/Project/PimaDiabetesPrediction/LogisticRegresion/code_3\n",
      "INFO:cmdstanpy:CmdStan start processing\n",
      "chain 1 |\u001b[33m          \u001b[0m| 00:00 Status\n",
      "\u001b[A\n",
      "\n",
      "\u001b[A\u001b[A\n",
      "\n",
      "\u001b[A\u001b[A\n",
      "\u001b[A\n",
      "\n",
      "chain 1 |\u001b[33m▋         \u001b[0m| 00:00 Iteration:    1 / 3000 [  0%]  (Warmup)\n",
      "\u001b[A\n",
      "chain 1 |\u001b[33m▉         \u001b[0m| 00:00 Iteration:  100 / 3000 [  3%]  (Warmup)\n",
      "\n",
      "\u001b[A\u001b[A\n",
      "\u001b[A\n",
      "\n",
      "chain 1 |\u001b[33m█▎        \u001b[0m| 00:00 Iteration:  200 / 3000 [  6%]  (Warmup)\n",
      "chain 1 |\u001b[33m█▌        \u001b[0m| 00:00 Iteration:  300 / 3000 [ 10%]  (Warmup)\n",
      "\u001b[A\n",
      "\n",
      "chain 1 |\u001b[33m█▉        \u001b[0m| 00:01 Iteration:  400 / 3000 [ 13%]  (Warmup)\n",
      "chain 1 |\u001b[33m██▏       \u001b[0m| 00:01 Iteration:  500 / 3000 [ 16%]  (Warmup)\n",
      "\n",
      "chain 1 |\u001b[33m██▌       \u001b[0m| 00:01 Iteration:  600 / 3000 [ 20%]  (Warmup)\n",
      "\n",
      "\u001b[A\u001b[A\n",
      "chain 1 |\u001b[33m███▏      \u001b[0m| 00:01 Iteration:  800 / 3000 [ 26%]  (Warmup)\n",
      "chain 1 |\u001b[33m███▍      \u001b[0m| 00:01 Iteration:  900 / 3000 [ 30%]  (Warmup)\n",
      "\n",
      "\u001b[A\u001b[A\n",
      "chain 1 |\u001b[34m████      \u001b[0m| 00:01 Iteration: 1001 / 3000 [ 33%]  (Sampling)\n",
      "\n",
      "\u001b[A\u001b[A\n",
      "\u001b[A\n",
      "\n",
      "chain 1 |\u001b[34m████▋     \u001b[0m| 00:02 Iteration: 1200 / 3000 [ 40%]  (Sampling)\n",
      "\u001b[A\n",
      "\n",
      "chain 1 |\u001b[34m█████     \u001b[0m| 00:02 Iteration: 1300 / 3000 [ 43%]  (Sampling)\n",
      "\n",
      "chain 1 |\u001b[34m█████▎    \u001b[0m| 00:02 Iteration: 1400 / 3000 [ 46%]  (Sampling)\n",
      "\u001b[A\n",
      "\n",
      "chain 1 |\u001b[34m█████▋    \u001b[0m| 00:02 Iteration: 1500 / 3000 [ 50%]  (Sampling)\n",
      "\n",
      "\u001b[A\u001b[A\n",
      "chain 1 |\u001b[34m█████▉    \u001b[0m| 00:02 Iteration: 1600 / 3000 [ 53%]  (Sampling)\n",
      "\n",
      "\u001b[A\u001b[A\n",
      "chain 1 |\u001b[34m██████▎   \u001b[0m| 00:02 Iteration: 1700 / 3000 [ 56%]  (Sampling)\n",
      "\n",
      "chain 1 |\u001b[34m██████▌   \u001b[0m| 00:02 Iteration: 1800 / 3000 [ 60%]  (Sampling)\n",
      "\u001b[A\n",
      "\n",
      "chain 1 |\u001b[34m██████▉   \u001b[0m| 00:02 Iteration: 1900 / 3000 [ 63%]  (Sampling)\n",
      "\u001b[A\n",
      "\n",
      "\u001b[A\u001b[A\n",
      "chain 1 |\u001b[34m███████▏  \u001b[0m| 00:03 Iteration: 2000 / 3000 [ 66%]  (Sampling)\n",
      "\u001b[A\n",
      "\n",
      "chain 1 |\u001b[34m███████▌  \u001b[0m| 00:03 Iteration: 2100 / 3000 [ 70%]  (Sampling)\n",
      "\u001b[A\n",
      "\n",
      "chain 1 |\u001b[34m███████▊  \u001b[0m| 00:03 Iteration: 2200 / 3000 [ 73%]  (Sampling)\n",
      "\u001b[A\n",
      "\n",
      "chain 1 |\u001b[34m████████▏ \u001b[0m| 00:03 Iteration: 2300 / 3000 [ 76%]  (Sampling)\n",
      "\n",
      "chain 1 |\u001b[34m████████▍ \u001b[0m| 00:03 Iteration: 2400 / 3000 [ 80%]  (Sampling)\n",
      "\n",
      "chain 1 |\u001b[34m████████▊ \u001b[0m| 00:03 Iteration: 2500 / 3000 [ 83%]  (Sampling)\n",
      "\n",
      "chain 1 |\u001b[34m██████████\u001b[0m| 00:04 Sampling completed                       \n",
      "chain 2 |\u001b[34m██████████\u001b[0m| 00:04 Sampling completed                       \n",
      "\n",
      "chain 3 |\u001b[34m██████████\u001b[0m| 00:04 Sampling completed\n",
      "chain 4 |\u001b[34m██████████\u001b[0m| 00:04 Sampling completed                       "
     ]
    },
    {
     "name": "stdout",
     "output_type": "stream",
     "text": [
      "                                                                                                                                                                                                                                                                                                                                "
     ]
    },
    {
     "name": "stderr",
     "output_type": "stream",
     "text": [
      "\n",
      "INFO:cmdstanpy:CmdStan done processing.\n"
     ]
    },
    {
     "name": "stdout",
     "output_type": "stream",
     "text": [
      "\n"
     ]
    },
    {
     "data": {
      "text/html": [
       "<div>\n",
       "<style scoped>\n",
       "    .dataframe tbody tr th:only-of-type {\n",
       "        vertical-align: middle;\n",
       "    }\n",
       "\n",
       "    .dataframe tbody tr th {\n",
       "        vertical-align: top;\n",
       "    }\n",
       "\n",
       "    .dataframe thead th {\n",
       "        text-align: right;\n",
       "    }\n",
       "</style>\n",
       "<table border=\"1\" class=\"dataframe\">\n",
       "  <thead>\n",
       "    <tr style=\"text-align: right;\">\n",
       "      <th></th>\n",
       "      <th>lp__</th>\n",
       "      <th>accept_stat__</th>\n",
       "      <th>stepsize__</th>\n",
       "      <th>treedepth__</th>\n",
       "      <th>n_leapfrog__</th>\n",
       "      <th>divergent__</th>\n",
       "      <th>energy__</th>\n",
       "      <th>alpha</th>\n",
       "      <th>beta_glucose</th>\n",
       "      <th>beta_age</th>\n",
       "      <th>beta_bmi</th>\n",
       "      <th>beta_dpf</th>\n",
       "      <th>beta_bp</th>\n",
       "    </tr>\n",
       "  </thead>\n",
       "  <tbody>\n",
       "    <tr>\n",
       "      <th>0</th>\n",
       "      <td>-174.756</td>\n",
       "      <td>0.999438</td>\n",
       "      <td>0.08905</td>\n",
       "      <td>6.0</td>\n",
       "      <td>63.0</td>\n",
       "      <td>0.0</td>\n",
       "      <td>177.624</td>\n",
       "      <td>-4.44327</td>\n",
       "      <td>0.024341</td>\n",
       "      <td>0.012087</td>\n",
       "      <td>0.019254</td>\n",
       "      <td>0.103939</td>\n",
       "      <td>-0.005157</td>\n",
       "    </tr>\n",
       "    <tr>\n",
       "      <th>1</th>\n",
       "      <td>-175.852</td>\n",
       "      <td>0.983285</td>\n",
       "      <td>0.08905</td>\n",
       "      <td>5.0</td>\n",
       "      <td>31.0</td>\n",
       "      <td>0.0</td>\n",
       "      <td>177.308</td>\n",
       "      <td>-4.95697</td>\n",
       "      <td>0.021222</td>\n",
       "      <td>0.025603</td>\n",
       "      <td>0.016335</td>\n",
       "      <td>0.052539</td>\n",
       "      <td>0.003112</td>\n",
       "    </tr>\n",
       "    <tr>\n",
       "      <th>2</th>\n",
       "      <td>-176.131</td>\n",
       "      <td>0.999885</td>\n",
       "      <td>0.08905</td>\n",
       "      <td>5.0</td>\n",
       "      <td>63.0</td>\n",
       "      <td>0.0</td>\n",
       "      <td>178.466</td>\n",
       "      <td>-4.03887</td>\n",
       "      <td>0.026228</td>\n",
       "      <td>0.050482</td>\n",
       "      <td>0.037853</td>\n",
       "      <td>0.209385</td>\n",
       "      <td>-0.040965</td>\n",
       "    </tr>\n",
       "    <tr>\n",
       "      <th>3</th>\n",
       "      <td>-177.810</td>\n",
       "      <td>0.948947</td>\n",
       "      <td>0.08905</td>\n",
       "      <td>6.0</td>\n",
       "      <td>63.0</td>\n",
       "      <td>0.0</td>\n",
       "      <td>180.574</td>\n",
       "      <td>-3.98511</td>\n",
       "      <td>0.016955</td>\n",
       "      <td>0.059240</td>\n",
       "      <td>0.036584</td>\n",
       "      <td>0.237848</td>\n",
       "      <td>-0.025630</td>\n",
       "    </tr>\n",
       "    <tr>\n",
       "      <th>4</th>\n",
       "      <td>-172.804</td>\n",
       "      <td>0.964018</td>\n",
       "      <td>0.08905</td>\n",
       "      <td>5.0</td>\n",
       "      <td>31.0</td>\n",
       "      <td>0.0</td>\n",
       "      <td>179.118</td>\n",
       "      <td>-5.11528</td>\n",
       "      <td>0.024694</td>\n",
       "      <td>0.044134</td>\n",
       "      <td>0.036969</td>\n",
       "      <td>0.111485</td>\n",
       "      <td>-0.017377</td>\n",
       "    </tr>\n",
       "  </tbody>\n",
       "</table>\n",
       "</div>"
      ],
      "text/plain": [
       "      lp__  accept_stat__  stepsize__  treedepth__  n_leapfrog__  divergent__  \\\n",
       "0 -174.756       0.999438     0.08905          6.0          63.0          0.0   \n",
       "1 -175.852       0.983285     0.08905          5.0          31.0          0.0   \n",
       "2 -176.131       0.999885     0.08905          5.0          63.0          0.0   \n",
       "3 -177.810       0.948947     0.08905          6.0          63.0          0.0   \n",
       "4 -172.804       0.964018     0.08905          5.0          31.0          0.0   \n",
       "\n",
       "   energy__    alpha  beta_glucose  beta_age  beta_bmi  beta_dpf   beta_bp  \n",
       "0   177.624 -4.44327      0.024341  0.012087  0.019254  0.103939 -0.005157  \n",
       "1   177.308 -4.95697      0.021222  0.025603  0.016335  0.052539  0.003112  \n",
       "2   178.466 -4.03887      0.026228  0.050482  0.037853  0.209385 -0.040965  \n",
       "3   180.574 -3.98511      0.016955  0.059240  0.036584  0.237848 -0.025630  \n",
       "4   179.118 -5.11528      0.024694  0.044134  0.036969  0.111485 -0.017377  "
      ]
     },
     "execution_count": 4,
     "metadata": {},
     "output_type": "execute_result"
    }
   ],
   "source": [
    "sm2 = CmdStanModel(stan_file='code_2.stan')\n",
    "\n",
    "fit2 = sm2.sample(data=stan2_data, iter_sampling=2000, chains=4, iter_warmup=1000, seed=2108005)\n",
    "# print(fit2.summary())\n",
    "df3 = fit2.draws_pd()\n",
    "df3.head()"
   ]
  },
  {
   "cell_type": "code",
   "execution_count": 5,
   "metadata": {},
   "outputs": [],
   "source": [
    "alpha_mean = df3['alpha'].mean()\n",
    "beta_glucose_mean = df3['beta_glucose'].mean()\n",
    "beta_age_mean = df3['beta_age'].mean()\n",
    "beta_bmi_mean = df3['beta_bmi'].mean()\n",
    "beta_dpf_mean = df3['beta_dpf'].mean()\n",
    "beta_bp_mean = df3['beta_bp'].mean()"
   ]
  },
  {
   "cell_type": "code",
   "execution_count": 6,
   "metadata": {},
   "outputs": [
    {
     "name": "stdout",
     "output_type": "stream",
     "text": [
      "   Probability\n",
      "0     0.188607\n",
      "1     0.328434\n",
      "2     0.537695\n",
      "3     0.369735\n",
      "4     0.237546\n"
     ]
    }
   ],
   "source": [
    "logit_preds_test = alpha_mean + (test2_data['X'][:, 0] * beta_glucose_mean +\n",
    "                                 test2_data['X'][:, 1] * beta_age_mean +\n",
    "                                 test2_data['X'][:, 2] * beta_bmi_mean +\n",
    "                                 test2_data['X'][:, 3] * beta_dpf_mean +\n",
    "                                 test2_data['X'][:, 4] * beta_bp_mean)\n",
    "\n",
    "probs_test2 = 1 / (1 + np.exp(-logit_preds_test))\n",
    "\n",
    "probs_df = pd.DataFrame(probs_test2, columns=['Probability'])\n",
    "print(probs_df.head())"
   ]
  },
  {
   "cell_type": "code",
   "execution_count": 7,
   "metadata": {},
   "outputs": [
    {
     "data": {
      "image/png": "[encoded data removed]",
      "text/plain": [
       "<Figure size 576x432 with 1 Axes>"
      ]
     },
     "metadata": {},
     "output_type": "display_data"
    }
   ],
   "source": [
    "\n",
    "preds_test2 = (probs_test2 > 0.5).astype(int)\n",
    "\n",
    "conf_matrix = confusion_matrix(test2_data['y'], preds_test2)\n",
    "\n",
    "plt.figure(figsize=(8, 6))\n",
    "sns.heatmap(conf_matrix, annot=True, fmt='d', cmap='Blues', cbar=False)\n",
    "plt.title('Macierz pomyłek')\n",
    "plt.xlabel('Przewidziane klasy')\n",
    "plt.ylabel('Rzeczywiste klasy')\n",
    "plt.show()"
   ]
  }
 ],
 "metadata": {
  "kernelspec": {
   "display_name": "Python 3",
   "language": "python",
   "name": "python3"
  },
  "language_info": {
   "codemirror_mode": {
    "name": "ipython",
    "version": 3
   },
   "file_extension": ".py",
   "mimetype": "text/x-python",
   "name": "python",
   "nbconvert_exporter": "python",
   "pygments_lexer": "ipython3",
   "version": "3.12.2"
  }
 },
 "nbformat": 4,
 "nbformat_minor": 2
}
