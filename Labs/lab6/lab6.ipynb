{
 "cells": [
  {
   "cell_type": "markdown",
   "metadata": {},
   "source": [
    "# Data Analytics - Lab 6 - Model comparison\n",
    "\n",
    "<span style=\"font-size: 20px;\">\n",
    "Konrad Prokop, 408687\n",
    "</span>"
   ]
  },
  {
   "cell_type": "code",
   "execution_count": 56,
   "metadata": {},
   "outputs": [],
   "source": [
    "from cmdstanpy import CmdStanModel\n",
    "import arviz as az\n",
    "import matplotlib.pyplot as plt"
   ]
  },
  {
   "cell_type": "code",
   "execution_count": 57,
   "metadata": {},
   "outputs": [],
   "source": [
    "F = len(\"Konrad\")\n",
    "L = len(\"Prokop\")\n",
    "N = (L + F) * 100"
   ]
  },
  {
   "cell_type": "code",
   "execution_count": 58,
   "metadata": {},
   "outputs": [
    {
     "name": "stderr",
     "output_type": "stream",
     "text": [
      "INFO:cmdstanpy:found newer exe file, not recompiling\n",
      "INFO:cmdstanpy:CmdStan start processing\n",
      "chain 1 |\u001b[34m██████████\u001b[0m| 00:00 Sampling completed"
     ]
    },
    {
     "name": "stdout",
     "output_type": "stream",
     "text": [
      "                                                                                "
     ]
    },
    {
     "name": "stderr",
     "output_type": "stream",
     "text": [
      "\n",
      "INFO:cmdstanpy:CmdStan done processing.\n"
     ]
    },
    {
     "name": "stdout",
     "output_type": "stream",
     "text": [
      "\n"
     ]
    }
   ],
   "source": [
    "model1 = CmdStanModel(stan_file='code_1.stan')\n",
    "R = 1\n",
    "sim1=model1.sample(data={'N': N},\n",
    "iter_sampling=R,\n",
    "iter_warmup=1,\n",
    "chains=1,\n",
    ")"
   ]
  },
  {
   "cell_type": "code",
   "execution_count": 59,
   "metadata": {},
   "outputs": [
    {
     "data": {
      "text/html": [
       "<div>\n",
       "<style scoped>\n",
       "    .dataframe tbody tr th:only-of-type {\n",
       "        vertical-align: middle;\n",
       "    }\n",
       "\n",
       "    .dataframe tbody tr th {\n",
       "        vertical-align: top;\n",
       "    }\n",
       "\n",
       "    .dataframe thead th {\n",
       "        text-align: right;\n",
       "    }\n",
       "</style>\n",
       "<table border=\"1\" class=\"dataframe\">\n",
       "  <thead>\n",
       "    <tr style=\"text-align: right;\">\n",
       "      <th></th>\n",
       "      <th>lp__</th>\n",
       "      <th>accept_stat__</th>\n",
       "      <th>theta</th>\n",
       "      <th>y[1]</th>\n",
       "      <th>y[2]</th>\n",
       "      <th>y[3]</th>\n",
       "      <th>y[4]</th>\n",
       "      <th>y[5]</th>\n",
       "      <th>y[6]</th>\n",
       "      <th>y[7]</th>\n",
       "      <th>...</th>\n",
       "      <th>y[1191]</th>\n",
       "      <th>y[1192]</th>\n",
       "      <th>y[1193]</th>\n",
       "      <th>y[1194]</th>\n",
       "      <th>y[1195]</th>\n",
       "      <th>y[1196]</th>\n",
       "      <th>y[1197]</th>\n",
       "      <th>y[1198]</th>\n",
       "      <th>y[1199]</th>\n",
       "      <th>y[1200]</th>\n",
       "    </tr>\n",
       "  </thead>\n",
       "  <tbody>\n",
       "    <tr>\n",
       "      <th>0</th>\n",
       "      <td>0.0</td>\n",
       "      <td>0.0</td>\n",
       "      <td>0.01</td>\n",
       "      <td>-0.493528</td>\n",
       "      <td>1.3191</td>\n",
       "      <td>2.00864</td>\n",
       "      <td>-0.676927</td>\n",
       "      <td>-0.137475</td>\n",
       "      <td>-0.723108</td>\n",
       "      <td>-0.012178</td>\n",
       "      <td>...</td>\n",
       "      <td>-0.076362</td>\n",
       "      <td>-1.05548</td>\n",
       "      <td>-1.53016</td>\n",
       "      <td>1.8352</td>\n",
       "      <td>0.14519</td>\n",
       "      <td>0.13068</td>\n",
       "      <td>0.456049</td>\n",
       "      <td>-0.12544</td>\n",
       "      <td>1.7849</td>\n",
       "      <td>-0.436957</td>\n",
       "    </tr>\n",
       "  </tbody>\n",
       "</table>\n",
       "<p>1 rows × 1203 columns</p>\n",
       "</div>"
      ],
      "text/plain": [
       "   lp__  accept_stat__  theta      y[1]    y[2]     y[3]      y[4]      y[5]  \\\n",
       "0   0.0            0.0   0.01 -0.493528  1.3191  2.00864 -0.676927 -0.137475   \n",
       "\n",
       "       y[6]      y[7]  ...   y[1191]  y[1192]  y[1193]  y[1194]  y[1195]  \\\n",
       "0 -0.723108 -0.012178  ... -0.076362 -1.05548 -1.53016   1.8352  0.14519   \n",
       "\n",
       "   y[1196]   y[1197]  y[1198]  y[1199]   y[1200]  \n",
       "0  0.13068  0.456049 -0.12544   1.7849 -0.436957  \n",
       "\n",
       "[1 rows x 1203 columns]"
      ]
     },
     "execution_count": 59,
     "metadata": {},
     "output_type": "execute_result"
    }
   ],
   "source": [
    "mod1 = sim1.draws_pd()\n",
    "mod1.head()"
   ]
  },
  {
   "cell_type": "code",
   "execution_count": 60,
   "metadata": {},
   "outputs": [
    {
     "name": "stderr",
     "output_type": "stream",
     "text": [
      "INFO:cmdstanpy:found newer exe file, not recompiling\n",
      "INFO:cmdstanpy:CmdStan start processing\n",
      "chain 1 |\u001b[34m██████████\u001b[0m| 00:00 Sampling completed"
     ]
    },
    {
     "name": "stdout",
     "output_type": "stream",
     "text": [
      "                                                                                "
     ]
    },
    {
     "name": "stderr",
     "output_type": "stream",
     "text": [
      "\n",
      "INFO:cmdstanpy:CmdStan done processing.\n"
     ]
    },
    {
     "name": "stdout",
     "output_type": "stream",
     "text": [
      "\n"
     ]
    }
   ],
   "source": [
    "model2 = CmdStanModel(stan_file='code_2.stan')\n",
    "R = 1\n",
    "sim2=model2.sample(data={'N': N},\n",
    "iter_sampling=R,\n",
    "iter_warmup=1,\n",
    "chains=1,\n",
    ")"
   ]
  },
  {
   "cell_type": "code",
   "execution_count": 61,
   "metadata": {},
   "outputs": [
    {
     "data": {
      "text/html": [
       "<div>\n",
       "<style scoped>\n",
       "    .dataframe tbody tr th:only-of-type {\n",
       "        vertical-align: middle;\n",
       "    }\n",
       "\n",
       "    .dataframe tbody tr th {\n",
       "        vertical-align: top;\n",
       "    }\n",
       "\n",
       "    .dataframe thead th {\n",
       "        text-align: right;\n",
       "    }\n",
       "</style>\n",
       "<table border=\"1\" class=\"dataframe\">\n",
       "  <thead>\n",
       "    <tr style=\"text-align: right;\">\n",
       "      <th></th>\n",
       "      <th>lp__</th>\n",
       "      <th>accept_stat__</th>\n",
       "      <th>X[1,1]</th>\n",
       "      <th>X[2,1]</th>\n",
       "      <th>X[3,1]</th>\n",
       "      <th>X[4,1]</th>\n",
       "      <th>X[5,1]</th>\n",
       "      <th>X[6,1]</th>\n",
       "      <th>X[7,1]</th>\n",
       "      <th>X[8,1]</th>\n",
       "      <th>...</th>\n",
       "      <th>y[1191]</th>\n",
       "      <th>y[1192]</th>\n",
       "      <th>y[1193]</th>\n",
       "      <th>y[1194]</th>\n",
       "      <th>y[1195]</th>\n",
       "      <th>y[1196]</th>\n",
       "      <th>y[1197]</th>\n",
       "      <th>y[1198]</th>\n",
       "      <th>y[1199]</th>\n",
       "      <th>y[1200]</th>\n",
       "    </tr>\n",
       "  </thead>\n",
       "  <tbody>\n",
       "    <tr>\n",
       "      <th>0</th>\n",
       "      <td>0.0</td>\n",
       "      <td>0.0</td>\n",
       "      <td>0.256178</td>\n",
       "      <td>-0.426117</td>\n",
       "      <td>-0.118171</td>\n",
       "      <td>1.04493</td>\n",
       "      <td>0.070459</td>\n",
       "      <td>-0.872053</td>\n",
       "      <td>-0.036556</td>\n",
       "      <td>-1.33306</td>\n",
       "      <td>...</td>\n",
       "      <td>-4.1442</td>\n",
       "      <td>-1.86959</td>\n",
       "      <td>-3.31431</td>\n",
       "      <td>-4.84693</td>\n",
       "      <td>1.18175</td>\n",
       "      <td>0.65649</td>\n",
       "      <td>3.71113</td>\n",
       "      <td>-1.50486</td>\n",
       "      <td>-2.9031</td>\n",
       "      <td>-0.406648</td>\n",
       "    </tr>\n",
       "  </tbody>\n",
       "</table>\n",
       "<p>1 rows × 4805 columns</p>\n",
       "</div>"
      ],
      "text/plain": [
       "   lp__  accept_stat__    X[1,1]    X[2,1]    X[3,1]   X[4,1]    X[5,1]  \\\n",
       "0   0.0            0.0  0.256178 -0.426117 -0.118171  1.04493  0.070459   \n",
       "\n",
       "     X[6,1]    X[7,1]   X[8,1]  ...  y[1191]  y[1192]  y[1193]  y[1194]  \\\n",
       "0 -0.872053 -0.036556 -1.33306  ...  -4.1442 -1.86959 -3.31431 -4.84693   \n",
       "\n",
       "   y[1195]  y[1196]  y[1197]  y[1198]  y[1199]   y[1200]  \n",
       "0  1.18175  0.65649  3.71113 -1.50486  -2.9031 -0.406648  \n",
       "\n",
       "[1 rows x 4805 columns]"
      ]
     },
     "execution_count": 61,
     "metadata": {},
     "output_type": "execute_result"
    }
   ],
   "source": [
    "mod2 = sim2.draws_pd()\n",
    "mod2.head()"
   ]
  },
  {
   "cell_type": "code",
   "execution_count": 62,
   "metadata": {},
   "outputs": [
    {
     "data": {
      "text/html": [
       "<div>\n",
       "<style scoped>\n",
       "    .dataframe tbody tr th:only-of-type {\n",
       "        vertical-align: middle;\n",
       "    }\n",
       "\n",
       "    .dataframe tbody tr th {\n",
       "        vertical-align: top;\n",
       "    }\n",
       "\n",
       "    .dataframe thead th {\n",
       "        text-align: right;\n",
       "    }\n",
       "</style>\n",
       "<table border=\"1\" class=\"dataframe\">\n",
       "  <thead>\n",
       "    <tr style=\"text-align: right;\">\n",
       "      <th></th>\n",
       "      <th>y[1]</th>\n",
       "      <th>y[2]</th>\n",
       "      <th>y[3]</th>\n",
       "      <th>y[4]</th>\n",
       "      <th>y[5]</th>\n",
       "      <th>y[6]</th>\n",
       "      <th>y[7]</th>\n",
       "      <th>y[8]</th>\n",
       "      <th>y[9]</th>\n",
       "      <th>y[10]</th>\n",
       "      <th>...</th>\n",
       "      <th>y[1191]</th>\n",
       "      <th>y[1192]</th>\n",
       "      <th>y[1193]</th>\n",
       "      <th>y[1194]</th>\n",
       "      <th>y[1195]</th>\n",
       "      <th>y[1196]</th>\n",
       "      <th>y[1197]</th>\n",
       "      <th>y[1198]</th>\n",
       "      <th>y[1199]</th>\n",
       "      <th>y[1200]</th>\n",
       "    </tr>\n",
       "  </thead>\n",
       "  <tbody>\n",
       "    <tr>\n",
       "      <th>0</th>\n",
       "      <td>-0.493528</td>\n",
       "      <td>1.3191</td>\n",
       "      <td>2.00864</td>\n",
       "      <td>-0.676927</td>\n",
       "      <td>-0.137475</td>\n",
       "      <td>-0.723108</td>\n",
       "      <td>-0.012178</td>\n",
       "      <td>0.471763</td>\n",
       "      <td>-0.11602</td>\n",
       "      <td>-0.178591</td>\n",
       "      <td>...</td>\n",
       "      <td>-0.076362</td>\n",
       "      <td>-1.05548</td>\n",
       "      <td>-1.53016</td>\n",
       "      <td>1.8352</td>\n",
       "      <td>0.14519</td>\n",
       "      <td>0.13068</td>\n",
       "      <td>0.456049</td>\n",
       "      <td>-0.12544</td>\n",
       "      <td>1.7849</td>\n",
       "      <td>-0.436957</td>\n",
       "    </tr>\n",
       "  </tbody>\n",
       "</table>\n",
       "<p>1 rows × 1200 columns</p>\n",
       "</div>"
      ],
      "text/plain": [
       "       y[1]    y[2]     y[3]      y[4]      y[5]      y[6]      y[7]  \\\n",
       "0 -0.493528  1.3191  2.00864 -0.676927 -0.137475 -0.723108 -0.012178   \n",
       "\n",
       "       y[8]     y[9]     y[10]  ...   y[1191]  y[1192]  y[1193]  y[1194]  \\\n",
       "0  0.471763 -0.11602 -0.178591  ... -0.076362 -1.05548 -1.53016   1.8352   \n",
       "\n",
       "   y[1195]  y[1196]   y[1197]  y[1198]  y[1199]   y[1200]  \n",
       "0  0.14519  0.13068  0.456049 -0.12544   1.7849 -0.436957  \n",
       "\n",
       "[1 rows x 1200 columns]"
      ]
     },
     "execution_count": 62,
     "metadata": {},
     "output_type": "execute_result"
    }
   ],
   "source": [
    "mod1.iloc[:, -N:]"
   ]
  },
  {
   "cell_type": "code",
   "execution_count": 63,
   "metadata": {},
   "outputs": [
    {
     "name": "stderr",
     "output_type": "stream",
     "text": [
      "INFO:cmdstanpy:found newer exe file, not recompiling\n",
      "INFO:cmdstanpy:CmdStan start processing\n",
      "chain 1 |\u001b[33m          \u001b[0m| 00:00 Status"
     ]
    },
    {
     "name": "stderr",
     "output_type": "stream",
     "text": [
      "chain 1 |\u001b[34m██████████\u001b[0m| 00:00 Sampling completed                       "
     ]
    },
    {
     "name": "stdout",
     "output_type": "stream",
     "text": [
      "                                                                                "
     ]
    },
    {
     "name": "stderr",
     "output_type": "stream",
     "text": [
      "\n",
      "INFO:cmdstanpy:CmdStan done processing.\n"
     ]
    },
    {
     "name": "stdout",
     "output_type": "stream",
     "text": [
      "\n"
     ]
    }
   ],
   "source": [
    "model3 = CmdStanModel(stan_file='code_3.stan')\n",
    "R = 1000\n",
    "sim3=model3.sample(data={'N': N, 'y': mod1.iloc[0, -N:]},\n",
    "iter_sampling=R,\n",
    "iter_warmup=1,\n",
    "chains=1,\n",
    ")"
   ]
  },
  {
   "cell_type": "code",
   "execution_count": 64,
   "metadata": {},
   "outputs": [
    {
     "data": {
      "text/html": [
       "<div>\n",
       "<style scoped>\n",
       "    .dataframe tbody tr th:only-of-type {\n",
       "        vertical-align: middle;\n",
       "    }\n",
       "\n",
       "    .dataframe tbody tr th {\n",
       "        vertical-align: top;\n",
       "    }\n",
       "\n",
       "    .dataframe thead th {\n",
       "        text-align: right;\n",
       "    }\n",
       "</style>\n",
       "<table border=\"1\" class=\"dataframe\">\n",
       "  <thead>\n",
       "    <tr style=\"text-align: right;\">\n",
       "      <th></th>\n",
       "      <th>lp__</th>\n",
       "      <th>accept_stat__</th>\n",
       "      <th>stepsize__</th>\n",
       "      <th>treedepth__</th>\n",
       "      <th>n_leapfrog__</th>\n",
       "      <th>divergent__</th>\n",
       "      <th>energy__</th>\n",
       "      <th>sigma</th>\n",
       "      <th>mu</th>\n",
       "      <th>log_lik[1]</th>\n",
       "      <th>...</th>\n",
       "      <th>y_hat[1191]</th>\n",
       "      <th>y_hat[1192]</th>\n",
       "      <th>y_hat[1193]</th>\n",
       "      <th>y_hat[1194]</th>\n",
       "      <th>y_hat[1195]</th>\n",
       "      <th>y_hat[1196]</th>\n",
       "      <th>y_hat[1197]</th>\n",
       "      <th>y_hat[1198]</th>\n",
       "      <th>y_hat[1199]</th>\n",
       "      <th>y_hat[1200]</th>\n",
       "    </tr>\n",
       "  </thead>\n",
       "  <tbody>\n",
       "    <tr>\n",
       "      <th>0</th>\n",
       "      <td>-2263.25</td>\n",
       "      <td>0.0</td>\n",
       "      <td>14.3855</td>\n",
       "      <td>0.0</td>\n",
       "      <td>1.0</td>\n",
       "      <td>1.0</td>\n",
       "      <td>2263.34</td>\n",
       "      <td>1.1838</td>\n",
       "      <td>-0.15938</td>\n",
       "      <td>-1.12751</td>\n",
       "      <td>...</td>\n",
       "      <td>-2.359790</td>\n",
       "      <td>0.323752</td>\n",
       "      <td>0.145352</td>\n",
       "      <td>1.301860</td>\n",
       "      <td>0.564560</td>\n",
       "      <td>-1.21250</td>\n",
       "      <td>-0.389078</td>\n",
       "      <td>-1.200030</td>\n",
       "      <td>-0.456206</td>\n",
       "      <td>0.268307</td>\n",
       "    </tr>\n",
       "    <tr>\n",
       "      <th>1</th>\n",
       "      <td>-2263.25</td>\n",
       "      <td>0.0</td>\n",
       "      <td>14.3855</td>\n",
       "      <td>0.0</td>\n",
       "      <td>1.0</td>\n",
       "      <td>1.0</td>\n",
       "      <td>2263.36</td>\n",
       "      <td>1.1838</td>\n",
       "      <td>-0.15938</td>\n",
       "      <td>-1.12751</td>\n",
       "      <td>...</td>\n",
       "      <td>-0.384183</td>\n",
       "      <td>0.423484</td>\n",
       "      <td>-0.778612</td>\n",
       "      <td>0.277742</td>\n",
       "      <td>0.168490</td>\n",
       "      <td>-1.67440</td>\n",
       "      <td>0.174477</td>\n",
       "      <td>-2.152040</td>\n",
       "      <td>-2.630240</td>\n",
       "      <td>-0.415104</td>\n",
       "    </tr>\n",
       "    <tr>\n",
       "      <th>2</th>\n",
       "      <td>-2263.25</td>\n",
       "      <td>0.0</td>\n",
       "      <td>14.3855</td>\n",
       "      <td>0.0</td>\n",
       "      <td>1.0</td>\n",
       "      <td>1.0</td>\n",
       "      <td>2263.26</td>\n",
       "      <td>1.1838</td>\n",
       "      <td>-0.15938</td>\n",
       "      <td>-1.12751</td>\n",
       "      <td>...</td>\n",
       "      <td>-1.484140</td>\n",
       "      <td>-0.974195</td>\n",
       "      <td>0.292691</td>\n",
       "      <td>-1.341310</td>\n",
       "      <td>1.850590</td>\n",
       "      <td>-1.33942</td>\n",
       "      <td>-0.497916</td>\n",
       "      <td>0.081246</td>\n",
       "      <td>-1.304950</td>\n",
       "      <td>-0.643495</td>\n",
       "    </tr>\n",
       "    <tr>\n",
       "      <th>3</th>\n",
       "      <td>-2263.25</td>\n",
       "      <td>0.0</td>\n",
       "      <td>14.3855</td>\n",
       "      <td>0.0</td>\n",
       "      <td>1.0</td>\n",
       "      <td>1.0</td>\n",
       "      <td>2263.35</td>\n",
       "      <td>1.1838</td>\n",
       "      <td>-0.15938</td>\n",
       "      <td>-1.12751</td>\n",
       "      <td>...</td>\n",
       "      <td>-0.240883</td>\n",
       "      <td>0.077015</td>\n",
       "      <td>0.009975</td>\n",
       "      <td>0.092017</td>\n",
       "      <td>-1.867710</td>\n",
       "      <td>-0.53380</td>\n",
       "      <td>-0.372599</td>\n",
       "      <td>-2.414060</td>\n",
       "      <td>-1.006450</td>\n",
       "      <td>1.627080</td>\n",
       "    </tr>\n",
       "    <tr>\n",
       "      <th>4</th>\n",
       "      <td>-2263.25</td>\n",
       "      <td>0.0</td>\n",
       "      <td>14.3855</td>\n",
       "      <td>0.0</td>\n",
       "      <td>1.0</td>\n",
       "      <td>1.0</td>\n",
       "      <td>2267.91</td>\n",
       "      <td>1.1838</td>\n",
       "      <td>-0.15938</td>\n",
       "      <td>-1.12751</td>\n",
       "      <td>...</td>\n",
       "      <td>0.822752</td>\n",
       "      <td>-1.431740</td>\n",
       "      <td>0.058766</td>\n",
       "      <td>-0.462259</td>\n",
       "      <td>-0.745824</td>\n",
       "      <td>-1.13101</td>\n",
       "      <td>-1.661160</td>\n",
       "      <td>0.229136</td>\n",
       "      <td>-1.121090</td>\n",
       "      <td>-0.191899</td>\n",
       "    </tr>\n",
       "  </tbody>\n",
       "</table>\n",
       "<p>5 rows × 2409 columns</p>\n",
       "</div>"
      ],
      "text/plain": [
       "      lp__  accept_stat__  stepsize__  treedepth__  n_leapfrog__  divergent__  \\\n",
       "0 -2263.25            0.0     14.3855          0.0           1.0          1.0   \n",
       "1 -2263.25            0.0     14.3855          0.0           1.0          1.0   \n",
       "2 -2263.25            0.0     14.3855          0.0           1.0          1.0   \n",
       "3 -2263.25            0.0     14.3855          0.0           1.0          1.0   \n",
       "4 -2263.25            0.0     14.3855          0.0           1.0          1.0   \n",
       "\n",
       "   energy__   sigma       mu  log_lik[1]  ...  y_hat[1191]  y_hat[1192]  \\\n",
       "0   2263.34  1.1838 -0.15938    -1.12751  ...    -2.359790     0.323752   \n",
       "1   2263.36  1.1838 -0.15938    -1.12751  ...    -0.384183     0.423484   \n",
       "2   2263.26  1.1838 -0.15938    -1.12751  ...    -1.484140    -0.974195   \n",
       "3   2263.35  1.1838 -0.15938    -1.12751  ...    -0.240883     0.077015   \n",
       "4   2267.91  1.1838 -0.15938    -1.12751  ...     0.822752    -1.431740   \n",
       "\n",
       "   y_hat[1193]  y_hat[1194]  y_hat[1195]  y_hat[1196]  y_hat[1197]  \\\n",
       "0     0.145352     1.301860     0.564560     -1.21250    -0.389078   \n",
       "1    -0.778612     0.277742     0.168490     -1.67440     0.174477   \n",
       "2     0.292691    -1.341310     1.850590     -1.33942    -0.497916   \n",
       "3     0.009975     0.092017    -1.867710     -0.53380    -0.372599   \n",
       "4     0.058766    -0.462259    -0.745824     -1.13101    -1.661160   \n",
       "\n",
       "   y_hat[1198]  y_hat[1199]  y_hat[1200]  \n",
       "0    -1.200030    -0.456206     0.268307  \n",
       "1    -2.152040    -2.630240    -0.415104  \n",
       "2     0.081246    -1.304950    -0.643495  \n",
       "3    -2.414060    -1.006450     1.627080  \n",
       "4     0.229136    -1.121090    -0.191899  \n",
       "\n",
       "[5 rows x 2409 columns]"
      ]
     },
     "execution_count": 64,
     "metadata": {},
     "output_type": "execute_result"
    }
   ],
   "source": [
    "mod3 = sim3.draws_pd()\n",
    "mod3.head()"
   ]
  },
  {
   "cell_type": "code",
   "execution_count": 65,
   "metadata": {},
   "outputs": [
    {
     "name": "stderr",
     "output_type": "stream",
     "text": [
      "INFO:cmdstanpy:found newer exe file, not recompiling\n"
     ]
    },
    {
     "name": "stderr",
     "output_type": "stream",
     "text": [
      "INFO:cmdstanpy:CmdStan start processing\n",
      "chain 1 |\u001b[34m██████████\u001b[0m| 00:00 Sampling completed                       "
     ]
    },
    {
     "name": "stdout",
     "output_type": "stream",
     "text": [
      "                                                                                "
     ]
    },
    {
     "name": "stderr",
     "output_type": "stream",
     "text": [
      "\n",
      "INFO:cmdstanpy:CmdStan done processing.\n"
     ]
    },
    {
     "name": "stdout",
     "output_type": "stream",
     "text": [
      "\n"
     ]
    }
   ],
   "source": [
    "model4 = CmdStanModel(stan_file='code_4.stan')\n",
    "R = 1000\n",
    "sim4=model4.sample(data={'N': N, 'y': mod1.iloc[0, -N:]},\n",
    "iter_sampling=R,\n",
    "iter_warmup=1,\n",
    "chains=1,\n",
    ")"
   ]
  },
  {
   "cell_type": "code",
   "execution_count": 66,
   "metadata": {},
   "outputs": [
    {
     "data": {
      "text/html": [
       "<div>\n",
       "<style scoped>\n",
       "    .dataframe tbody tr th:only-of-type {\n",
       "        vertical-align: middle;\n",
       "    }\n",
       "\n",
       "    .dataframe tbody tr th {\n",
       "        vertical-align: top;\n",
       "    }\n",
       "\n",
       "    .dataframe thead th {\n",
       "        text-align: right;\n",
       "    }\n",
       "</style>\n",
       "<table border=\"1\" class=\"dataframe\">\n",
       "  <thead>\n",
       "    <tr style=\"text-align: right;\">\n",
       "      <th></th>\n",
       "      <th>lp__</th>\n",
       "      <th>accept_stat__</th>\n",
       "      <th>stepsize__</th>\n",
       "      <th>treedepth__</th>\n",
       "      <th>n_leapfrog__</th>\n",
       "      <th>divergent__</th>\n",
       "      <th>energy__</th>\n",
       "      <th>sigma</th>\n",
       "      <th>mu</th>\n",
       "      <th>nu</th>\n",
       "      <th>...</th>\n",
       "      <th>y_hat[1191]</th>\n",
       "      <th>y_hat[1192]</th>\n",
       "      <th>y_hat[1193]</th>\n",
       "      <th>y_hat[1194]</th>\n",
       "      <th>y_hat[1195]</th>\n",
       "      <th>y_hat[1196]</th>\n",
       "      <th>y_hat[1197]</th>\n",
       "      <th>y_hat[1198]</th>\n",
       "      <th>y_hat[1199]</th>\n",
       "      <th>y_hat[1200]</th>\n",
       "    </tr>\n",
       "  </thead>\n",
       "  <tbody>\n",
       "    <tr>\n",
       "      <th>0</th>\n",
       "      <td>-2045.15</td>\n",
       "      <td>0.0</td>\n",
       "      <td>14.3855</td>\n",
       "      <td>0.0</td>\n",
       "      <td>1.0</td>\n",
       "      <td>1.0</td>\n",
       "      <td>2046.74</td>\n",
       "      <td>0.874807</td>\n",
       "      <td>0.283906</td>\n",
       "      <td>1.09503</td>\n",
       "      <td>...</td>\n",
       "      <td>1.026010</td>\n",
       "      <td>7.350530</td>\n",
       "      <td>-0.058766</td>\n",
       "      <td>-1.538170</td>\n",
       "      <td>1.669270</td>\n",
       "      <td>-0.498687</td>\n",
       "      <td>-0.079872</td>\n",
       "      <td>-1.654370</td>\n",
       "      <td>14.563900</td>\n",
       "      <td>0.910366</td>\n",
       "    </tr>\n",
       "    <tr>\n",
       "      <th>1</th>\n",
       "      <td>-2045.15</td>\n",
       "      <td>0.0</td>\n",
       "      <td>14.3855</td>\n",
       "      <td>0.0</td>\n",
       "      <td>1.0</td>\n",
       "      <td>1.0</td>\n",
       "      <td>2048.48</td>\n",
       "      <td>0.874807</td>\n",
       "      <td>0.283906</td>\n",
       "      <td>1.09503</td>\n",
       "      <td>...</td>\n",
       "      <td>0.048885</td>\n",
       "      <td>-1.331280</td>\n",
       "      <td>0.094214</td>\n",
       "      <td>1.105590</td>\n",
       "      <td>-0.397273</td>\n",
       "      <td>-0.584737</td>\n",
       "      <td>-6.088810</td>\n",
       "      <td>2.050450</td>\n",
       "      <td>2.326840</td>\n",
       "      <td>0.341936</td>\n",
       "    </tr>\n",
       "    <tr>\n",
       "      <th>2</th>\n",
       "      <td>-2045.15</td>\n",
       "      <td>0.0</td>\n",
       "      <td>14.3855</td>\n",
       "      <td>0.0</td>\n",
       "      <td>1.0</td>\n",
       "      <td>1.0</td>\n",
       "      <td>2045.78</td>\n",
       "      <td>0.874807</td>\n",
       "      <td>0.283906</td>\n",
       "      <td>1.09503</td>\n",
       "      <td>...</td>\n",
       "      <td>0.545824</td>\n",
       "      <td>0.185261</td>\n",
       "      <td>0.627087</td>\n",
       "      <td>1.977200</td>\n",
       "      <td>0.880487</td>\n",
       "      <td>8.437440</td>\n",
       "      <td>-3.156550</td>\n",
       "      <td>-0.693901</td>\n",
       "      <td>-0.053377</td>\n",
       "      <td>0.260268</td>\n",
       "    </tr>\n",
       "    <tr>\n",
       "      <th>3</th>\n",
       "      <td>-2045.15</td>\n",
       "      <td>0.0</td>\n",
       "      <td>14.3855</td>\n",
       "      <td>0.0</td>\n",
       "      <td>1.0</td>\n",
       "      <td>1.0</td>\n",
       "      <td>2045.99</td>\n",
       "      <td>0.874807</td>\n",
       "      <td>0.283906</td>\n",
       "      <td>1.09503</td>\n",
       "      <td>...</td>\n",
       "      <td>-0.741434</td>\n",
       "      <td>-0.060127</td>\n",
       "      <td>-0.106433</td>\n",
       "      <td>-0.164706</td>\n",
       "      <td>-0.977553</td>\n",
       "      <td>-4.568660</td>\n",
       "      <td>-0.831405</td>\n",
       "      <td>-3.052220</td>\n",
       "      <td>0.852024</td>\n",
       "      <td>-1.508280</td>\n",
       "    </tr>\n",
       "    <tr>\n",
       "      <th>4</th>\n",
       "      <td>-2045.15</td>\n",
       "      <td>0.0</td>\n",
       "      <td>14.3855</td>\n",
       "      <td>0.0</td>\n",
       "      <td>1.0</td>\n",
       "      <td>1.0</td>\n",
       "      <td>2045.26</td>\n",
       "      <td>0.874807</td>\n",
       "      <td>0.283906</td>\n",
       "      <td>1.09503</td>\n",
       "      <td>...</td>\n",
       "      <td>3.585540</td>\n",
       "      <td>1.007230</td>\n",
       "      <td>1.560900</td>\n",
       "      <td>-0.366170</td>\n",
       "      <td>1.068020</td>\n",
       "      <td>0.522098</td>\n",
       "      <td>7.486480</td>\n",
       "      <td>-4.052540</td>\n",
       "      <td>1.008390</td>\n",
       "      <td>-0.311848</td>\n",
       "    </tr>\n",
       "  </tbody>\n",
       "</table>\n",
       "<p>5 rows × 2410 columns</p>\n",
       "</div>"
      ],
      "text/plain": [
       "      lp__  accept_stat__  stepsize__  treedepth__  n_leapfrog__  divergent__  \\\n",
       "0 -2045.15            0.0     14.3855          0.0           1.0          1.0   \n",
       "1 -2045.15            0.0     14.3855          0.0           1.0          1.0   \n",
       "2 -2045.15            0.0     14.3855          0.0           1.0          1.0   \n",
       "3 -2045.15            0.0     14.3855          0.0           1.0          1.0   \n",
       "4 -2045.15            0.0     14.3855          0.0           1.0          1.0   \n",
       "\n",
       "   energy__     sigma        mu       nu  ...  y_hat[1191]  y_hat[1192]  \\\n",
       "0   2046.74  0.874807  0.283906  1.09503  ...     1.026010     7.350530   \n",
       "1   2048.48  0.874807  0.283906  1.09503  ...     0.048885    -1.331280   \n",
       "2   2045.78  0.874807  0.283906  1.09503  ...     0.545824     0.185261   \n",
       "3   2045.99  0.874807  0.283906  1.09503  ...    -0.741434    -0.060127   \n",
       "4   2045.26  0.874807  0.283906  1.09503  ...     3.585540     1.007230   \n",
       "\n",
       "   y_hat[1193]  y_hat[1194]  y_hat[1195]  y_hat[1196]  y_hat[1197]  \\\n",
       "0    -0.058766    -1.538170     1.669270    -0.498687    -0.079872   \n",
       "1     0.094214     1.105590    -0.397273    -0.584737    -6.088810   \n",
       "2     0.627087     1.977200     0.880487     8.437440    -3.156550   \n",
       "3    -0.106433    -0.164706    -0.977553    -4.568660    -0.831405   \n",
       "4     1.560900    -0.366170     1.068020     0.522098     7.486480   \n",
       "\n",
       "   y_hat[1198]  y_hat[1199]  y_hat[1200]  \n",
       "0    -1.654370    14.563900     0.910366  \n",
       "1     2.050450     2.326840     0.341936  \n",
       "2    -0.693901    -0.053377     0.260268  \n",
       "3    -3.052220     0.852024    -1.508280  \n",
       "4    -4.052540     1.008390    -0.311848  \n",
       "\n",
       "[5 rows x 2410 columns]"
      ]
     },
     "execution_count": 66,
     "metadata": {},
     "output_type": "execute_result"
    }
   ],
   "source": [
    "mod4 = sim4.draws_pd()\n",
    "mod4.head()"
   ]
  },
  {
   "cell_type": "code",
   "execution_count": 67,
   "metadata": {},
   "outputs": [],
   "source": [
    "comp_dict = {'m3': sim3, 'm4': sim4}\n",
    "comp = az.compare(comp_dict, ic='waic', scale='deviance')"
   ]
  },
  {
   "cell_type": "code",
   "execution_count": 68,
   "metadata": {},
   "outputs": [
    {
     "data": {
      "image/png": "[encoded data removed]",
      "text/plain": [
       "<Figure size 432x144 with 1 Axes>"
      ]
     },
     "metadata": {
      "needs_background": "light"
     },
     "output_type": "display_data"
    }
   ],
   "source": [
    "az.plot_compare(comp)\n",
    "plt.grid()\n",
    "plt.show()"
   ]
  },
  {
   "cell_type": "code",
   "execution_count": 69,
   "metadata": {},
   "outputs": [
    {
     "name": "stderr",
     "output_type": "stream",
     "text": [
      "/usr/local/lib/python3.12/site-packages/arviz/stats/stats.py:811: UserWarning: Estimated shape parameter of Pareto distribution is greater than 0.7 for one or more samples. You should consider using a more robust model, this is because importance sampling is less likely to work well if the marginal posterior and LOO posterior are very different. This is more likely to happen with a non-robust model and highly influential observations.\n",
      "  warnings.warn(\n",
      "/usr/local/lib/python3.12/site-packages/arviz/stats/stats.py:811: UserWarning: Estimated shape parameter of Pareto distribution is greater than 0.7 for one or more samples. You should consider using a more robust model, this is because importance sampling is less likely to work well if the marginal posterior and LOO posterior are very different. This is more likely to happen with a non-robust model and highly influential observations.\n",
      "  warnings.warn(\n"
     ]
    }
   ],
   "source": [
    "comp = az.compare(comp_dict, ic='loo', scale='deviance')"
   ]
  },
  {
   "cell_type": "code",
   "execution_count": 70,
   "metadata": {},
   "outputs": [
    {
     "data": {
      "image/png": "[encoded data removed]",
      "text/plain": [
       "<Figure size 432x144 with 1 Axes>"
      ]
     },
     "metadata": {
      "needs_background": "light"
     },
     "output_type": "display_data"
    }
   ],
   "source": [
    "az.plot_compare(comp)\n",
    "plt.grid()\n",
    "plt.show()"
   ]
  },
  {
   "cell_type": "code",
   "execution_count": null,
   "metadata": {},
   "outputs": [],
   "source": [
    "model5 = CmdStanModel(stan_file='code_5.stan')\n",
    "\n",
    "X = mod2.iloc[0, 2:-N-3].values.reshape((-1, 3))\n",
    "\n",
    "N = 1200  \n",
    "X = X[:N]  \n",
    "\n",
    "R = 1000\n",
    "\n",
    "sim5_1=model5.sample(data={'N': N, 'K': 1, 'y': mod2.iloc[0, -N:], 'X': X[:,:1]},\n",
    "iter_sampling=R,\n",
    "iter_warmup=1,\n",
    "chains=1,\n",
    "show_console=True\n",
    ")\n",
    "\n",
    "sim5_2=model5.sample(data={'N': N, 'K': 2, 'y': mod2.iloc[0, -N:], 'X': X[:,:2]},\n",
    "iter_sampling=R,\n",
    "iter_warmup=1,\n",
    "chains=1,\n",
    "show_console=True\n",
    ")\n",
    "\n",
    "sim5_3=model5.sample(data={'N': N, 'K': 3, 'y': mod2.iloc[0, -N:], 'X': X},\n",
    "iter_sampling=R,\n",
    "iter_warmup=1,\n",
    "chains=1,\n",
    "show_console=True\n",
    ")\n",
    "\n",
    "print('1 predictor:', sim5_1.draws_pd().head(),'2 predictors:', sim5_2.draws_pd().head().head())"
   ]
  },
  {
   "cell_type": "code",
   "execution_count": 72,
   "metadata": {},
   "outputs": [
    {
     "name": "stderr",
     "output_type": "stream",
     "text": [
      "/usr/local/lib/python3.12/site-packages/arviz/stats/stats.py:811: UserWarning: Estimated shape parameter of Pareto distribution is greater than 0.7 for one or more samples. You should consider using a more robust model, this is because importance sampling is less likely to work well if the marginal posterior and LOO posterior are very different. This is more likely to happen with a non-robust model and highly influential observations.\n",
      "  warnings.warn(\n",
      "/usr/local/lib/python3.12/site-packages/arviz/stats/stats.py:811: UserWarning: Estimated shape parameter of Pareto distribution is greater than 0.7 for one or more samples. You should consider using a more robust model, this is because importance sampling is less likely to work well if the marginal posterior and LOO posterior are very different. This is more likely to happen with a non-robust model and highly influential observations.\n",
      "  warnings.warn(\n",
      "/usr/local/lib/python3.12/site-packages/arviz/stats/stats.py:811: UserWarning: Estimated shape parameter of Pareto distribution is greater than 0.7 for one or more samples. You should consider using a more robust model, this is because importance sampling is less likely to work well if the marginal posterior and LOO posterior are very different. This is more likely to happen with a non-robust model and highly influential observations.\n",
      "  warnings.warn(\n"
     ]
    }
   ],
   "source": [
    "comp_dict = {'m5 - 1 predictor': sim5_1, 'm5 - 2 predictors': sim5_2, 'm5 - 3 predictors': sim5_3}\n",
    "comp = az.compare(comp_dict, ic='loo', scale='deviance')"
   ]
  },
  {
   "cell_type": "code",
   "execution_count": 73,
   "metadata": {},
   "outputs": [
    {
     "data": {
      "image/png": "[encoded data removed]",
      "text/plain": [
       "<Figure size 432x216 with 1 Axes>"
      ]
     },
     "metadata": {
      "needs_background": "light"
     },
     "output_type": "display_data"
    }
   ],
   "source": [
    "az.plot_compare(comp)\n",
    "plt.grid()\n",
    "plt.show()"
   ]
  },
  {
   "cell_type": "code",
   "execution_count": 74,
   "metadata": {},
   "outputs": [
    {
     "data": {
      "image/png": "[encoded data removed]",
      "text/plain": [
       "<Figure size 432x216 with 1 Axes>"
      ]
     },
     "metadata": {
      "needs_background": "light"
     },
     "output_type": "display_data"
    }
   ],
   "source": [
    "comp = az.compare(comp_dict, ic='waic', scale='deviance')\n",
    "az.plot_compare(comp)\n",
    "plt.grid()\n",
    "plt.show()"
   ]
  }
 ],
 "metadata": {
  "kernelspec": {
   "display_name": "Python 3",
   "language": "python",
   "name": "python3"
  },
  "language_info": {
   "codemirror_mode": {
    "name": "ipython",
    "version": 3
   },
   "file_extension": ".py",
   "mimetype": "text/x-python",
   "name": "python",
   "nbconvert_exporter": "python",
   "pygments_lexer": "ipython3",
   "version": "3.12.2"
  }
 },
 "nbformat": 4,
 "nbformat_minor": 2
}
