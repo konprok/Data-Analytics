{
 "cells": [
  {
   "cell_type": "code",
   "execution_count": null,
   "metadata": {},
   "outputs": [],
   "source": [
    "from cmdstanpy import CmdStanModel\n",
    "import pandas as pd\n",
    "import arviz as az \n",
    "import numpy as np\n",
    "import matplotlib.pyplot as plt\n",
    "import scipy.stats as stats"
   ]
  },
  {
   "cell_type": "code",
   "execution_count": null,
   "metadata": {},
   "outputs": [],
   "source": [
    "#Stan model\n",
    "model = CmdStanModel(stan_file='ex1.stan')\n",
    "\n",
    "# 5. genarated 1000 samples\n",
    "samples = model.sample(fixed_param=True, iter_sampling=1000, iter_warmup=1, chains=1)\n",
    "y_draws = samples.stan_variable('y')\n",
    "\n",
    "# 6.Compute ratio of allergic reactions\n",
    "ratios = y_draws / 50  # Since N is fixed at 50\n",
    "\n",
    "# Histogram\n",
    "plt.hist(ratios, bins=30, density=True, alpha=0.5, color='b')\n",
    "plt.xlabel('Ratio of Allergic Reactions')\n",
    "plt.ylabel('Density')\n",
    "plt.title('Ratio of Allergic Reactions')\n",
    "plt.show()"
   ]
  },
  {
   "cell_type": "code",
   "execution_count": null,
   "metadata": {},
   "outputs": [],
   "source": [
    "data = {'N': 50, 'y': 7}  \n",
    "\n",
    "# Stan model\n",
    "model = CmdStanModel(stan_file='ex2.stan')\n",
    "\n",
    "samples = model.sample(data=data, chains=4)\n",
    "\n",
    "# 3.\n",
    "y_pred = samples.stan_variable('y_pred')\n",
    "ratios = y_pred / data['N']\n",
    "\n",
    "# 3.Histogram\n",
    "plt.hist(ratios, bins=30, density=True, alpha=0.5, color='b')\n",
    "plt.xlabel('Ratio of Predicted Allergic Reactions')\n",
    "plt.ylabel('Density')\n",
    "plt.title('Predicted Allergic Reaction Ratios')\n",
    "plt.show()\n",
    "\n",
    "# 4. Compute the expected value and 94% density interval\n",
    "summary = az.summary(samples, var_names=['p', 'y_pred'], hdi_prob=0.94)\n",
    "print(summary)\n",
    "expected_p = summary.loc['p', 'mean']\n",
    "hdi_low, hdi_high = summary.loc['y_pred', ['hdi_3%', 'hdi_97%']] / data['N']\n",
    "print(f\"94% density interval of predicted ratio: [{hdi_low}, {hdi_high}]\")\n",
    "\n",
    "# 4. Compare it with expected value and 94% density interval of parameter p\n",
    "print(f\"Expected value of p: {expected_p}\")\n",
    "print(f\"94% density interval of parameter p: [{summary.loc['p', 'hdi_3%']}, {summary.loc['p', 'hdi_97%']}]\")\n",
    "\n",
    "# 5. Compute the probability that ratio is lower than the average probability from traditional vaccines\n",
    "average_probability_traditional = 0.1\n",
    "probability_lower = np.mean(ratios < average_probability_traditional)\n",
    "print(f\"Probability that ratio is lower than the average from traditional vaccines: {probability_lower}\")"
   ]
  }
 ],
 "metadata": {
  "language_info": {
   "name": "python"
  }
 },
 "nbformat": 4,
 "nbformat_minor": 2
}
