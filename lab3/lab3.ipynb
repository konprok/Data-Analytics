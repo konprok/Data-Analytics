{
 "cells": [
  {
   "cell_type": "markdown",
   "metadata": {},
   "source": [
    "# Data Analytics - Lab 3 - Prior and Posterior predictive distributions\n",
    "\n",
    "<span style=\"font-size: 20px;\">\n",
    "Konrad Prokop, 408687\n",
    "</span>"
   ]
  },
  {
   "cell_type": "code",
   "execution_count": 118,
   "metadata": {},
   "outputs": [],
   "source": [
    "from cmdstanpy import CmdStanModel\n",
    "import pandas as pd\n",
    "import arviz as az \n",
    "import numpy as np\n",
    "import matplotlib.pyplot as plt\n",
    "import scipy.stats as stats"
   ]
  },
  {
   "cell_type": "markdown",
   "metadata": {},
   "source": [
    "## Excercise 1 - Modeling prior predictive distribution"
   ]
  },
  {
   "cell_type": "code",
   "execution_count": 119,
   "metadata": {},
   "outputs": [
    {
     "name": "stderr",
     "output_type": "stream",
     "text": [
      "INFO:cmdstanpy:compiling stan file /GA/Data-Analytics/lab3/code_1.stan to exe file /GA/Data-Analytics/lab3/code_1\n"
     ]
    },
    {
     "name": "stderr",
     "output_type": "stream",
     "text": [
      "INFO:cmdstanpy:compiled model executable: /GA/Data-Analytics/lab3/code_1\n",
      "INFO:cmdstanpy:CmdStan start processing\n",
      "chain 1 |\u001b[34m██████████\u001b[0m| 00:00 Sampling completed"
     ]
    },
    {
     "name": "stdout",
     "output_type": "stream",
     "text": [
      "                                                                                "
     ]
    },
    {
     "name": "stderr",
     "output_type": "stream",
     "text": [
      "\n",
      "INFO:cmdstanpy:CmdStan done processing.\n"
     ]
    },
    {
     "name": "stdout",
     "output_type": "stream",
     "text": [
      "\n"
     ]
    },
    {
     "data": {
      "image/png": "[encoded data removed]",
      "text/plain": [
       "<Figure size 432x288 with 1 Axes>"
      ]
     },
     "metadata": {
      "needs_background": "light"
     },
     "output_type": "display_data"
    }
   ],
   "source": [
    "#Stan model\n",
    "model = CmdStanModel(stan_file='code_1.stan')\n",
    "\n",
    "# 5. genarated 1000 samples\n",
    "samples = model.sample(fixed_param=True, iter_sampling=1000, iter_warmup=1, chains=1)\n",
    "y_draws = samples.stan_variable('y')\n",
    "\n",
    "# 6.Compute ratio of allergic reactions\n",
    "ratios = y_draws / 50  # Since N is fixed at 50\n",
    "\n",
    "# Histogram\n",
    "plt.hist(ratios, bins=30, density=True, alpha=0.5, color='b')\n",
    "plt.xlabel('Ratio of Allergic Reactions')\n",
    "plt.ylabel('Density')\n",
    "plt.title('Ratio of Allergic Reactions')\n",
    "plt.show()"
   ]
  },
  {
   "cell_type": "markdown",
   "metadata": {},
   "source": [
    "## Excercise 2 - Modeling posterior and posterior predictive distribution"
   ]
  },
  {
   "cell_type": "code",
   "execution_count": 120,
   "metadata": {},
   "outputs": [
    {
     "name": "stderr",
     "output_type": "stream",
     "text": [
      "INFO:cmdstanpy:compiling stan file /GA/Data-Analytics/lab3/code_2.stan to exe file /GA/Data-Analytics/lab3/code_2\n"
     ]
    },
    {
     "name": "stderr",
     "output_type": "stream",
     "text": [
      "INFO:cmdstanpy:compiled model executable: /GA/Data-Analytics/lab3/code_2\n",
      "INFO:cmdstanpy:CmdStan start processing\n",
      "chain 1 |\u001b[33m          \u001b[0m| 00:00 Status\n",
      "\u001b[A\n",
      "\n",
      "chain 1 |\u001b[34m██████████\u001b[0m| 00:00 Sampling completed\n",
      "chain 2 |\u001b[34m██████████\u001b[0m| 00:00 Sampling completed\n",
      "chain 3 |\u001b[34m██████████\u001b[0m| 00:00 Sampling completed\n",
      "chain 4 |\u001b[34m██████████\u001b[0m| 00:00 Sampling completed"
     ]
    },
    {
     "name": "stdout",
     "output_type": "stream",
     "text": [
      "                                                                                                                                                                                                                                                                                                                                "
     ]
    },
    {
     "name": "stderr",
     "output_type": "stream",
     "text": [
      "\n",
      "INFO:cmdstanpy:CmdStan done processing.\n"
     ]
    },
    {
     "name": "stdout",
     "output_type": "stream",
     "text": [
      "\n"
     ]
    },
    {
     "data": {
      "image/png": "[encoded data removed]",
      "text/plain": [
       "<Figure size 432x288 with 1 Axes>"
      ]
     },
     "metadata": {
      "needs_background": "light"
     },
     "output_type": "display_data"
    },
    {
     "name": "stdout",
     "output_type": "stream",
     "text": [
      "         mean     sd  hdi_3%  hdi_97%  mcse_mean  mcse_sd  ess_bulk  ess_tail  \\\n",
      "p       0.152  0.050   0.061    0.241      0.001    0.001    1525.0    1735.0   \n",
      "y_pred  7.609  3.561   2.000   14.000      0.077    0.054    2116.0    2910.0   \n",
      "\n",
      "        r_hat  \n",
      "p         1.0  \n",
      "y_pred    1.0  \n",
      "94% density interval of predicted ratio: [0.04, 0.28]\n",
      "Expected value of p: 0.152\n",
      "94% density interval of parameter p: [0.061, 0.241]\n",
      "Probability that ratio is lower than the average from traditional vaccines: 0.1985\n"
     ]
    }
   ],
   "source": [
    "data = {'N': 50, 'y': 7}  \n",
    "\n",
    "model = CmdStanModel(stan_file='code_2.stan')\n",
    "\n",
    "samples = model.sample(data=data, chains=4)\n",
    "\n",
    "y_pred = samples.stan_variable('y_pred')\n",
    "ratios = y_pred / data['N']\n",
    "\n",
    "plt.hist(ratios, bins=30, density=True, alpha=0.5, color='b')\n",
    "plt.xlabel('Ratio of Predicted Allergic Reactions')\n",
    "plt.ylabel('Density')\n",
    "plt.title('Predicted Allergic Reaction Ratios')\n",
    "plt.show()\n",
    "\n",
    "summary = az.summary(samples, var_names=['p', 'y_pred'], hdi_prob=0.94)\n",
    "print(summary)\n",
    "expected_p = summary.loc['p', 'mean']\n",
    "hdi_low, hdi_high = summary.loc['y_pred', ['hdi_3%', 'hdi_97%']] / data['N']\n",
    "print(f\"94% density interval of predicted ratio: [{hdi_low}, {hdi_high}]\")\n",
    "print(f\"Expected value of p: {expected_p}\")\n",
    "print(f\"94% density interval of parameter p: [{summary.loc['p', 'hdi_3%']}, {summary.loc['p', 'hdi_97%']}]\")\n",
    "\n",
    "average_probability_traditional = 0.1\n",
    "probability_lower = np.mean(ratios < average_probability_traditional)\n",
    "print(f\"Probability that ratio is lower than the average from traditional vaccines: {probability_lower}\")"
   ]
  }
 ],
 "metadata": {
  "kernelspec": {
   "display_name": "Python 3",
   "language": "python",
   "name": "python3"
  },
  "language_info": {
   "codemirror_mode": {
    "name": "ipython",
    "version": 3
   },
   "file_extension": ".py",
   "mimetype": "text/x-python",
   "name": "python",
   "nbconvert_exporter": "python",
   "pygments_lexer": "ipython3",
   "version": "3.12.2"
  }
 },
 "nbformat": 4,
 "nbformat_minor": 2
}
